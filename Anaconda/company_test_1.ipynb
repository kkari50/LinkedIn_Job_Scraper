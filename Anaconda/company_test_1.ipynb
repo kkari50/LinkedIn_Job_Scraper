{
 "cells": [
  {
   "cell_type": "code",
   "execution_count": 1,
   "metadata": {},
   "outputs": [],
   "source": [
    "from lxml import html\n",
    "import requests\n",
    "import random\n",
    "from time import sleep\n",
    "import pandas as pd\n",
    "import pyodbc\n",
    "import datetime"
   ]
  },
  {
   "cell_type": "code",
   "execution_count": 2,
   "metadata": {},
   "outputs": [],
   "source": [
    "from selenium import webdriver\n",
    "from selenium.webdriver.common.keys import Keys"
   ]
  },
  {
   "cell_type": "code",
   "execution_count": 3,
   "metadata": {},
   "outputs": [],
   "source": [
    "driver_path = \"C:\\\\Users\\\\kkari\\\\Desktop\\\\dev\\\\LinkedIn_extractor\\\\chromedriver.exe\"\n",
    "browser = webdriver.Chrome(driver_path)"
   ]
  },
  {
   "cell_type": "code",
   "execution_count": 4,
   "metadata": {},
   "outputs": [],
   "source": [
    "browser.get('https://www.linkedin.com/jobs')"
   ]
  },
  {
   "cell_type": "code",
   "execution_count": 5,
   "metadata": {},
   "outputs": [],
   "source": [
    "uri = \"https://www.linkedin.com/directory/companies/a\"\n",
    "alphabets = ['a','b','c','d','e','f','g','h','i','j','k','l','m','n','o','p','q','r','s','t','u','v','w','x','y','z','#']"
   ]
  },
  {
   "cell_type": "code",
   "execution_count": 6,
   "metadata": {},
   "outputs": [],
   "source": [
    "browser.get(uri)"
   ]
  },
  {
   "cell_type": "code",
   "execution_count": 7,
   "metadata": {},
   "outputs": [],
   "source": [
    "alpha = alphabets[0]\n",
    "no_pages_eles = browser.find_elements_by_class_name('bucket-list')\n",
    "# count_pages = no_pages.find_elements_by_tag_name(\"type\")"
   ]
  },
  {
   "cell_type": "code",
   "execution_count": 8,
   "metadata": {},
   "outputs": [
    {
     "name": "stdout",
     "output_type": "stream",
     "text": [
      "['1', '2', '3', '4', '5', '6', '7', '8', '9', '10', '11', '12', '13', '14', '15', '16', '17', '18', '19', '20', '21', '22', '23', '24', '25', '26', '27', '28', '29', '30', '31', '32', '33', '34', '35', '36', '37', '38', '39', '40', '41', '42', '43', '44', '45', '46', '47', '48', '49', '50', '51', '52', '53', '54', '55', '56', '57', '58', '59', '60', '61', '62', '63', '64', '65', '66', '67', '68', '69', '70', '71', '72', '73', '74', '75', '76', '77', '78', '79', '80', '81', '82', '83', '84', '85', '86', '87', '88', '89', '90', '91', '92', '93', '94', '95', '96', '97', '98', '99', '100', '101', '102', '103', '104', '105', '106', '107', '108', '109', '110', '111', '112', '113', '114', '115', '116', '117', '118', '119', '120', '121', '122', '123', '124', '125', '126', '127', '128', '129', '130', '131', '132', '133', '134', '135', '136', '137', '138', '139', '140', '141', '142', '143', '144', '145', '146', '147', '148']\n",
      "148\n"
     ]
    }
   ],
   "source": [
    "if len(no_pages_eles)>1:\n",
    "    req_list = no_pages_eles[-1]\n",
    "    pages_nos = []\n",
    "#     print(req_list.text)\n",
    "    items  = req_list.find_elements_by_class_name('bucket-item')\n",
    "    for item in items:\n",
    "        pages_nos.append(item.text)\n",
    "#         print(item.text)\n",
    "\n",
    "print (pages_nos)\n",
    "\n",
    "# if int(pages_nos[-1])>0:\n",
    "print (int(pages_nos[-1]))\n",
    "        \n",
    "    \n",
    "#     for ele in no_pages_eles:\n",
    "#     #     x = sec.find_element_by_tag_name(\"type\")\n",
    "#         val = ele.get_attribute('type')\n",
    "#         print(val)\n",
    "#     #     for sub_sec in x:\n",
    "#     #         print (sub_sec.text)"
   ]
  },
  {
   "cell_type": "code",
   "execution_count": 10,
   "metadata": {},
   "outputs": [
    {
     "data": {
      "text/plain": [
       "'https://www.linkedin.com/directory/companies/a-1'"
      ]
     },
     "execution_count": 10,
     "metadata": {},
     "output_type": "execute_result"
    }
   ],
   "source": [
    "# sub_uri_list = []\n",
    "# for page_no in pages_nos:\n",
    "#     sub_uri_list.append(uri + \"-\" + page_no)\n",
    "# for page_uri in sub_uri_list:\n",
    "#     browser.get(page_uri)\n",
    "sub_uri = uri + \"-\" + pages_nos[0]\n",
    "sub_uri"
   ]
  },
  {
   "cell_type": "code",
   "execution_count": 11,
   "metadata": {},
   "outputs": [],
   "source": [
    "browser.get(sub_uri)"
   ]
  },
  {
   "cell_type": "code",
   "execution_count": 13,
   "metadata": {},
   "outputs": [
    {
     "name": "stdout",
     "output_type": "stream",
     "text": [
      "2000\n"
     ]
    }
   ],
   "source": [
    "company_links_in_page = browser.find_elements_by_class_name('content')\n",
    "company_links_in_page_list=[]\n",
    "for link in company_links_in_page:\n",
    "    company_links = link.find_element_by_tag_name('a')\n",
    "#     for company_link in company_links:\n",
    "#     print (company_links.get_attribute('href'))\n",
    "#     print (link.text)\n",
    "#      print(link.get_attribute('href'))\n",
    "    company_links_in_page_list.append(company_links.get_attribute('href'))\n",
    "\n",
    "print(len(company_links_in_page_list))"
   ]
  },
  {
   "cell_type": "code",
   "execution_count": 14,
   "metadata": {},
   "outputs": [],
   "source": [
    "browser2 = webdriver.Chrome(driver_path)"
   ]
  },
  {
   "cell_type": "code",
   "execution_count": 15,
   "metadata": {},
   "outputs": [
    {
     "name": "stdout",
     "output_type": "stream",
     "text": [
      "2000\n"
     ]
    }
   ],
   "source": [
    "print(len(company_links_in_page_list))"
   ]
  },
  {
   "cell_type": "code",
   "execution_count": 63,
   "metadata": {},
   "outputs": [
    {
     "name": "stdout",
     "output_type": "stream",
     "text": [
      "https://www.linkedin.com/company/a-caring-alternative-llc?trk=companies_directory\n"
     ]
    }
   ],
   "source": [
    "company_uri = company_links_in_page_list[random.randint(0,len(company_links_in_page_list))]\n",
    "print (company_uri)\n",
    "browser2.get(company_uri)"
   ]
  },
  {
   "cell_type": "code",
   "execution_count": 54,
   "metadata": {},
   "outputs": [],
   "source": [
    "# browser2.get(company_uri)"
   ]
  },
  {
   "cell_type": "code",
   "execution_count": 64,
   "metadata": {},
   "outputs": [
    {
     "data": {
      "text/plain": [
       "'A Caring Alternative, LLC'"
      ]
     },
     "execution_count": 64,
     "metadata": {},
     "output_type": "execute_result"
    }
   ],
   "source": [
    "company_name = browser2.find_element_by_class_name('top-card-layout__title')\n",
    "company_name.text"
   ]
  },
  {
   "cell_type": "code",
   "execution_count": 65,
   "metadata": {},
   "outputs": [
    {
     "data": {
      "text/plain": [
       "'Morganton, North Carolina 219 followers'"
      ]
     },
     "execution_count": 65,
     "metadata": {},
     "output_type": "execute_result"
    }
   ],
   "source": [
    "# company_location = \n",
    "browser2.find_element_by_class_name('top-card-layout__first-subline').text"
   ]
  },
  {
   "cell_type": "code",
   "execution_count": 66,
   "metadata": {},
   "outputs": [
    {
     "data": {
      "text/plain": [
       "'View all 113 employees'"
      ]
     },
     "execution_count": 66,
     "metadata": {},
     "output_type": "execute_result"
    }
   ],
   "source": [
    "browser2.find_element_by_class_name('top-card__right-column-link').text"
   ]
  },
  {
   "cell_type": "code",
   "execution_count": 67,
   "metadata": {},
   "outputs": [
    {
     "data": {
      "text/plain": [
       "'View all 113 employees'"
      ]
     },
     "execution_count": 67,
     "metadata": {},
     "output_type": "execute_result"
    }
   ],
   "source": [
    "browser2.find_element_by_class_name('top-card__right-column-link').get_attribute('href')\n",
    "browser2.find_element_by_class_name('top-card__right-column-link').text\n",
    "# try_except_blocks or use assign the variable in advance"
   ]
  },
  {
   "cell_type": "code",
   "execution_count": 75,
   "metadata": {},
   "outputs": [
    {
     "name": "stdout",
     "output_type": "stream",
     "text": [
      "We are a comprehensive care agency providing mental health and substance abuse services to adults, adolescents, and children in western North Carolina.\n",
      "\n",
      "As a provider of mental health and developmental disability services, we have been in business since 2006. We were founded on the belief that when people truly care and are willing to go the extra mile, we will not only improve lives, we will create success in the lives of the people we support. Time and again, we have proven that and we will continue to do so.\n",
      "\n",
      "At A Caring Alternative, personal service means access, flexibility, convenience and responsiveness. Our staff wants to understand how to best meet your mental health and/or developmental disability needs through these basic four principles.\n",
      "\n",
      "Our Mission\n",
      "\n",
      "A Caring Alternative, LLC will be the most valued and trusted agency in the community delivering mental health services and services to individuals with developmental disabilities. Through compassionate staff, who have the desire and knowledge to deliver quality services, we will strive to promote the independence of every client we serve. Keeping individuals and their families safe and comfortable in the most important place…their home and their local community.\n"
     ]
    }
   ],
   "source": [
    "import traceback\n",
    "about_us_desc = None\n",
    "try:\n",
    "    about_us_desc = browser2.find_element_by_class_name('about-us__description').text\n",
    "except Exception:\n",
    "    print (traceback.print_exc())\n",
    "    about_us_desc = None\n",
    "    \n",
    "print (about_us_desc)\n",
    "    "
   ]
  },
  {
   "cell_type": "code",
   "execution_count": null,
   "metadata": {},
   "outputs": [],
   "source": []
  },
  {
   "cell_type": "code",
   "execution_count": 72,
   "metadata": {},
   "outputs": [],
   "source": [
    " basic_info_list_ele = browser2.find_elements_by_class_name('basic-info-item')"
   ]
  },
  {
   "cell_type": "code",
   "execution_count": 73,
   "metadata": {},
   "outputs": [
    {
     "name": "stdout",
     "output_type": "stream",
     "text": [
      "http://www.caringalternative.com\n",
      "Mental Health Care\n",
      "51-200 employees\n",
      "Morganton, North Carolina\n",
      "Privately Held\n",
      "2006\n",
      "Mental Health, Substance Abuse, Children, Adolescents, and Adults, Therapy, Case Management, Psychiatric Services, Behavioral Health, Treatment\n"
     ]
    }
   ],
   "source": [
    "\n",
    "website=None\n",
    "industries = None\n",
    "company_size = None\n",
    "headquarters = None\n",
    "founded=None\n",
    "comp_type = None\n",
    "specialties = None\n",
    "\n",
    "\n",
    "\n",
    "for field in basic_info_list_ele:\n",
    "    company_criteria_header = field.find_element_by_class_name('basic-info-item__term').text\n",
    "    company_criteria_value = field.find_element_by_class_name('basic-info-item__description').text\n",
    "    \n",
    "    if company_criteria_header == 'Website':\n",
    "        website = company_criteria_value\n",
    "    elif company_criteria_header == 'Industries':\n",
    "        industries = company_criteria_value\n",
    "    elif company_criteria_header == 'Company size':\n",
    "        company_size = company_criteria_value\n",
    "    elif company_criteria_header == 'Headquarters':\n",
    "        headquarters = company_criteria_value\n",
    "    elif company_criteria_header == 'Type':\n",
    "        comp_type = company_criteria_value\n",
    "    elif company_criteria_header == 'Founded':\n",
    "        founded = company_criteria_value\n",
    "    elif company_criteria_header == 'Specialties':\n",
    "        specialties = company_criteria_value\n",
    "\n",
    "print(website)\n",
    "print(industries)\n",
    "print(company_size)\n",
    "print(headquarters)\n",
    "print(comp_type)\n",
    "print(founded)\n",
    "print(specialties)"
   ]
  },
  {
   "cell_type": "code",
   "execution_count": 74,
   "metadata": {},
   "outputs": [],
   "source": [
    "#write to csv\n",
    "csv_path  = \"C:/Users/kkari/Desktop/dev/LinkedIn_extractor/company_details/comp_details_test.csv\"\n"
   ]
  },
  {
   "cell_type": "code",
   "execution_count": null,
   "metadata": {},
   "outputs": [],
   "source": []
  }
 ],
 "metadata": {
  "kernelspec": {
   "display_name": "Python 3",
   "language": "python",
   "name": "python3"
  },
  "language_info": {
   "codemirror_mode": {
    "name": "ipython",
    "version": 3
   },
   "file_extension": ".py",
   "mimetype": "text/x-python",
   "name": "python",
   "nbconvert_exporter": "python",
   "pygments_lexer": "ipython3",
   "version": "3.6.5"
  }
 },
 "nbformat": 4,
 "nbformat_minor": 2
}
