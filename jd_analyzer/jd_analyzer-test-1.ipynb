{
 "cells": [
  {
   "cell_type": "code",
   "execution_count": 12,
   "metadata": {},
   "outputs": [],
   "source": [
    "import sqlalchemy\n",
    "import pandas as pd\n",
    "import pyodbc"
   ]
  },
  {
   "cell_type": "code",
   "execution_count": 13,
   "metadata": {},
   "outputs": [],
   "source": [
    "def read_sql_server(sql_query):\n",
    "\n",
    "    cnct = pyodbc.connect(r\"DRIVER={ODBC DRIVER 17 for SQL Server};\"\n",
    "                          r\"SERVER=BSLT-25\\ROBINHOOD1;\"\n",
    "                          r\"DATABASE=linkedin_scraper;\"\n",
    "                          r\"Trusted_Connection=yes;\", autocommit=True)\n",
    "    print('connected_to_db')\n",
    "\n",
    "    df = pd.read_sql(sql_query,cnct)\n",
    "\n",
    "    print('closing conn')\n",
    "\n",
    "    cnct.close\n",
    "\n",
    "    return df"
   ]
  },
  {
   "cell_type": "code",
   "execution_count": 14,
   "metadata": {},
   "outputs": [],
   "source": [
    "sql_0 = \"SELECT TOP(1) job_id, description FROM job_details_l3;\"\n",
    "# df = read_sql_server(sql_0)"
   ]
  },
  {
   "cell_type": "code",
   "execution_count": 15,
   "metadata": {},
   "outputs": [
    {
     "name": "stdout",
     "output_type": "stream",
     "text": [
      "connected_to_db\n",
      "closing conn\n"
     ]
    }
   ],
   "source": [
    "df = read_sql_server(sql_0)"
   ]
  },
  {
   "cell_type": "code",
   "execution_count": 16,
   "metadata": {},
   "outputs": [
    {
     "data": {
      "text/html": [
       "<div>\n",
       "<style scoped>\n",
       "    .dataframe tbody tr th:only-of-type {\n",
       "        vertical-align: middle;\n",
       "    }\n",
       "\n",
       "    .dataframe tbody tr th {\n",
       "        vertical-align: top;\n",
       "    }\n",
       "\n",
       "    .dataframe thead th {\n",
       "        text-align: right;\n",
       "    }\n",
       "</style>\n",
       "<table border=\"1\" class=\"dataframe\">\n",
       "  <thead>\n",
       "    <tr style=\"text-align: right;\">\n",
       "      <th></th>\n",
       "      <th>job_id</th>\n",
       "      <th>description</th>\n",
       "    </tr>\n",
       "  </thead>\n",
       "  <tbody>\n",
       "    <tr>\n",
       "      <th>0</th>\n",
       "      <td>1714948005</td>\n",
       "      <td>Bridge Partners is an agile and innovative con...</td>\n",
       "    </tr>\n",
       "  </tbody>\n",
       "</table>\n",
       "</div>"
      ],
      "text/plain": [
       "       job_id                                        description\n",
       "0  1714948005  Bridge Partners is an agile and innovative con..."
      ]
     },
     "execution_count": 16,
     "metadata": {},
     "output_type": "execute_result"
    }
   ],
   "source": [
    "df"
   ]
  },
  {
   "cell_type": "code",
   "execution_count": 17,
   "metadata": {},
   "outputs": [
    {
     "data": {
      "text/plain": [
       "'Bridge Partners is an agile and innovative consulting firm primarily serving large technology enterprises in marketing, sales and operations. Bridge Partners is growing rapidly, expanding nationally and wants to create a working and career development environment where our employees can be their genuine selves and allow their own natural talents and interests to contribute to the firm’s success, as well as their own.\\n\\nPosition Description \\nThe Analytics Consultant will serve the primary function of delivering strategy, products, or services that improve the ability of a client or set of clients to make data-driven decisions for our Analytics practice. This role is focused on listening to requirements from clients or internal audiences and aligning an analytical process to answer a question or describe a behavior leveraging data and tools available. The ideal candidate needs to be very familiar with various analytics tools and databases; have an area of expertise within analytics, and ideally will be able to think creatively across approaches and apply a method that aligns to the business question. You will need to have hands-on experience either building advanced analytical models (regression, machine learning, etc.) and/or direct involvement in applying the outcomes of advanced analytics models to improve or optimize a business process.\\n\\nEssential Duties and Responsibilities\\nWork directly with Bridge Partners Consulting customers as well as internal teams to construct, deliver, and optimize advanced analytics solutions. Primary responsibilities include: \\nGathering requirements from clients, asking clarifying questions to identify the business objective and constraints that may apply to the analytical process.\\nCreate architecture, process flow, and roadmap documentation to illustrate how clients can achieve analytics outcomes and objectives.\\nWork with senior cross-functional roles across an enterprise to identify key dependencies and roles/responsibilities in achieving outcomes.\\nAssist clients in prioritizing initiatives based on level of effort and expected benefit.\\nDistill raw data elements and assess importance in explaining key business outcomes, sometimes via direct data access and statistical testing/modeling.\\nDescribe benefits of various advanced analytics methodologies and assist clients in deciding on the relevant approach.\\nLeverage knowledge of open source and 3rd party products and solutions to drive development and deployment of analytical solutions and architectures\\nTrack multiple assigned projects to completion, including technical development of modeling methods.\\n\\nRequired Knowledge, Skills and Experience \\n·      6-8+ years full time experience in an analytically based function (e.g. quantitative marketing, analytics)\\n·      Strategic mindset with the ability to think broadly, refine questions and develop analytical frameworks that drive to key insights and business recommendations\\n·      Strong sense of pragmatism and business judgment to ensure insights and recommendations lead to execution, action and impact\\n·      Experience with SQL and business intelligence tools (Tableau, PowerBI, QlikSense, MicroStrategy, Looker, Cognos, Domo etc.) is required\\n·      Experience with data storage, tools and technologies is preferred.\\n·      Strong data presentation, visualization and communication skills\\n·      Familiarity with statistical programming languages and packages (SAS, SPSS, R, Python)\\n·      Effective at communicating insights and creating a story from data analysis in order to influence change\\n·      Strong attention to detail, along with organization and time management skills\\n·      Ability to build and foster productive working relationships with cross-functional teams\\n·      Self-starter who desires to discover trends and find actionable information\\n·      Bachelor’s degree in a relevant field (computer science, economics, statistics, applied math, etc.)\\n\\nDue to the high volume of applications, we are not able to respond to every resume we receive. Local Seattle Area candidates only, please. Thank you for your understanding. \\nBridge Partners LLC is an EEO Employer'"
      ]
     },
     "execution_count": 17,
     "metadata": {},
     "output_type": "execute_result"
    }
   ],
   "source": [
    "text_desc = df['description'][0]\n",
    "text_desc"
   ]
  },
  {
   "cell_type": "code",
   "execution_count": 18,
   "metadata": {},
   "outputs": [],
   "source": [
    "import nltk"
   ]
  },
  {
   "cell_type": "code",
   "execution_count": 19,
   "metadata": {},
   "outputs": [],
   "source": [
    "from nltk.tokenize import sent_tokenize\n",
    "from nltk.tokenize import word_tokenize"
   ]
  },
  {
   "cell_type": "code",
   "execution_count": 20,
   "metadata": {},
   "outputs": [
    {
     "name": "stdout",
     "output_type": "stream",
     "text": [
      "[nltk_data] Downloading package punkt to\n",
      "[nltk_data]     C:\\Users\\kkari\\AppData\\Roaming\\nltk_data...\n",
      "[nltk_data]   Package punkt is already up-to-date!\n"
     ]
    },
    {
     "data": {
      "text/plain": [
       "True"
      ]
     },
     "execution_count": 20,
     "metadata": {},
     "output_type": "execute_result"
    }
   ],
   "source": [
    "# tt = word_tokenize(text_desc)\n",
    "nltk.download('punkt')"
   ]
  },
  {
   "cell_type": "code",
   "execution_count": 21,
   "metadata": {},
   "outputs": [],
   "source": [
    "tokenized_words_text = word_tokenize(text_desc)\n",
    "# tt"
   ]
  },
  {
   "cell_type": "code",
   "execution_count": 22,
   "metadata": {},
   "outputs": [],
   "source": [
    "from nltk.probability import FreqDist"
   ]
  },
  {
   "cell_type": "code",
   "execution_count": 23,
   "metadata": {},
   "outputs": [
    {
     "data": {
      "text/plain": [
       "FreqDist({'and': 39, ',': 37, 'to': 29, '.': 22, 'of': 12, '·': 12, 'the': 10, 'in': 9, 'with': 9, 'a': 8, ...})"
      ]
     },
     "execution_count": 23,
     "metadata": {},
     "output_type": "execute_result"
    }
   ],
   "source": [
    "fdist = FreqDist(tokenized_words_text)\n",
    "fdist"
   ]
  },
  {
   "cell_type": "code",
   "execution_count": 24,
   "metadata": {},
   "outputs": [
    {
     "name": "stdout",
     "output_type": "stream",
     "text": [
      "[nltk_data] Downloading package stopwords to\n",
      "[nltk_data]     C:\\Users\\kkari\\AppData\\Roaming\\nltk_data...\n",
      "[nltk_data]   Package stopwords is already up-to-date!\n"
     ]
    },
    {
     "data": {
      "text/plain": [
       "True"
      ]
     },
     "execution_count": 24,
     "metadata": {},
     "output_type": "execute_result"
    }
   ],
   "source": [
    "from nltk.corpus import stopwords\n",
    "nltk.download('stopwords')"
   ]
  },
  {
   "cell_type": "code",
   "execution_count": 25,
   "metadata": {},
   "outputs": [
    {
     "name": "stdout",
     "output_type": "stream",
     "text": [
      "{'t', 've', 'because', 'being', 'only', 'after', 'most', 'it', 'o', 'any', \"hasn't\", \"don't\", 'how', 'while', 'was', 'during', 'having', 'more', \"doesn't\", 'd', 'off', 'is', 'itself', 'needn', 'your', 'below', 'couldn', 'shouldn', 'up', 'just', \"couldn't\", 'y', 'am', 'does', 'about', 'both', 'didn', 'them', 'he', 'wasn', 'between', 'do', 'and', 'from', 're', 'doesn', \"you'd\", 'doing', 'herself', 'through', 'are', 'at', \"you've\", 'did', \"won't\", 'ain', 'they', 'such', 'where', 'not', \"she's\", 'all', 'weren', 'ours', 'have', \"needn't\", 'with', 'into', 'what', \"didn't\", 'over', 'you', 'my', 'ourselves', 'll', 'but', 'theirs', 'against', 'down', \"haven't\", 'out', \"mightn't\", 'to', 'so', 'under', 'be', 'other', \"should've\", \"shan't\", 'ma', 'her', 'or', \"you're\", 'whom', 'yourselves', 'his', 'nor', 'too', 'an', 'if', 'who', 'its', 'now', 'as', 'above', 'hadn', \"isn't\", 'hasn', 'the', 'when', 'by', \"aren't\", 'mightn', 'she', \"you'll\", 'this', 'm', 'yours', 'a', 'again', 'haven', \"mustn't\", \"weren't\", 'until', 'myself', 'themselves', 'here', 'should', \"wouldn't\", 'some', 'shan', 'then', 'aren', 'had', 'me', 'why', 'won', 'no', 'of', 'hers', 'has', 'their', 'than', \"shouldn't\", 'before', 'few', 'for', 'which', 'yourself', 'further', 'i', 'mustn', 'on', 'himself', 'our', \"wasn't\", 'isn', 'each', 'there', 'that', 'we', 'very', 'same', 'can', \"it's\", 'in', 'will', \"hadn't\", 's', 'been', 'were', 'those', 'wouldn', 'these', \"that'll\", 'him', 'once', 'don', 'own'}\n"
     ]
    }
   ],
   "source": [
    "stop_words = set(stopwords.words(\"english\"))\n",
    "print (stop_words)"
   ]
  },
  {
   "cell_type": "code",
   "execution_count": 26,
   "metadata": {},
   "outputs": [],
   "source": [
    "\n",
    "filtered_tokenized_words = []\n",
    "for word in tokenized_words_text:\n",
    "    if word not in stop_words:\n",
    "        filtered_tokenized_words.append(word)\n",
    "        "
   ]
  },
  {
   "cell_type": "code",
   "execution_count": 27,
   "metadata": {},
   "outputs": [
    {
     "name": "stdout",
     "output_type": "stream",
     "text": [
      "655\n",
      "475\n"
     ]
    }
   ],
   "source": [
    "# print (filtered_tokenized_words)\n",
    "print ( len(tokenized_words_text))\n",
    "print(len(filtered_tokenized_words))"
   ]
  },
  {
   "cell_type": "code",
   "execution_count": 28,
   "metadata": {},
   "outputs": [],
   "source": [
    "#stemming\n",
    "from nltk.stem import PorterStemmer\n"
   ]
  },
  {
   "cell_type": "code",
   "execution_count": 29,
   "metadata": {},
   "outputs": [],
   "source": [
    "ps = PorterStemmer()"
   ]
  },
  {
   "cell_type": "code",
   "execution_count": 30,
   "metadata": {},
   "outputs": [
    {
     "name": "stdout",
     "output_type": "stream",
     "text": [
      "['bridg', 'partner', 'agil', 'innov', 'consult', 'firm', 'primarili', 'serv', 'larg', 'technolog', 'enterpris', 'market', ',', 'sale', 'oper', '.', 'bridg', 'partner', 'grow', 'rapidli', ',', 'expand', 'nation', 'want', 'creat', 'work', 'career', 'develop', 'environ', 'employe', 'genuin', 'selv', 'allow', 'natur', 'talent', 'interest', 'contribut', 'firm', '’', 'success', ',', 'well', '.', 'posit', 'descript', 'the', 'analyt', 'consult', 'serv', 'primari', 'function', 'deliv', 'strategi', ',', 'product', ',', 'servic', 'improv', 'abil', 'client', 'set', 'client', 'make', 'data-driven', 'decis', 'analyt', 'practic', '.', 'thi', 'role', 'focus', 'listen', 'requir', 'client', 'intern', 'audienc', 'align', 'analyt', 'process', 'answer', 'question', 'describ', 'behavior', 'leverag', 'data', 'tool', 'avail', '.', 'the', 'ideal', 'candid', 'need', 'familiar', 'variou', 'analyt', 'tool', 'databas', ';', 'area', 'expertis', 'within', 'analyt', ',', 'ideal', 'abl', 'think', 'creativ', 'across', 'approach', 'appli', 'method', 'align', 'busi', 'question', '.', 'you', 'need', 'hands-on', 'experi', 'either', 'build', 'advanc', 'analyt', 'model', '(', 'regress', ',', 'machin', 'learn', ',', 'etc', '.', ')', 'and/or', 'direct', 'involv', 'appli', 'outcom', 'advanc', 'analyt', 'model', 'improv', 'optim', 'busi', 'process', '.', 'essenti', 'duti', 'respons', 'work', 'directli', 'bridg', 'partner', 'consult', 'custom', 'well', 'intern', 'team', 'construct', ',', 'deliv', ',', 'optim', 'advanc', 'analyt', 'solut', '.', 'primari', 'respons', 'includ', ':', 'gather', 'requir', 'client', ',', 'ask', 'clarifi', 'question', 'identifi', 'busi', 'object', 'constraint', 'may', 'appli', 'analyt', 'process', '.', 'creat', 'architectur', ',', 'process', 'flow', ',', 'roadmap', 'document', 'illustr', 'client', 'achiev', 'analyt', 'outcom', 'object', '.', 'work', 'senior', 'cross-funct', 'role', 'across', 'enterpris', 'identifi', 'key', 'depend', 'roles/respons', 'achiev', 'outcom', '.', 'assist', 'client', 'priorit', 'initi', 'base', 'level', 'effort', 'expect', 'benefit', '.', 'distil', 'raw', 'data', 'element', 'assess', 'import', 'explain', 'key', 'busi', 'outcom', ',', 'sometim', 'via', 'direct', 'data', 'access', 'statist', 'testing/model', '.', 'describ', 'benefit', 'variou', 'advanc', 'analyt', 'methodolog', 'assist', 'client', 'decid', 'relev', 'approach', '.', 'leverag', 'knowledg', 'open', 'sourc', '3rd', 'parti', 'product', 'solut', 'drive', 'develop', 'deploy', 'analyt', 'solut', 'architectur', 'track', 'multipl', 'assign', 'project', 'complet', ',', 'includ', 'technic', 'develop', 'model', 'method', '.', 'requir', 'knowledg', ',', 'skill', 'experi', '·', '6-8+', 'year', 'full', 'time', 'experi', 'analyt', 'base', 'function', '(', 'e.g', '.', 'quantit', 'market', ',', 'analyt', ')', '·', 'strateg', 'mindset', 'abil', 'think', 'broadli', ',', 'refin', 'question', 'develop', 'analyt', 'framework', 'drive', 'key', 'insight', 'busi', 'recommend', '·', 'strong', 'sens', 'pragmat', 'busi', 'judgment', 'ensur', 'insight', 'recommend', 'lead', 'execut', ',', 'action', 'impact', '·', 'experi', 'sql', 'busi', 'intellig', 'tool', '(', 'tableau', ',', 'powerbi', ',', 'qliksens', ',', 'microstrategi', ',', 'looker', ',', 'cogno', ',', 'domo', 'etc', '.', ')', 'requir', '·', 'experi', 'data', 'storag', ',', 'tool', 'technolog', 'prefer', '.', '·', 'strong', 'data', 'present', ',', 'visual', 'commun', 'skill', '·', 'familiar', 'statist', 'program', 'languag', 'packag', '(', 'sa', ',', 'spss', ',', 'R', ',', 'python', ')', '·', 'effect', 'commun', 'insight', 'creat', 'stori', 'data', 'analysi', 'order', 'influenc', 'chang', '·', 'strong', 'attent', 'detail', ',', 'along', 'organ', 'time', 'manag', 'skill', '·', 'abil', 'build', 'foster', 'product', 'work', 'relationship', 'cross-funct', 'team', '·', 'self-start', 'desir', 'discov', 'trend', 'find', 'action', 'inform', '·', 'bachelor', '’', 'degre', 'relev', 'field', '(', 'comput', 'scienc', ',', 'econom', ',', 'statist', ',', 'appli', 'math', ',', 'etc', '.', ')', 'due', 'high', 'volum', 'applic', ',', 'abl', 'respond', 'everi', 'resum', 'receiv', '.', 'local', 'seattl', 'area', 'candid', ',', 'pleas', '.', 'thank', 'understand', '.', 'bridg', 'partner', 'llc', 'eeo', 'employ']\n"
     ]
    }
   ],
   "source": [
    "stemmed_words = []\n",
    "for w in filtered_tokenized_words:\n",
    "    stemmed_words.append(ps.stem(w))\n",
    "\n",
    "\n",
    "print(stemmed_words)"
   ]
  },
  {
   "cell_type": "code",
   "execution_count": 31,
   "metadata": {},
   "outputs": [
    {
     "name": "stdout",
     "output_type": "stream",
     "text": [
      "475\n"
     ]
    }
   ],
   "source": [
    "print (len(stemmed_words))"
   ]
  },
  {
   "cell_type": "code",
   "execution_count": 32,
   "metadata": {},
   "outputs": [],
   "source": [
    "def filtered_token_words(words_token):\n",
    "    filtered_tokenized_words = []\n",
    "    for word in tokenized_words_text:\n",
    "        if word not in stop_words:\n",
    "            filtered_tokenized_words.append(word)\n",
    "    return filtered_tokenized_words\n"
   ]
  },
  {
   "cell_type": "code",
   "execution_count": 33,
   "metadata": {},
   "outputs": [],
   "source": [
    "new_filtered = filtered_token_words(stemmed_words)"
   ]
  },
  {
   "cell_type": "code",
   "execution_count": 34,
   "metadata": {},
   "outputs": [
    {
     "name": "stdout",
     "output_type": "stream",
     "text": [
      "475\n"
     ]
    }
   ],
   "source": [
    "print(len(new_filtered))"
   ]
  },
  {
   "cell_type": "code",
   "execution_count": 35,
   "metadata": {},
   "outputs": [
    {
     "name": "stdout",
     "output_type": "stream",
     "text": [
      "['Bridge', 'Partners', 'agile', 'innovative', 'consulting', 'firm', 'primarily', 'serving', 'large', 'technology', 'enterprises', 'marketing', ',', 'sales', 'operations', '.', 'Bridge', 'Partners', 'growing', 'rapidly', ',', 'expanding', 'nationally', 'wants', 'create', 'working', 'career', 'development', 'environment', 'employees', 'genuine', 'selves', 'allow', 'natural', 'talents', 'interests', 'contribute', 'firm', '’', 'success', ',', 'well', '.', 'Position', 'Description', 'The', 'Analytics', 'Consultant', 'serve', 'primary', 'function', 'delivering', 'strategy', ',', 'products', ',', 'services', 'improve', 'ability', 'client', 'set', 'clients', 'make', 'data-driven', 'decisions', 'Analytics', 'practice', '.', 'This', 'role', 'focused', 'listening', 'requirements', 'clients', 'internal', 'audiences', 'aligning', 'analytical', 'process', 'answer', 'question', 'describe', 'behavior', 'leveraging', 'data', 'tools', 'available', '.', 'The', 'ideal', 'candidate', 'needs', 'familiar', 'various', 'analytics', 'tools', 'databases', ';', 'area', 'expertise', 'within', 'analytics', ',', 'ideally', 'able', 'think', 'creatively', 'across', 'approaches', 'apply', 'method', 'aligns', 'business', 'question', '.', 'You', 'need', 'hands-on', 'experience', 'either', 'building', 'advanced', 'analytical', 'models', '(', 'regression', ',', 'machine', 'learning', ',', 'etc', '.', ')', 'and/or', 'direct', 'involvement', 'applying', 'outcomes', 'advanced', 'analytics', 'models', 'improve', 'optimize', 'business', 'process', '.', 'Essential', 'Duties', 'Responsibilities', 'Work', 'directly', 'Bridge', 'Partners', 'Consulting', 'customers', 'well', 'internal', 'teams', 'construct', ',', 'deliver', ',', 'optimize', 'advanced', 'analytics', 'solutions', '.', 'Primary', 'responsibilities', 'include', ':', 'Gathering', 'requirements', 'clients', ',', 'asking', 'clarifying', 'questions', 'identify', 'business', 'objective', 'constraints', 'may', 'apply', 'analytical', 'process', '.', 'Create', 'architecture', ',', 'process', 'flow', ',', 'roadmap', 'documentation', 'illustrate', 'clients', 'achieve', 'analytics', 'outcomes', 'objectives', '.', 'Work', 'senior', 'cross-functional', 'roles', 'across', 'enterprise', 'identify', 'key', 'dependencies', 'roles/responsibilities', 'achieving', 'outcomes', '.', 'Assist', 'clients', 'prioritizing', 'initiatives', 'based', 'level', 'effort', 'expected', 'benefit', '.', 'Distill', 'raw', 'data', 'elements', 'assess', 'importance', 'explaining', 'key', 'business', 'outcomes', ',', 'sometimes', 'via', 'direct', 'data', 'access', 'statistical', 'testing/modeling', '.', 'Describe', 'benefits', 'various', 'advanced', 'analytics', 'methodologies', 'assist', 'clients', 'deciding', 'relevant', 'approach', '.', 'Leverage', 'knowledge', 'open', 'source', '3rd', 'party', 'products', 'solutions', 'drive', 'development', 'deployment', 'analytical', 'solutions', 'architectures', 'Track', 'multiple', 'assigned', 'projects', 'completion', ',', 'including', 'technical', 'development', 'modeling', 'methods', '.', 'Required', 'Knowledge', ',', 'Skills', 'Experience', '·', '6-8+', 'years', 'full', 'time', 'experience', 'analytically', 'based', 'function', '(', 'e.g', '.', 'quantitative', 'marketing', ',', 'analytics', ')', '·', 'Strategic', 'mindset', 'ability', 'think', 'broadly', ',', 'refine', 'questions', 'develop', 'analytical', 'frameworks', 'drive', 'key', 'insights', 'business', 'recommendations', '·', 'Strong', 'sense', 'pragmatism', 'business', 'judgment', 'ensure', 'insights', 'recommendations', 'lead', 'execution', ',', 'action', 'impact', '·', 'Experience', 'SQL', 'business', 'intelligence', 'tools', '(', 'Tableau', ',', 'PowerBI', ',', 'QlikSense', ',', 'MicroStrategy', ',', 'Looker', ',', 'Cognos', ',', 'Domo', 'etc', '.', ')', 'required', '·', 'Experience', 'data', 'storage', ',', 'tools', 'technologies', 'preferred', '.', '·', 'Strong', 'data', 'presentation', ',', 'visualization', 'communication', 'skills', '·', 'Familiarity', 'statistical', 'programming', 'languages', 'packages', '(', 'SAS', ',', 'SPSS', ',', 'R', ',', 'Python', ')', '·', 'Effective', 'communicating', 'insights', 'creating', 'story', 'data', 'analysis', 'order', 'influence', 'change', '·', 'Strong', 'attention', 'detail', ',', 'along', 'organization', 'time', 'management', 'skills', '·', 'Ability', 'build', 'foster', 'productive', 'working', 'relationships', 'cross-functional', 'teams', '·', 'Self-starter', 'desires', 'discover', 'trends', 'find', 'actionable', 'information', '·', 'Bachelor', '’', 'degree', 'relevant', 'field', '(', 'computer', 'science', ',', 'economics', ',', 'statistics', ',', 'applied', 'math', ',', 'etc', '.', ')', 'Due', 'high', 'volume', 'applications', ',', 'able', 'respond', 'every', 'resume', 'receive', '.', 'Local', 'Seattle', 'Area', 'candidates', ',', 'please', '.', 'Thank', 'understanding', '.', 'Bridge', 'Partners', 'LLC', 'EEO', 'Employer']\n"
     ]
    },
    {
     "data": {
      "text/plain": [
       "FreqDist({',': 37, '.': 22, '·': 12, 'analytics': 7, 'business': 7, 'clients': 6, 'data': 6, 'analytical': 5, '(': 5, ')': 5, ...})"
      ]
     },
     "execution_count": 35,
     "metadata": {},
     "output_type": "execute_result"
    }
   ],
   "source": [
    "print(new_filtered)\n",
    "fdist = FreqDist(new_filtered)\n",
    "fdist"
   ]
  },
  {
   "cell_type": "code",
   "execution_count": 36,
   "metadata": {},
   "outputs": [],
   "source": [
    "from sklearn.feature_extraction.text import CountVectorizer\n",
    "from nltk.tokenize import RegexpTokenizer\n",
    "#tokenizer to remove unwanted elements from out data like symbols and numbers\n",
    "token = RegexpTokenizer(r'[a-zA-Z0-9]+')\n",
    "cv = CountVectorizer(lowercase=True,stop_words='english',ngram_range = (1,1),tokenizer = token.tokenize)\n",
    "# text_counts= cv.fit_transform(data['Phrase'])"
   ]
  },
  {
   "cell_type": "code",
   "execution_count": 37,
   "metadata": {},
   "outputs": [],
   "source": [
    "text_counts= cv.fit_transform(df['description'])"
   ]
  },
  {
   "cell_type": "code",
   "execution_count": 38,
   "metadata": {},
   "outputs": [
    {
     "data": {
      "text/plain": [
       "<1x269 sparse matrix of type '<class 'numpy.int64'>'\n",
       "\twith 269 stored elements in Compressed Sparse Row format>"
      ]
     },
     "execution_count": 38,
     "metadata": {},
     "output_type": "execute_result"
    }
   ],
   "source": [
    "text_counts"
   ]
  },
  {
   "cell_type": "code",
   "execution_count": 39,
   "metadata": {},
   "outputs": [],
   "source": [
    "# freq = nltk.FreqDist(clean_tokens)\n",
    "# for key,val in fdist.items():\n",
    "#     print(str(key) + ':' + str(val))"
   ]
  },
  {
   "cell_type": "code",
   "execution_count": 40,
   "metadata": {},
   "outputs": [
    {
     "data": {
      "text/plain": [
       "<Figure size 640x480 with 1 Axes>"
      ]
     },
     "metadata": {},
     "output_type": "display_data"
    }
   ],
   "source": [
    "fdist.plot(20,cumulative=False)"
   ]
  },
  {
   "cell_type": "code",
   "execution_count": 41,
   "metadata": {},
   "outputs": [
    {
     "name": "stdout",
     "output_type": "stream",
     "text": [
      "[nltk_data] Downloading package wordnet to\n",
      "[nltk_data]     C:\\Users\\kkari\\AppData\\Roaming\\nltk_data...\n",
      "[nltk_data]   Package wordnet is already up-to-date!\n"
     ]
    },
    {
     "data": {
      "text/plain": [
       "True"
      ]
     },
     "execution_count": 41,
     "metadata": {},
     "output_type": "execute_result"
    }
   ],
   "source": [
    "from nltk.stem.wordnet import WordNetLemmatizer \n",
    "lem = WordNetLemmatizer()\n",
    "nltk.download('wordnet')"
   ]
  },
  {
   "cell_type": "code",
   "execution_count": 42,
   "metadata": {},
   "outputs": [],
   "source": [
    "lem_words = []\n",
    "for w in filtered_tokenized_words:\n",
    "    lem_words.append(lem.lemmatize(w))"
   ]
  },
  {
   "cell_type": "code",
   "execution_count": 43,
   "metadata": {},
   "outputs": [
    {
     "name": "stdout",
     "output_type": "stream",
     "text": [
      "475\n"
     ]
    }
   ],
   "source": [
    "print(len(lem_words))"
   ]
  },
  {
   "cell_type": "code",
   "execution_count": 44,
   "metadata": {},
   "outputs": [
    {
     "data": {
      "text/plain": [
       "FreqDist({',': 37, '.': 22, '·': 12, 'client': 7, 'analytics': 7, 'business': 7, 'data': 6, 'analytical': 5, '(': 5, ')': 5, ...})"
      ]
     },
     "execution_count": 44,
     "metadata": {},
     "output_type": "execute_result"
    }
   ],
   "source": [
    "freq_2 = nltk.FreqDist(lem_words)\n",
    "freq_2"
   ]
  },
  {
   "cell_type": "code",
   "execution_count": 45,
   "metadata": {},
   "outputs": [
    {
     "name": "stdout",
     "output_type": "stream",
     "text": [
      "!\"#$%&'()*+,-./:;<=>?@[\\]^_`{|}~\n"
     ]
    }
   ],
   "source": [
    "import re\n",
    "import string\n",
    "print(string.punctuation)"
   ]
  },
  {
   "cell_type": "code",
   "execution_count": 46,
   "metadata": {},
   "outputs": [
    {
     "name": "stdout",
     "output_type": "stream",
     "text": [
      "['!', \"''\", '#', '$', '%', '&', \"'\", '(', ')', '*+', ',', '-./', ':', ';', '<', '=', '>', '?', '@', '[', '\\\\', ']', '^_', '`', '{', '|', '}', '~', '.', '·']\n"
     ]
    }
   ],
   "source": [
    "punct_tokens = word_tokenize(string.punctuation)\n",
    "punct_tokens.append('.')\n",
    "punct_tokens.append('·')\n",
    "print(punct_tokens)"
   ]
  },
  {
   "cell_type": "code",
   "execution_count": 47,
   "metadata": {},
   "outputs": [
    {
     "name": "stdout",
     "output_type": "stream",
     "text": [
      "392\n"
     ]
    }
   ],
   "source": [
    "# punct_tokens\n",
    "cleaned_tokens = []\n",
    "for w in lem_words:\n",
    "    if w not in punct_tokens:\n",
    "        cleaned_tokens.append(w.strip())\n",
    "print(len(cleaned_tokens))"
   ]
  },
  {
   "cell_type": "code",
   "execution_count": 48,
   "metadata": {},
   "outputs": [
    {
     "data": {
      "text/plain": [
       "FreqDist({'client': 7, 'analytics': 7, 'business': 7, 'data': 6, 'analytical': 5, 'Bridge': 4, 'Partners': 4, 'process': 4, 'question': 4, 'tool': 4, ...})"
      ]
     },
     "execution_count": 48,
     "metadata": {},
     "output_type": "execute_result"
    }
   ],
   "source": [
    "freq_3 = nltk.FreqDist(cleaned_tokens)\n",
    "freq_3"
   ]
  },
  {
   "cell_type": "code",
   "execution_count": 49,
   "metadata": {},
   "outputs": [
    {
     "data": {
      "image/png": "[encoded data removed]",
      "text/plain": [
       "<Figure size 432x288 with 1 Axes>"
      ]
     },
     "metadata": {},
     "output_type": "display_data"
    }
   ],
   "source": [
    "freq_3.plot(20)"
   ]
  },
  {
   "cell_type": "code",
   "execution_count": 50,
   "metadata": {},
   "outputs": [],
   "source": [
    "import gensim\n",
    "# import corpora\n",
    "# import corpora"
   ]
  },
  {
   "cell_type": "code",
   "execution_count": 52,
   "metadata": {},
   "outputs": [
    {
     "ename": "SyntaxError",
     "evalue": "invalid syntax (<ipython-input-52-52407c3215d0>, line 2)",
     "output_type": "error",
     "traceback": [
      "\u001b[1;36m  File \u001b[1;32m\"<ipython-input-52-52407c3215d0>\"\u001b[1;36m, line \u001b[1;32m2\u001b[0m\n\u001b[1;33m    Assessing client/end-user needs\u001b[0m\n\u001b[1;37m                   ^\u001b[0m\n\u001b[1;31mSyntaxError\u001b[0m\u001b[1;31m:\u001b[0m invalid syntax\n"
     ]
    }
   ],
   "source": [
    "skill_list = [\"Adapting to changing priorities\"]\n",
    "Assessing client/end-user needs\n",
    "Attention to detail\n",
    "Business strategies\n",
    "C/C++\n",
    "Client relations\n",
    "Coaching\n",
    "Coding\n",
    "Collaboration\n",
    "Computer science\n",
    "Consulting\n",
    "Coping with deadline pressure\n",
    "Creating reports\n",
    "Creating and running what-if simulations\n",
    "Data architecture\n",
    "Data controls\n",
    "Data management\n",
    "Data modeling\n",
    "Data visualization\n",
    "Debugging data output irregularities \n",
    "Defining data access methods\n",
    "Delegating\n",
    "Designing enterprise-level reporting\n",
    "Designing/modifying data warehouses\n",
    "Evaluating business intelligence software\n",
    "Extract, transform, load (ETL) testing\n",
    "Facilitating the creation of new data-reporting models\n",
    "Finding trends/patterns\n",
    "IBM Cognos Analytics\n",
    "Innovation\n",
    "Insights\n",
    "Java\n",
    "Leading cross-functional teams\n",
    "Maintaining technical documentation for solutions\n",
    "Managing relationships with vendors\n",
    "Managing stress\n",
    "MatLab\n",
    "Mentoring\n",
    "Microsoft Excel\n",
    "Microsoft Integration Services\n",
    "Microsoft Office\n",
    "Microsoft Power BI\n",
    "Modeling\n",
    "Monitoring data quality\n",
    "Motivating staff\n",
    "Multitasking\n",
    "Negotiating\n",
    "Online analytical processing (OLAP)\n",
    "Organizational approach\n",
    "Programming\n",
    "Python\n",
    "Reporting tools\n",
    "Researching solutions to user problems\n",
    "Results oriented\n",
    "SAS\n",
    "Statistical analysis\n",
    "Statistical knowledge\n",
    "Strategic thinking\n",
    "Time management\n",
    "Training end users\n",
    "Translating high-level design into specific implementation steps\n",
    "Web analytic tools\"\"\"\n"
   ]
  },
  {
   "cell_type": "code",
   "execution_count": 53,
   "metadata": {},
   "outputs": [
    {
     "name": "stdout",
     "output_type": "stream",
     "text": [
      "['<ul><li>Adapting to changing priorities', '<li>Assessing client/end-user needs', '<li>Attention to detail', '<li>Business strategies', '<li>C/C++', '<li>Client relations', '<li>Coaching', '<li>Coding', '<li><a href=\"https://www.thebalancecareers.com/collaboration-skills-with-examples-2059686\" data-component=\"link\" data-source=\"inlineLink\" data-type=\"internalLink\" data-ordinal=\"1\">Collaboration</a>', '<li>Computer science', '<li>Consulting', '<li>Coping with deadline pressure', '<li>Creating reports', '<li>Creating and running what-if simulations', '<li>Data architecture', '<li>Data controls', '<li>Data management', '<li>Data modeling', '<li>Data visualization', '<li>Debugging data output irregularities&nbsp;', '<li>Defining data access methods', '<li>Delegating', '<li>Designing enterprise-level reporting', '<li>Designing/modifying data warehouses', '<li>Evaluating business intelligence software', '<span class=\"mntl-sc-block-adslot mntl-sc-block-adslot-inline\"></span><li>Extract, transform, load (ETL) testing', '<li>Facilitating the creation of new data-reporting models', '<li>Finding trends/patterns', '<li>IBM Cognos Analytics', '<li>Innovation', '<li>Insights', '<li>Java', '<li>Leading cross-functional teams', '<li>Maintaining technical documentation for solutions', '<li>Managing relationships with vendors', '<li>Managing stress', '<li>MatLab', '<li>Mentoring', '<li>Microsoft Excel', '<li>Microsoft Integration Services', '<li><a href=\"https://www.thebalancecareers.com/microsoft-office-skills-for-resumes-2062438\" data-component=\"link\" data-source=\"inlineLink\" data-type=\"internalLink\" data-ordinal=\"2\">Microsoft Office</a>', '<li>Microsoft Power BI', '<li>Modeling', '<li>Monitoring data quality', '<li>Motivating staff', '<li><a href=\"https://www.thebalancecareers.com/multitasking-skills-with-examples-2059692\" data-component=\"link\" data-source=\"inlineLink\" data-type=\"internalLink\" data-ordinal=\"3\">Multitasking</a>', '<li><a href=\"https://www.thebalancecareers.com/negotiation-skills-list-2063760\" data-component=\"link\" data-source=\"inlineLink\" data-type=\"internalLink\" data-ordinal=\"4\">Negotiating</a>', '<li>Online analytical processing (OLAP)', '<li>Organizational approach', '<span class=\"mntl-sc-block-adslot mntl-sc-block-adslot-inline\"></span><li>Programming', '<li>Python', '<li>Reporting tools', '<li>Researching solutions to user problems', '<li>Results oriented', '<li>SAS', '<li>Statistical analysis', '<li>Statistical knowledge', '<li>Strategic thinking', '<li>Time management', '<li>Training end users', '<li>Translating high-level design into specific implementation steps', '<li>Web analytic tools', '</ul>']\n"
     ]
    }
   ],
   "source": [
    "# for s in skill_list:\n",
    "#     print (s)\n",
    "text = \"\"\"<ul><li>Adapting to changing priorities</li><li>Assessing client/end-user needs</li><li>Attention to detail</li><li>Business strategies</li><li>C/C++</li><li>Client relations</li><li>Coaching</li><li>Coding</li><li><a href=\"https://www.thebalancecareers.com/collaboration-skills-with-examples-2059686\" data-component=\"link\" data-source=\"inlineLink\" data-type=\"internalLink\" data-ordinal=\"1\">Collaboration</a></li><li>Computer science</li><li>Consulting</li><li>Coping with deadline pressure</li><li>Creating reports</li><li>Creating and running what-if simulations</li><li>Data architecture</li><li>Data controls</li><li>Data management</li><li>Data modeling</li><li>Data visualization</li><li>Debugging data output irregularities&nbsp;</li><li>Defining data access methods</li><li>Delegating</li><li>Designing enterprise-level reporting</li><li>Designing/modifying data warehouses</li><li>Evaluating business intelligence software</li><span class=\"mntl-sc-block-adslot mntl-sc-block-adslot-inline\"></span><li>Extract, transform, load (ETL) testing</li><li>Facilitating the creation of new data-reporting models</li><li>Finding trends/patterns</li><li>IBM Cognos Analytics</li><li>Innovation</li><li>Insights</li><li>Java</li><li>Leading cross-functional teams</li><li>Maintaining technical documentation for solutions</li><li>Managing relationships with vendors</li><li>Managing stress</li><li>MatLab</li><li>Mentoring</li><li>Microsoft Excel</li><li>Microsoft Integration Services</li><li><a href=\"https://www.thebalancecareers.com/microsoft-office-skills-for-resumes-2062438\" data-component=\"link\" data-source=\"inlineLink\" data-type=\"internalLink\" data-ordinal=\"2\">Microsoft Office</a></li><li>Microsoft Power BI</li><li>Modeling</li><li>Monitoring data quality</li><li>Motivating staff</li><li><a href=\"https://www.thebalancecareers.com/multitasking-skills-with-examples-2059692\" data-component=\"link\" data-source=\"inlineLink\" data-type=\"internalLink\" data-ordinal=\"3\">Multitasking</a></li><li><a href=\"https://www.thebalancecareers.com/negotiation-skills-list-2063760\" data-component=\"link\" data-source=\"inlineLink\" data-type=\"internalLink\" data-ordinal=\"4\">Negotiating</a></li><li>Online analytical processing (OLAP)</li><li>Organizational approach</li><span class=\"mntl-sc-block-adslot mntl-sc-block-adslot-inline\"></span><li>Programming</li><li>Python</li><li>Reporting tools</li><li>Researching solutions to user problems</li><li>Results oriented</li><li>SAS</li><li>Statistical analysis</li><li>Statistical knowledge</li><li>Strategic thinking</li><li>Time management</li><li>Training end users</li><li>Translating high-level design into specific implementation steps</li><li>Web analytic tools</li></ul>\"\"\"\n",
    "x2 = text.split(\"</li>\")\n",
    "print (x2)"
   ]
  },
  {
   "cell_type": "code",
   "execution_count": 54,
   "metadata": {},
   "outputs": [
    {
     "name": "stdout",
     "output_type": "stream",
     "text": [
      "['Adapting to changing priorities', 'Assessing client/end-user needs', 'Attention to detail', 'Business strategies', 'C/C++', 'Client relations', 'Coaching', 'Coding', '<a href=\"https://www.thebalancecareers.com/collaboration-skills-with-examples-2059686\" data-component=\"link\" data-source=\"inlineLink\" data-type=\"internalLink\" data-ordinal=\"1\">Collaboration</a>', 'Computer science', 'Consulting', 'Coping with deadline pressure', 'Creating reports', 'Creating and running what-if simulations', 'Data architecture', 'Data controls', 'Data management', 'Data modeling', 'Data visualization', 'Debugging data output irregularities&nbsp;', 'Defining data access methods', 'Delegating', 'Designing enterprise-level reporting', 'Designing/modifying data warehouses', 'Evaluating business intelligence software', 'Extract, transform, load (ETL) testing', 'Facilitating the creation of new data-reporting models', 'Finding trends/patterns', 'IBM Cognos Analytics', 'Innovation', 'Insights', 'Java', 'Leading cross-functional teams', 'Maintaining technical documentation for solutions', 'Managing relationships with vendors', 'Managing stress', 'MatLab', 'Mentoring', 'Microsoft Excel', 'Microsoft Integration Services', '<a href=\"https://www.thebalancecareers.com/microsoft-office-skills-for-resumes-2062438\" data-component=\"link\" data-source=\"inlineLink\" data-type=\"internalLink\" data-ordinal=\"2\">Microsoft Office</a>', 'Microsoft Power BI', 'Modeling', 'Monitoring data quality', 'Motivating staff', '<a href=\"https://www.thebalancecareers.com/multitasking-skills-with-examples-2059692\" data-component=\"link\" data-source=\"inlineLink\" data-type=\"internalLink\" data-ordinal=\"3\">Multitasking</a>', '<a href=\"https://www.thebalancecareers.com/negotiation-skills-list-2063760\" data-component=\"link\" data-source=\"inlineLink\" data-type=\"internalLink\" data-ordinal=\"4\">Negotiating</a>', 'Online analytical processing (OLAP)', 'Organizational approach', 'Programming', 'Python', 'Reporting tools', 'Researching solutions to user problems', 'Results oriented', 'SAS', 'Statistical analysis', 'Statistical knowledge', 'Strategic thinking', 'Time management', 'Training end users', 'Translating high-level design into specific implementation steps', 'Web analytic tools']\n"
     ]
    }
   ],
   "source": [
    "import re\n",
    "\n",
    "text_2=[]\n",
    "for item in x2:\n",
    "    before,current,after = item.partition(\"<li>\")\n",
    "#     text_2.append(re.find(\"^<li>:(.*)\", item))\n",
    "    if len(after.strip())>0:\n",
    "        text_2.append(after.strip())\n",
    "print(text_2)"
   ]
  },
  {
   "cell_type": "code",
   "execution_count": 55,
   "metadata": {},
   "outputs": [],
   "source": [
    "text_1 = \"\"\"<ul><li>Adapting to changing priorities</li><li>Assessing client/end-user needs</li><li>Attention to detail</li><li>Business strategies</li><li>C/C++</li><li>Client relations</li><li>Coaching</li><li>Coding</li><li><a href=\"https://www.thebalancecareers.com/collaboration-skills-with-examples-2059686\" data-component=\"link\" data-source=\"inlineLink\" data-type=\"internalLink\" data-ordinal=\"1\">Collaboration</a></li><li>Computer science</li><li>Consulting</li><li>Coping with deadline pressure</li><li>Creating reports</li><li>Creating and running what-if simulations</li><li>Data architecture</li><li>Data controls</li><li>Data management</li><li>Data modeling</li><li>Data visualization</li><li>Debugging data output irregularities&nbsp;</li><li>Defining data access methods</li><li>Delegating</li><li>Designing enterprise-level reporting</li><li>Designing/modifying data warehouses</li><li>Evaluating business intelligence software</li><span class=\"mntl-sc-block-adslot mntl-sc-block-adslot-inline\"></span><li>Extract, transform, load (ETL) testing</li><li>Facilitating the creation of new data-reporting models</li><li>Finding trends/patterns</li><li>IBM Cognos Analytics</li><li>Innovation</li><li>Insights</li><li>Java</li><li>Leading cross-functional teams</li><li>Maintaining technical documentation for solutions</li><li>Managing relationships with vendors</li><li>Managing stress</li><li>MatLab</li><li>Mentoring</li><li>Microsoft Excel</li><li>Microsoft Integration Services</li><li><a href=\"https://www.thebalancecareers.com/microsoft-office-skills-for-resumes-2062438\" data-component=\"link\" data-source=\"inlineLink\" data-type=\"internalLink\" data-ordinal=\"2\">Microsoft Office</a></li><li>Microsoft Power BI</li><li>Modeling</li><li>Monitoring data quality</li><li>Motivating staff</li><li><a href=\"https://www.thebalancecareers.com/multitasking-skills-with-examples-2059692\" data-component=\"link\" data-source=\"inlineLink\" data-type=\"internalLink\" data-ordinal=\"3\">Multitasking</a></li><li><a href=\"https://www.thebalancecareers.com/negotiation-skills-list-2063760\" data-component=\"link\" data-source=\"inlineLink\" data-type=\"internalLink\" data-ordinal=\"4\">Negotiating</a></li><li>Online analytical processing (OLAP)</li><li>Organizational approach</li><span class=\"mntl-sc-block-adslot mntl-sc-block-adslot-inline\"></span><li>Programming</li><li>Python</li><li>Reporting tools</li><li>Researching solutions to user problems</li><li>Results oriented</li><li>SAS</li><li>Statistical analysis</li><li>Statistical knowledge</li><li>Strategic thinking</li><li>Time management</li><li>Training end users</li><li>Translating high-level design into specific implementation steps</li><li>Web analytic tools</li></ul>\"\"\"\n",
    "text_2 = \"\"\"<ul><li>Identifying and prioritizing problem areas</li><li>Determining factors that contribute to problems</li><li>Weighing alternative solutions</li><li>Assessing stakeholder perceptions regarding problems</li><li>Estimating costs for interventions</li><li>Proposing solutions</li><li>Persuading others to adopt solutions</li><li>Creativity</li><li>Decision making</li><li>Research</li><li>Project management</li><li>Leading brainstorming sessions</li></ul>\"\"\"\n",
    "text_3 = \"\"\"<ul><li>Industry trend analysis</li><li>Interpreting professional literature</li><li>Identifying best practices</li><li>Developing relationships with industry experts and influencers</li><li>Understanding the impact of economic cycles on your industry sector</li><li>Participating in industry-focused professional meetings and conferences</li></ul>\"\"\"\n",
    "text_4 = \"\"\"<ul><li>PowerPoint</li><li>Group presentations</li><li>Interviewing stakeholders to secure information</li><li>Presenting graphical data</li><li>Drawing consensus on research priorities</li><li>Facilitating group discussion</li><li>Writing summaries</li><li>Technical writing</li><li>Pitching proposals</li><li>Teamwork</li><li>Listening</li><li>Conveying complex information in understandable terms</li><li>Leadership</li></ul>\"\"\"\n",
    "text_5 = \"\"\"<ul><li>Database management</li><li>Survey design</li><li>Formulating data queries</li><li>SAS</li><li>SPS</li><li>Coding data</li><li>Drawing inferences</li><li>Applying scientific methods to gathering data</li><li><a href=\"https://www.thebalancecareers.com/critical-thinking-definition-with-examples-2063745\" data-component=\"link\" data-source=\"inlineLink\" data-type=\"internalLink\" data-ordinal=\"1\">Critical thinking</a></li><li>Quantitative analysis</li><li>SQL programming</li><li>Identifying high-value areas for inquiry</li><li>Establishing benchmarks</li><li>Identifying and measuring correlations</li><li>Intellectual curiosity</li><li>Classifying data</li><li>Strategic planning</li></ul>\"\"\"\n",
    "text_6 = text_1 + text_2 + text_3 + text_4 + text_5\n",
    "x3 = text_6.split(\"</li>\")"
   ]
  },
  {
   "cell_type": "code",
   "execution_count": 56,
   "metadata": {},
   "outputs": [
    {
     "name": "stdout",
     "output_type": "stream",
     "text": [
      "['Adapting to changing priorities', 'Assessing client/end-user needs', 'Attention to detail', 'Business strategies', 'C/C++', 'Client relations', 'Coaching', 'Coding', 'Computer science', 'Consulting', 'Coping with deadline pressure', 'Creating reports', 'Creating and running what-if simulations', 'Data architecture', 'Data controls', 'Data management', 'Data modeling', 'Data visualization', 'Debugging data output irregularities&nbsp;', 'Defining data access methods', 'Delegating', 'Designing enterprise-level reporting', 'Designing/modifying data warehouses', 'Evaluating business intelligence software', 'Extract, transform, load (ETL) testing', 'Facilitating the creation of new data-reporting models', 'Finding trends/patterns', 'IBM Cognos Analytics', 'Innovation', 'Insights', 'Java', 'Leading cross-functional teams', 'Maintaining technical documentation for solutions', 'Managing relationships with vendors', 'Managing stress', 'MatLab', 'Mentoring', 'Microsoft Excel', 'Microsoft Integration Services', 'Microsoft Power BI', 'Modeling', 'Monitoring data quality', 'Motivating staff', 'Online analytical processing (OLAP)', 'Organizational approach', 'Programming', 'Python', 'Reporting tools', 'Researching solutions to user problems', 'Results oriented', 'SAS', 'Statistical analysis', 'Statistical knowledge', 'Strategic thinking', 'Time management', 'Training end users', 'Translating high-level design into specific implementation steps', 'Web analytic tools', 'Identifying and prioritizing problem areas', 'Determining factors that contribute to problems', 'Weighing alternative solutions', 'Assessing stakeholder perceptions regarding problems', 'Estimating costs for interventions', 'Proposing solutions', 'Persuading others to adopt solutions', 'Creativity', 'Decision making', 'Research', 'Project management', 'Leading brainstorming sessions', 'Industry trend analysis', 'Interpreting professional literature', 'Identifying best practices', 'Developing relationships with industry experts and influencers', 'Understanding the impact of economic cycles on your industry sector', 'Participating in industry-focused professional meetings and conferences', 'PowerPoint', 'Group presentations', 'Interviewing stakeholders to secure information', 'Presenting graphical data', 'Drawing consensus on research priorities', 'Facilitating group discussion', 'Writing summaries', 'Technical writing', 'Pitching proposals', 'Teamwork', 'Listening', 'Conveying complex information in understandable terms', 'Leadership', 'Database management', 'Survey design', 'Formulating data queries', 'SAS', 'SPS', 'Coding data', 'Drawing inferences', 'Applying scientific methods to gathering data', 'Quantitative analysis', 'SQL programming', 'Identifying high-value areas for inquiry', 'Establishing benchmarks', 'Identifying and measuring correlations', 'Intellectual curiosity', 'Classifying data', 'Strategic planning']\n"
     ]
    }
   ],
   "source": [
    "text_final=[]\n",
    "for item in x3:\n",
    "    before,current,after = item.partition(\"<li>\")\n",
    "#     text_2.append(re.find(\"^<li>:(.*)\", item))\n",
    "    if len(after.strip())>0 and \"<a\" not in after.strip():\n",
    "        text_final.append(after.strip())\n",
    "print(text_final)"
   ]
  },
  {
   "cell_type": "code",
   "execution_count": 57,
   "metadata": {},
   "outputs": [
    {
     "data": {
      "text/plain": [
       "105"
      ]
     },
     "execution_count": 57,
     "metadata": {},
     "output_type": "execute_result"
    }
   ],
   "source": [
    "len(text_final)"
   ]
  },
  {
   "cell_type": "code",
   "execution_count": 58,
   "metadata": {},
   "outputs": [],
   "source": [
    "skill_list_2 = \"\"\"<tbody><tr>\n",
    "  <th>Keywords</th>\n",
    "  <th>Popularity</th>\n",
    "\n",
    "</tr>\n",
    "\n",
    "<tr><td>SQL</td>\n",
    "  <td style=\"vertical-align : middle;text-align:center;padding-right:20px\"><div class=\"w3-light-grey\">\n",
    "  <div style=\"background-color:2196F3;height:20px;width:16\"><div class=\"w3-container\">16<span class=\"w3-small\">%</span></div></div>\n",
    "</div></td></tr><tr><td>Tableau</td>\n",
    "  <td style=\"vertical-align : middle;text-align:center;padding-right:20px\"><div class=\"w3-light-grey\">\n",
    "  <div style=\"background-color:2196F3;height:20px;width:9\"><div class=\"w3-container\">9<span class=\"w3-small\">%</span></div></div>\n",
    "</div></td></tr><tr><td>ETL</td>\n",
    "  <td style=\"vertical-align : middle;text-align:center;padding-right:20px\"><div class=\"w3-light-grey\">\n",
    "  <div style=\"background-color:2196F3;height:20px;width:6\"><div class=\"w3-container\">6<span class=\"w3-small\">%</span></div></div>\n",
    "</div></td></tr><tr><td>power bi</td>\n",
    "  <td style=\"vertical-align : middle;text-align:center;padding-right:20px\"><div class=\"w3-light-grey\">\n",
    "  <div style=\"background-color:2196F3;height:20px;width:6\"><div class=\"w3-container\">6<span class=\"w3-small\">%</span></div></div>\n",
    "</div></td></tr><tr><td>SSIS</td>\n",
    "  <td style=\"vertical-align : middle;text-align:center;padding-right:20px\"><div class=\"w3-light-grey\">\n",
    "  <div style=\"background-color:2196F3;height:20px;width:5\"><div class=\"w3-container\">5<span class=\"w3-small\">%</span></div></div>\n",
    "</div></td></tr><tr><td>Business Intelligence</td>\n",
    "  <td style=\"vertical-align : middle;text-align:center;padding-right:20px\"><div class=\"w3-light-grey\">\n",
    "  <div style=\"background-color:2196F3;height:20px;width:4\"><div class=\"w3-container\">4<span class=\"w3-small\">%</span></div></div>\n",
    "</div></td></tr><tr><td>Cloud</td>\n",
    "  <td style=\"vertical-align : middle;text-align:center;padding-right:20px\"><div class=\"w3-light-grey\">\n",
    "  <div style=\"background-color:2196F3;height:20px;width:3\"><div class=\"w3-container\">3<span class=\"w3-small\">%</span></div></div>\n",
    "</div></td></tr><tr><td>Looker</td>\n",
    "  <td style=\"vertical-align : middle;text-align:center;padding-right:20px\"><div class=\"w3-light-grey\">\n",
    "  <div style=\"background-color:2196F3;height:20px;width:3\"><div class=\"w3-container\">3<span class=\"w3-small\">%</span></div></div>\n",
    "</div></td></tr><tr><td>Data warehousing</td>\n",
    "  <td style=\"vertical-align : middle;text-align:center;padding-right:20px\"><div class=\"w3-light-grey\">\n",
    "  <div style=\"background-color:2196F3;height:20px;width:3\"><div class=\"w3-container\">3<span class=\"w3-small\">%</span></div></div>\n",
    "</div></td></tr><tr><td>Alteryx</td>\n",
    "  <td style=\"vertical-align : middle;text-align:center;padding-right:20px\"><div class=\"w3-light-grey\">\n",
    "  <div style=\"background-color:2196F3;height:20px;width:3\"><div class=\"w3-container\">3<span class=\"w3-small\">%</span></div></div>\n",
    "</div></td></tr><tr><td>DATA</td>\n",
    "  <td style=\"vertical-align : middle;text-align:center;padding-right:20px\"><div class=\"w3-light-grey\">\n",
    "  <div style=\"background-color:2196F3;height:20px;width:3\"><div class=\"w3-container\">3<span class=\"w3-small\">%</span></div></div>\n",
    "</div></td></tr><tr><td>Python</td>\n",
    "  <td style=\"vertical-align : middle;text-align:center;padding-right:20px\"><div class=\"w3-light-grey\">\n",
    "  <div style=\"background-color:2196F3;height:20px;width:3\"><div class=\"w3-container\">3<span class=\"w3-small\">%</span></div></div>\n",
    "</div></td></tr><tr><td>Analytics</td>\n",
    "  <td style=\"vertical-align : middle;text-align:center;padding-right:20px\"><div class=\"w3-light-grey\">\n",
    "  <div style=\"background-color:2196F3;height:20px;width:2\"><div class=\"w3-container\">2<span class=\"w3-small\">%</span></div></div>\n",
    "</div></td></tr><tr><td>Google Analytics</td>\n",
    "  <td style=\"vertical-align : middle;text-align:center;padding-right:20px\"><div class=\"w3-light-grey\">\n",
    "  <div style=\"background-color:2196F3;height:20px;width:2\"><div class=\"w3-container\">2<span class=\"w3-small\">%</span></div></div>\n",
    "</div></td></tr><tr><td>T-SQL</td>\n",
    "  <td style=\"vertical-align : middle;text-align:center;padding-right:20px\"><div class=\"w3-light-grey\">\n",
    "  <div style=\"background-color:2196F3;height:20px;width:2\"><div class=\"w3-container\">2<span class=\"w3-small\">%</span></div></div>\n",
    "</div></td></tr><tr><td>Analyst</td>\n",
    "  <td style=\"vertical-align : middle;text-align:center;padding-right:20px\"><div class=\"w3-light-grey\">\n",
    "  <div style=\"background-color:2196F3;height:20px;width:2\"><div class=\"w3-container\">2<span class=\"w3-small\">%</span></div></div>\n",
    "</div></td></tr><tr><td>data analysis</td>\n",
    "  <td style=\"vertical-align : middle;text-align:center;padding-right:20px\"><div class=\"w3-light-grey\">\n",
    "  <div style=\"background-color:2196F3;height:20px;width:2\"><div class=\"w3-container\">2<span class=\"w3-small\">%</span></div></div>\n",
    "</div></td></tr><tr><td>AWS</td>\n",
    "  <td style=\"vertical-align : middle;text-align:center;padding-right:20px\"><div class=\"w3-light-grey\">\n",
    "  <div style=\"background-color:2196F3;height:20px;width:2\"><div class=\"w3-container\">2<span class=\"w3-small\">%</span></div></div>\n",
    "</div></td></tr><tr><td>reporting</td>\n",
    "  <td style=\"vertical-align : middle;text-align:center;padding-right:20px\"><div class=\"w3-light-grey\">\n",
    "  <div style=\"background-color:2196F3;height:20px;width:2\"><div class=\"w3-container\">2<span class=\"w3-small\">%</span></div></div>\n",
    "</div></td></tr><tr><td>Insight</td>\n",
    "  <td style=\"vertical-align : middle;text-align:center;padding-right:20px\"><div class=\"w3-light-grey\">\n",
    "  <div style=\"background-color:2196F3;height:20px;width:2\"><div class=\"w3-container\">2<span class=\"w3-small\">%</span></div></div>\n",
    "</div></td></tr><tr><td>MI Reports</td>\n",
    "  <td style=\"vertical-align : middle;text-align:center;padding-right:20px\"><div class=\"w3-light-grey\">\n",
    "  <div style=\"background-color:2196F3;height:20px;width:2\"><div class=\"w3-container\">2<span class=\"w3-small\">%</span></div></div>\n",
    "</div></td></tr><tr><td>Agile</td>\n",
    "  <td style=\"vertical-align : middle;text-align:center;padding-right:20px\"><div class=\"w3-light-grey\">\n",
    "  <div style=\"background-color:2196F3;height:20px;width:2\"><div class=\"w3-container\">2<span class=\"w3-small\">%</span></div></div>\n",
    "</div></td></tr><tr><td>SSRS</td>\n",
    "  <td style=\"vertical-align : middle;text-align:center;padding-right:20px\"><div class=\"w3-light-grey\">\n",
    "  <div style=\"background-color:2196F3;height:20px;width:2\"><div class=\"w3-container\">2<span class=\"w3-small\">%</span></div></div>\n",
    "</div></td></tr><tr><td>powerbi</td>\n",
    "  <td style=\"vertical-align : middle;text-align:center;padding-right:20px\"><div class=\"w3-light-grey\">\n",
    "  <div style=\"background-color:2196F3;height:20px;width:2\"><div class=\"w3-container\">2<span class=\"w3-small\">%</span></div></div>\n",
    "</div></td></tr><tr><td>Microsoft Excel</td>\n",
    "  <td style=\"vertical-align : middle;text-align:center;padding-right:20px\"><div class=\"w3-light-grey\">\n",
    "  <div style=\"background-color:2196F3;height:20px;width:2\"><div class=\"w3-container\">2<span class=\"w3-small\">%</span></div></div>\n",
    "</div></td></tr><tr><td>Intelligence</td>\n",
    "  <td style=\"vertical-align : middle;text-align:center;padding-right:20px\"><div class=\"w3-light-grey\">\n",
    "  <div style=\"background-color:2196F3;height:20px;width:2\"><div class=\"w3-container\">2<span class=\"w3-small\">%</span></div></div>\n",
    "</div></td></tr><tr><td>AI</td>\n",
    "  <td style=\"vertical-align : middle;text-align:center;padding-right:20px\"><div class=\"w3-light-grey\">\n",
    "  <div style=\"background-color:2196F3;height:20px;width:1\"><div class=\"w3-container\">1<span class=\"w3-small\">%</span></div></div>\n",
    "</div></td></tr><tr><td>Machine Learning</td>\n",
    "  <td style=\"vertical-align : middle;text-align:center;padding-right:20px\"><div class=\"w3-light-grey\">\n",
    "  <div style=\"background-color:2196F3;height:20px;width:1\"><div class=\"w3-container\">1<span class=\"w3-small\">%</span></div></div>\n",
    "</div></td></tr><tr><td>Data Engineer</td>\n",
    "  <td style=\"vertical-align : middle;text-align:center;padding-right:20px\"><div class=\"w3-light-grey\">\n",
    "  <div style=\"background-color:2196F3;height:20px;width:1\"><div class=\"w3-container\">1<span class=\"w3-small\">%</span></div></div>\n",
    "</div></td></tr><tr><td>Google Cloud</td>\n",
    "  <td style=\"vertical-align : middle;text-align:center;padding-right:20px\"><div class=\"w3-light-grey\">\n",
    "  <div style=\"background-color:2196F3;height:20px;width:1\"><div class=\"w3-container\">1<span class=\"w3-small\">%</span></div></div>\n",
    "</div></td></tr><tr><td>Kubernetes</td>\n",
    "  <td style=\"vertical-align : middle;text-align:center;padding-right:20px\"><div class=\"w3-light-grey\">\n",
    "  <div style=\"background-color:2196F3;height:20px;width:1\"><div class=\"w3-container\">1<span class=\"w3-small\">%</span></div></div>\n",
    "</div></td></tr><tr><td>Analysis</td>\n",
    "  <td style=\"vertical-align : middle;text-align:center;padding-right:20px\"><div class=\"w3-light-grey\">\n",
    "  <div style=\"background-color:2196F3;height:20px;width:1\"><div class=\"w3-container\">1<span class=\"w3-small\">%</span></div></div>\n",
    "</div></td></tr><tr><td>database</td>\n",
    "  <td style=\"vertical-align : middle;text-align:center;padding-right:20px\"><div class=\"w3-light-grey\">\n",
    "  <div style=\"background-color:2196F3;height:20px;width:1\"><div class=\"w3-container\">1<span class=\"w3-small\">%</span></div></div>\n",
    "</div></td></tr><tr><td>CRM</td>\n",
    "  <td style=\"vertical-align : middle;text-align:center;padding-right:20px\"><div class=\"w3-light-grey\">\n",
    "  <div style=\"background-color:2196F3;height:20px;width:1\"><div class=\"w3-container\">1<span class=\"w3-small\">%</span></div></div>\n",
    "</div></td></tr><tr><td>Excel</td>\n",
    "  <td style=\"vertical-align : middle;text-align:center;padding-right:20px\"><div class=\"w3-light-grey\">\n",
    "  <div style=\"background-color:2196F3;height:20px;width:1\"><div class=\"w3-container\">1<span class=\"w3-small\">%</span></div></div>\n",
    "</div></td></tr><tr><td>BI Analyst</td>\n",
    "  <td style=\"vertical-align : middle;text-align:center;padding-right:20px\"><div class=\"w3-light-grey\">\n",
    "  <div style=\"background-color:2196F3;height:20px;width:1\"><div class=\"w3-container\">1<span class=\"w3-small\">%</span></div></div>\n",
    "</div></td></tr><tr><td>Financial Services</td>\n",
    "  <td style=\"vertical-align : middle;text-align:center;padding-right:20px\"><div class=\"w3-light-grey\">\n",
    "  <div style=\"background-color:2196F3;height:20px;width:1\"><div class=\"w3-container\">1<span class=\"w3-small\">%</span></div></div>\n",
    "</div></td></tr><tr><td>BI Developer</td>\n",
    "  <td style=\"vertical-align : middle;text-align:center;padding-right:20px\"><div class=\"w3-light-grey\">\n",
    "  <div style=\"background-color:2196F3;height:20px;width:1\"><div class=\"w3-container\">1<span class=\"w3-small\">%</span></div></div>\n",
    "</div></td></tr><tr><td>Commercial</td>\n",
    "  <td style=\"vertical-align : middle;text-align:center;padding-right:20px\"><div class=\"w3-light-grey\">\n",
    "  <div style=\"background-color:2196F3;height:20px;width:1\"><div class=\"w3-container\">1<span class=\"w3-small\">%</span></div></div>\n",
    "</div></td></tr><tr><td>Customer</td>\n",
    "  <td style=\"vertical-align : middle;text-align:center;padding-right:20px\"><div class=\"w3-light-grey\">\n",
    "  <div style=\"background-color:2196F3;height:20px;width:1\"><div class=\"w3-container\">1<span class=\"w3-small\">%</span></div></div>\n",
    "</div></td></tr><tr><td>Data Visualization</td>\n",
    "  <td style=\"vertical-align : middle;text-align:center;padding-right:20px\"><div class=\"w3-light-grey\">\n",
    "  <div style=\"background-color:2196F3;height:20px;width:1\"><div class=\"w3-container\">1<span class=\"w3-small\">%</span></div></div>\n",
    "</div></td></tr><tr><td>Segmentation</td>\n",
    "  <td style=\"vertical-align : middle;text-align:center;padding-right:20px\"><div class=\"w3-light-grey\">\n",
    "  <div style=\"background-color:2196F3;height:20px;width:1\"><div class=\"w3-container\">1<span class=\"w3-small\">%</span></div></div>\n",
    "</div></td></tr><tr><td>Modelling</td>\n",
    "  <td style=\"vertical-align : middle;text-align:center;padding-right:20px\"><div class=\"w3-light-grey\">\n",
    "  <div style=\"background-color:2196F3;height:20px;width:1\"><div class=\"w3-container\">1<span class=\"w3-small\">%</span></div></div>\n",
    "</div></td></tr><tr><td>ssas</td>\n",
    "  <td style=\"vertical-align : middle;text-align:center;padding-right:20px\"><div class=\"w3-light-grey\">\n",
    "  <div style=\"background-color:2196F3;height:20px;width:1\"><div class=\"w3-container\">1<span class=\"w3-small\">%</span></div></div>\n",
    "</div></td></tr><tr><td>Graduate</td>\n",
    "  <td style=\"vertical-align : middle;text-align:center;padding-right:20px\"><div class=\"w3-light-grey\">\n",
    "  <div style=\"background-color:2196F3;height:20px;width:1\"><div class=\"w3-container\">1<span class=\"w3-small\">%</span></div></div>\n",
    "</div></td></tr><tr><td>Marketing</td>\n",
    "  <td style=\"vertical-align : middle;text-align:center;padding-right:20px\"><div class=\"w3-light-grey\">\n",
    "  <div style=\"background-color:2196F3;height:20px;width:1\"><div class=\"w3-container\">1<span class=\"w3-small\">%</span></div></div>\n",
    "</div></td></tr><tr><td>Web Analytics</td>\n",
    "  <td style=\"vertical-align : middle;text-align:center;padding-right:20px\"><div class=\"w3-light-grey\">\n",
    "  <div style=\"background-color:2196F3;height:20px;width:1\"><div class=\"w3-container\">1<span class=\"w3-small\">%</span></div></div>\n",
    "</div></td></tr><tr><td>Analytical Skills</td>\n",
    "  <td style=\"vertical-align : middle;text-align:center;padding-right:20px\"><div class=\"w3-light-grey\">\n",
    "  <div style=\"background-color:2196F3;height:20px;width:1\"><div class=\"w3-container\">1<span class=\"w3-small\">%</span></div></div>\n",
    "</div></td></tr><tr><td>Business Analytics</td>\n",
    "  <td style=\"vertical-align : middle;text-align:center;padding-right:20px\"><div class=\"w3-light-grey\">\n",
    "  <div style=\"background-color:2196F3;height:20px;width:1\"><div class=\"w3-container\">1<span class=\"w3-small\">%</span></div></div>\n",
    "</div></td></tr><tr><td>Finance</td>\n",
    "  <td style=\"vertical-align : middle;text-align:center;padding-right:20px\"><div class=\"w3-light-grey\">\n",
    "  <div style=\"background-color:2196F3;height:20px;width:1\"><div class=\"w3-container\">1<span class=\"w3-small\">%</span></div></div>\n",
    "</div></td></tr><tr><td>Local Government</td>\n",
    "  <td style=\"vertical-align : middle;text-align:center;padding-right:20px\"><div class=\"w3-light-grey\">\n",
    "  <div style=\"background-color:2196F3;height:20px;width:1\"><div class=\"w3-container\">1<span class=\"w3-small\">%</span></div></div>\n",
    "</div></td></tr><tr><td>data analyst</td>\n",
    "  <td style=\"vertical-align : middle;text-align:center;padding-right:20px\"><div class=\"w3-light-grey\">\n",
    "  <div style=\"background-color:2196F3;height:20px;width:1\"><div class=\"w3-container\">1<span class=\"w3-small\">%</span></div></div>\n",
    "</div></td></tr><tr><td>Variance Analysis</td>\n",
    "  <td style=\"vertical-align : middle;text-align:center;padding-right:20px\"><div class=\"w3-light-grey\">\n",
    "  <div style=\"background-color:2196F3;height:20px;width:1\"><div class=\"w3-container\">1<span class=\"w3-small\">%</span></div></div>\n",
    "</div></td></tr><tr><td>Tableu</td>\n",
    "  <td style=\"vertical-align : middle;text-align:center;padding-right:20px\"><div class=\"w3-light-grey\">\n",
    "  <div style=\"background-color:2196F3;height:20px;width:1\"><div class=\"w3-container\">1<span class=\"w3-small\">%</span></div></div>\n",
    "</div></td></tr><tr><td>Design</td>\n",
    "  <td style=\"vertical-align : middle;text-align:center;padding-right:20px\"><div class=\"w3-light-grey\">\n",
    "  <div style=\"background-color:2196F3;height:20px;width:1\"><div class=\"w3-container\">1<span class=\"w3-small\">%</span></div></div>\n",
    "</div></td></tr><tr><td>Analytical</td>\n",
    "  <td style=\"vertical-align : middle;text-align:center;padding-right:20px\"><div class=\"w3-light-grey\">\n",
    "  <div style=\"background-color:2196F3;height:20px;width:1\"><div class=\"w3-container\">1<span class=\"w3-small\">%</span></div></div>\n",
    "</div></td></tr><tr><td>Troubleshooting</td>\n",
    "  <td style=\"vertical-align : middle;text-align:center;padding-right:20px\"><div class=\"w3-light-grey\">\n",
    "  <div style=\"background-color:2196F3;height:20px;width:1\"><div class=\"w3-container\">1<span class=\"w3-small\">%</span></div></div>\n",
    "</div></td></tr><tr><td>Business Intelligence Developer</td>\n",
    "  <td style=\"vertical-align : middle;text-align:center;padding-right:20px\"><div class=\"w3-light-grey\">\n",
    "  <div style=\"background-color:2196F3;height:20px;width:1\"><div class=\"w3-container\">1<span class=\"w3-small\">%</span></div></div>\n",
    "</div></td></tr><tr><td>application</td>\n",
    "  <td style=\"vertical-align : middle;text-align:center;padding-right:20px\"><div class=\"w3-light-grey\">\n",
    "  <div style=\"background-color:2196F3;height:20px;width:1\"><div class=\"w3-container\">1<span class=\"w3-small\">%</span></div></div>\n",
    "</div></td></tr><tr><td>Engineer</td>\n",
    "  <td style=\"vertical-align : middle;text-align:center;padding-right:20px\"><div class=\"w3-light-grey\">\n",
    "  <div style=\"background-color:2196F3;height:20px;width:1\"><div class=\"w3-container\">1<span class=\"w3-small\">%</span></div></div>\n",
    "</div></td></tr><tr><td>Programming Languages</td>\n",
    "  <td style=\"vertical-align : middle;text-align:center;padding-right:20px\"><div class=\"w3-light-grey\">\n",
    "  <div style=\"background-color:2196F3;height:20px;width:1\"><div class=\"w3-container\">1<span class=\"w3-small\">%</span></div></div>\n",
    "</div></td></tr><tr><td>redshift</td>\n",
    "  <td style=\"vertical-align : middle;text-align:center;padding-right:20px\"><div class=\"w3-light-grey\">\n",
    "  <div style=\"background-color:2196F3;height:20px;width:1\"><div class=\"w3-container\">1<span class=\"w3-small\">%</span></div></div>\n",
    "</div></td></tr><tr><td>Engineering</td>\n",
    "  <td style=\"vertical-align : middle;text-align:center;padding-right:20px\"><div class=\"w3-light-grey\">\n",
    "  <div style=\"background-color:2196F3;height:20px;width:1\"><div class=\"w3-container\">1<span class=\"w3-small\">%</span></div></div>\n",
    "</div></td></tr><tr><td>support</td>\n",
    "  <td style=\"vertical-align : middle;text-align:center;padding-right:20px\"><div class=\"w3-light-grey\">\n",
    "  <div style=\"background-color:2196F3;height:20px;width:1\"><div class=\"w3-container\">1<span class=\"w3-small\">%</span></div></div>\n",
    "</div></td></tr><tr><td>Estimation</td>\n",
    "  <td style=\"vertical-align : middle;text-align:center;padding-right:20px\"><div class=\"w3-light-grey\">\n",
    "  <div style=\"background-color:2196F3;height:20px;width:1\"><div class=\"w3-container\">1<span class=\"w3-small\">%</span></div></div>\n",
    "</div></td></tr><tr><td>Business Analysis</td>\n",
    "  <td style=\"vertical-align : middle;text-align:center;padding-right:20px\"><div class=\"w3-light-grey\">\n",
    "  <div style=\"background-color:2196F3;height:20px;width:1\"><div class=\"w3-container\">1<span class=\"w3-small\">%</span></div></div>\n",
    "</div></td></tr><tr><td>Communication Skills</td>\n",
    "  <td style=\"vertical-align : middle;text-align:center;padding-right:20px\"><div class=\"w3-light-grey\">\n",
    "  <div style=\"background-color:2196F3;height:20px;width:1\"><div class=\"w3-container\">1<span class=\"w3-small\">%</span></div></div>\n",
    "</div></td></tr><tr><td>Business Analyst</td>\n",
    "  <td style=\"vertical-align : middle;text-align:center;padding-right:20px\"><div class=\"w3-light-grey\">\n",
    "  <div style=\"background-color:2196F3;height:20px;width:1\"><div class=\"w3-container\">1<span class=\"w3-small\">%</span></div></div>\n",
    "</div></td></tr><tr><td>Cyber Security</td>\n",
    "  <td style=\"vertical-align : middle;text-align:center;padding-right:20px\"><div class=\"w3-light-grey\">\n",
    "  <div style=\"background-color:2196F3;height:20px;width:1\"><div class=\"w3-container\">1<span class=\"w3-small\">%</span></div></div>\n",
    "</div></td></tr></tbody>\"\"\""
   ]
  },
  {
   "cell_type": "code",
   "execution_count": 59,
   "metadata": {
    "scrolled": false
   },
   "outputs": [],
   "source": [
    "x4 = skill_list_2.split(\"</td>\")\n",
    "# x4"
   ]
  },
  {
   "cell_type": "code",
   "execution_count": 60,
   "metadata": {},
   "outputs": [],
   "source": [
    "# for item in x4:\n",
    "    "
   ]
  },
  {
   "cell_type": "code",
   "execution_count": 61,
   "metadata": {},
   "outputs": [
    {
     "name": "stdout",
     "output_type": "stream",
     "text": [
      "['SQL', 'Tableau', 'ETL', 'power bi', 'SSIS', 'Business Intelligence', 'Cloud', 'Looker', 'Data warehousing', 'Alteryx', 'DATA', 'Python', 'Analytics', 'Google Analytics', 'T-SQL', 'Analyst', 'data analysis', 'AWS', 'reporting', 'Insight', 'MI Reports', 'Agile', 'SSRS', 'powerbi', 'Microsoft Excel', 'Intelligence', 'AI', 'Machine Learning', 'Data Engineer', 'Google Cloud', 'Kubernetes', 'Analysis', 'database', 'CRM', 'Excel', 'BI Analyst', 'Financial Services', 'BI Developer', 'Commercial', 'Customer', 'Data Visualization', 'Segmentation', 'Modelling', 'ssas', 'Graduate', 'Marketing', 'Web Analytics', 'Analytical Skills', 'Business Analytics', 'Finance', 'Local Government', 'data analyst', 'Variance Analysis', 'Tableu', 'Design', 'Analytical', 'Troubleshooting', 'Business Intelligence Developer', 'application', 'Engineer', 'Programming Languages', 'redshift', 'Engineering', 'support', 'Estimation', 'Business Analysis', 'Communication Skills', 'Business Analyst', 'Cyber Security']\n"
     ]
    }
   ],
   "source": [
    "skill_list_final_2=[]\n",
    "for item in x4:\n",
    "    before,current,after = item.partition(\"<td>\")\n",
    "#     text_2.append(re.find(\"^<li>:(.*)\", item))\n",
    "    if len(after.strip())>0 and \"<a\" not in after.strip():\n",
    "        skill_list_final_2.append(after.strip())\n",
    "print(skill_list_final_2)"
   ]
  },
  {
   "cell_type": "code",
   "execution_count": 62,
   "metadata": {},
   "outputs": [
    {
     "name": "stdout",
     "output_type": "stream",
     "text": [
      "174\n"
     ]
    }
   ],
   "source": [
    "final_skill_list = skill_list_final_2 + text_final\n",
    "print(len(final_skill_list))\n"
   ]
  },
  {
   "cell_type": "code",
   "execution_count": 63,
   "metadata": {},
   "outputs": [],
   "source": [
    "import spacy\n",
    "from spacy.matcher import PhraseMatcher\n",
    "import en_core_web_sm\n",
    "nlp = en_core_web_sm.load()"
   ]
  },
  {
   "cell_type": "code",
   "execution_count": null,
   "metadata": {},
   "outputs": [],
   "source": []
  },
  {
   "cell_type": "code",
   "execution_count": 64,
   "metadata": {},
   "outputs": [],
   "source": [
    "# matcher.add('skill_keywords',None, *final_skill_list)"
   ]
  },
  {
   "cell_type": "code",
   "execution_count": 65,
   "metadata": {},
   "outputs": [
    {
     "name": "stdout",
     "output_type": "stream",
     "text": [
      "[SQL, Tableau, ETL, power bi, SSIS, Business Intelligence, Cloud, Looker, Data warehousing, Alteryx, DATA, Python, Analytics, Google Analytics, T-SQL, Analyst, data analysis, AWS, reporting, Insight, MI Reports, Agile, SSRS, powerbi, Microsoft Excel, Intelligence, AI, Machine Learning, Data Engineer, Google Cloud, Kubernetes, Analysis, database, CRM, Excel, BI Analyst, Financial Services, BI Developer, Commercial, Customer, Data Visualization, Segmentation, Modelling, ssas, Graduate, Marketing, Web Analytics, Analytical Skills, Business Analytics, Finance, Local Government, data analyst, Variance Analysis, Tableu, Design, Analytical, Troubleshooting, Business Intelligence Developer, application, Engineer, Programming Languages, redshift, Engineering, support, Estimation, Business Analysis, Communication Skills, Business Analyst, Cyber Security, Adapting to changing priorities, Assessing client/end-user needs, Attention to detail, Business strategies, C/C++, Client relations, Coaching, Coding, Computer science, Consulting, Coping with deadline pressure, Creating reports, Creating and running what-if simulations, Data architecture, Data controls, Data management, Data modeling, Data visualization, Debugging data output irregularities&nbsp;, Defining data access methods, Delegating, Designing enterprise-level reporting, Designing/modifying data warehouses, Evaluating business intelligence software, Extract, transform, load (ETL) testing, Facilitating the creation of new data-reporting models, Finding trends/patterns, IBM Cognos Analytics, Innovation, Insights, Java, Leading cross-functional teams, Maintaining technical documentation for solutions, Managing relationships with vendors, Managing stress, MatLab, Mentoring, Microsoft Excel, Microsoft Integration Services, Microsoft Power BI, Modeling, Monitoring data quality, Motivating staff, Online analytical processing (OLAP), Organizational approach, Programming, Python, Reporting tools, Researching solutions to user problems, Results oriented, SAS, Statistical analysis, Statistical knowledge, Strategic thinking, Time management, Training end users, Translating high-level design into specific implementation steps, Web analytic tools, Identifying and prioritizing problem areas, Determining factors that contribute to problems, Weighing alternative solutions, Assessing stakeholder perceptions regarding problems, Estimating costs for interventions, Proposing solutions, Persuading others to adopt solutions, Creativity, Decision making, Research, Project management, Leading brainstorming sessions, Industry trend analysis, Interpreting professional literature, Identifying best practices, Developing relationships with industry experts and influencers, Understanding the impact of economic cycles on your industry sector, Participating in industry-focused professional meetings and conferences, PowerPoint, Group presentations, Interviewing stakeholders to secure information, Presenting graphical data, Drawing consensus on research priorities, Facilitating group discussion, Writing summaries, Technical writing, Pitching proposals, Teamwork, Listening, Conveying complex information in understandable terms, Leadership, Database management, Survey design, Formulating data queries, SAS, SPS, Coding data, Drawing inferences, Applying scientific methods to gathering data, Quantitative analysis, SQL programming, Identifying high-value areas for inquiry, Establishing benchmarks, Identifying and measuring correlations, Intellectual curiosity, Classifying data, Strategic planning]\n"
     ]
    }
   ],
   "source": [
    "# words_list = []\n",
    "# for word in final_skill_list:\n",
    "#     words_list.append(nlp(word))\n",
    "    \n",
    "words_list = [nlp(word) for word in final_skill_list]\n",
    "print(words_list)"
   ]
  },
  {
   "cell_type": "code",
   "execution_count": 66,
   "metadata": {},
   "outputs": [],
   "source": [
    "# matcher = PhraseMatcher(nlp.vocab, max_length=20)\n",
    "# matcher.add('skill_keywords',None, *words_list)"
   ]
  },
  {
   "cell_type": "code",
   "execution_count": 67,
   "metadata": {},
   "outputs": [],
   "source": [
    "color_patterns = [nlp(text) for text in ('red', 'green', 'yellow')]"
   ]
  },
  {
   "cell_type": "code",
   "execution_count": 68,
   "metadata": {},
   "outputs": [],
   "source": [
    "def words_counter(sentence):\n",
    "    str_1 = sentence.strip()\n",
    "    count=0\n",
    "    for char in sentence:\n",
    "        if char==\" \":\n",
    "            count+=1\n",
    "        else:\n",
    "            continue\n",
    "    return (count+1)"
   ]
  },
  {
   "cell_type": "code",
   "execution_count": 69,
   "metadata": {},
   "outputs": [
    {
     "name": "stdout",
     "output_type": "stream",
     "text": [
      "[1, 1, 1, 2, 1, 2, 1, 1, 2, 1, 1, 1, 1, 2, 1, 1, 2, 1, 1, 1, 2, 1, 1, 1, 2, 1, 1, 2, 2, 2, 1, 1, 1, 1, 1, 2, 2, 2, 1, 1, 2, 1, 1, 1, 1, 1, 2, 2, 2, 1, 2, 2, 2, 1, 1, 1, 1, 3, 1, 1, 2, 1, 1, 1, 1, 2, 2, 2, 2, 4, 3, 3, 2, 1, 2, 1, 1, 2, 1, 4, 2, 5, 2, 2, 2, 2, 2, 4, 4, 1, 3, 3, 4, 5, 7, 2, 3, 1, 1, 1, 3, 5, 4, 2, 1, 1, 2, 3, 3, 1, 3, 2, 4, 2, 1, 1, 2, 5, 2, 1, 2, 2, 2, 2, 3, 7, 3, 5, 6, 3, 5, 4, 2, 5, 1, 2, 1, 2, 3, 3, 3, 3, 7, 7, 1, 2, 5, 3, 5, 3, 2, 2, 2, 1, 1, 6, 1, 2, 2, 3, 1, 1, 2, 2, 6, 2, 2, 5, 2, 4, 2, 2, 2]\n"
     ]
    }
   ],
   "source": [
    "no_words = []\n",
    "final_skill_list_v2 = []\n",
    "for sentence in final_skill_list:\n",
    "    len_sen = words_counter(sentence)\n",
    "    \n",
    "    if len_sen<10:\n",
    "        final_skill_list_v2.append(sentence.lower())\n",
    "        no_words.append(len_sen)\n",
    "print(no_words)\n",
    "# print(final_skill_list_v2)"
   ]
  },
  {
   "cell_type": "code",
   "execution_count": 70,
   "metadata": {},
   "outputs": [],
   "source": [
    "# matcher.add('skill_keywords',None, *words_list)\n",
    "words_list_v2 = [nlp(word) for word in final_skill_list_v2]\n",
    "# words_list_v2"
   ]
  },
  {
   "cell_type": "code",
   "execution_count": 71,
   "metadata": {},
   "outputs": [
    {
     "ename": "NameError",
     "evalue": "name 'matcher' is not defined",
     "output_type": "error",
     "traceback": [
      "\u001b[1;31m---------------------------------------------------------------------------\u001b[0m",
      "\u001b[1;31mNameError\u001b[0m                                 Traceback (most recent call last)",
      "\u001b[1;32m<ipython-input-71-6d05f06b25d6>\u001b[0m in \u001b[0;36m<module>\u001b[1;34m()\u001b[0m\n\u001b[1;32m----> 1\u001b[1;33m \u001b[0mmatcher\u001b[0m\u001b[1;33m.\u001b[0m\u001b[0madd\u001b[0m\u001b[1;33m(\u001b[0m\u001b[1;34m'skill_keywords'\u001b[0m\u001b[1;33m,\u001b[0m\u001b[1;32mNone\u001b[0m\u001b[1;33m,\u001b[0m \u001b[1;33m*\u001b[0m\u001b[0mwords_list_v2\u001b[0m\u001b[1;33m)\u001b[0m\u001b[1;33m\u001b[0m\u001b[0m\n\u001b[0m",
      "\u001b[1;31mNameError\u001b[0m: name 'matcher' is not defined"
     ]
    }
   ],
   "source": [
    "matcher.add('skill_keywords',None, *words_list_v2)"
   ]
  },
  {
   "cell_type": "code",
   "execution_count": 72,
   "metadata": {},
   "outputs": [],
   "source": [
    "text = text_desc.replace(\"\\n\", \"\").lower()\n",
    "doc = nlp(text)"
   ]
  },
  {
   "cell_type": "code",
   "execution_count": 73,
   "metadata": {},
   "outputs": [
    {
     "ename": "NameError",
     "evalue": "name 'matcher' is not defined",
     "output_type": "error",
     "traceback": [
      "\u001b[1;31m---------------------------------------------------------------------------\u001b[0m",
      "\u001b[1;31mNameError\u001b[0m                                 Traceback (most recent call last)",
      "\u001b[1;32m<ipython-input-73-49de935e0ab4>\u001b[0m in \u001b[0;36m<module>\u001b[1;34m()\u001b[0m\n\u001b[1;32m----> 1\u001b[1;33m \u001b[0mmatches\u001b[0m \u001b[1;33m=\u001b[0m \u001b[0mmatcher\u001b[0m\u001b[1;33m(\u001b[0m\u001b[0mdoc\u001b[0m\u001b[1;33m)\u001b[0m\u001b[1;33m\u001b[0m\u001b[0m\n\u001b[0m",
      "\u001b[1;31mNameError\u001b[0m: name 'matcher' is not defined"
     ]
    }
   ],
   "source": [
    "matches = matcher(doc)"
   ]
  },
  {
   "cell_type": "code",
   "execution_count": 74,
   "metadata": {},
   "outputs": [
    {
     "ename": "NameError",
     "evalue": "name 'matches' is not defined",
     "output_type": "error",
     "traceback": [
      "\u001b[1;31m---------------------------------------------------------------------------\u001b[0m",
      "\u001b[1;31mNameError\u001b[0m                                 Traceback (most recent call last)",
      "\u001b[1;32m<ipython-input-74-7f8dd0e2df65>\u001b[0m in \u001b[0;36m<module>\u001b[1;34m()\u001b[0m\n\u001b[1;32m----> 1\u001b[1;33m \u001b[0mprint\u001b[0m\u001b[1;33m(\u001b[0m\u001b[0mmatches\u001b[0m\u001b[1;33m)\u001b[0m\u001b[1;33m\u001b[0m\u001b[0m\n\u001b[0m",
      "\u001b[1;31mNameError\u001b[0m: name 'matches' is not defined"
     ]
    }
   ],
   "source": [
    "print(matches)"
   ]
  },
  {
   "cell_type": "code",
   "execution_count": 75,
   "metadata": {},
   "outputs": [
    {
     "ename": "NameError",
     "evalue": "name 'matches' is not defined",
     "output_type": "error",
     "traceback": [
      "\u001b[1;31m---------------------------------------------------------------------------\u001b[0m",
      "\u001b[1;31mNameError\u001b[0m                                 Traceback (most recent call last)",
      "\u001b[1;32m<ipython-input-75-b014a756a219>\u001b[0m in \u001b[0;36m<module>\u001b[1;34m()\u001b[0m\n\u001b[0;32m      1\u001b[0m \u001b[0md\u001b[0m\u001b[1;33m=\u001b[0m\u001b[1;33m[\u001b[0m\u001b[1;33m]\u001b[0m\u001b[1;33m\u001b[0m\u001b[0m\n\u001b[1;32m----> 2\u001b[1;33m \u001b[1;32mfor\u001b[0m \u001b[0mmatch_id\u001b[0m\u001b[1;33m,\u001b[0m \u001b[0mstart\u001b[0m\u001b[1;33m,\u001b[0m \u001b[0mend\u001b[0m \u001b[1;32min\u001b[0m \u001b[0mmatches\u001b[0m\u001b[1;33m:\u001b[0m\u001b[1;33m\u001b[0m\u001b[0m\n\u001b[0m\u001b[0;32m      3\u001b[0m \u001b[1;31m#     print(match_id)\u001b[0m\u001b[1;33m\u001b[0m\u001b[1;33m\u001b[0m\u001b[0m\n\u001b[0;32m      4\u001b[0m     \u001b[0mrule_id\u001b[0m \u001b[1;33m=\u001b[0m \u001b[0mnlp\u001b[0m\u001b[1;33m.\u001b[0m\u001b[0mvocab\u001b[0m\u001b[1;33m.\u001b[0m\u001b[0mstrings\u001b[0m\u001b[1;33m[\u001b[0m\u001b[0mmatch_id\u001b[0m\u001b[1;33m]\u001b[0m\u001b[1;33m\u001b[0m\u001b[0m\n\u001b[0;32m      5\u001b[0m     \u001b[0mspan\u001b[0m \u001b[1;33m=\u001b[0m \u001b[0mdoc\u001b[0m\u001b[1;33m[\u001b[0m\u001b[0mstart\u001b[0m \u001b[1;33m:\u001b[0m \u001b[0mend\u001b[0m\u001b[1;33m]\u001b[0m\u001b[1;33m\u001b[0m\u001b[0m\n",
      "\u001b[1;31mNameError\u001b[0m: name 'matches' is not defined"
     ]
    }
   ],
   "source": [
    "d=[]\n",
    "for match_id, start, end in matches:\n",
    "#     print(match_id)\n",
    "    rule_id = nlp.vocab.strings[match_id]\n",
    "    span = doc[start : end] \n",
    "    d.append((rule_id,span.text))\n",
    "# print(span)\n",
    "        \n",
    "print(d)\n",
    "        \n",
    "print(rule_id)"
   ]
  },
  {
   "cell_type": "code",
   "execution_count": 225,
   "metadata": {},
   "outputs": [
    {
     "ename": "NameError",
     "evalue": "name 'counter' is not defined",
     "output_type": "error",
     "traceback": [
      "\u001b[1;31m---------------------------------------------------------------------------\u001b[0m",
      "\u001b[1;31mNameError\u001b[0m                                 Traceback (most recent call last)",
      "\u001b[1;32m<ipython-input-225-41b63725b717>\u001b[0m in \u001b[0;36m<module>\u001b[1;34m()\u001b[0m\n\u001b[1;32m----> 1\u001b[1;33m \u001b[0mkeywords\u001b[0m \u001b[1;33m=\u001b[0m \u001b[1;34m\"\\n\"\u001b[0m\u001b[1;33m.\u001b[0m\u001b[0mjoin\u001b[0m\u001b[1;33m(\u001b[0m\u001b[1;34mf'{i[0]} {i[1]} ({j})'\u001b[0m \u001b[1;32mfor\u001b[0m \u001b[0mi\u001b[0m\u001b[1;33m,\u001b[0m\u001b[0mj\u001b[0m \u001b[1;32min\u001b[0m \u001b[0mcounter\u001b[0m\u001b[1;33m(\u001b[0m\u001b[0md\u001b[0m\u001b[1;33m)\u001b[0m\u001b[1;33m.\u001b[0m\u001b[0mitems\u001b[0m\u001b[1;33m(\u001b[0m\u001b[1;33m)\u001b[0m\u001b[1;33m)\u001b[0m\u001b[1;33m\u001b[0m\u001b[0m\n\u001b[0m",
      "\u001b[1;31mNameError\u001b[0m: name 'counter' is not defined"
     ]
    }
   ],
   "source": [
    "# keywords = \"\\n\".join(f'{i[0]} {i[1]} ({j})' for i,j in counter(d).items())"
   ]
  },
  {
   "cell_type": "code",
   "execution_count": 76,
   "metadata": {},
   "outputs": [],
   "source": [
    "# textimport PyPDF2\n",
    "import os\n",
    "from os import listdir\n",
    "from os.path import isfile, join\n",
    "from io import StringIO\n",
    "import pandas as pd\n",
    "from collections import Counter\n",
    "import en_core_web_sm\n",
    "nlp = en_core_web_sm.load()\n",
    "from spacy.matcher import PhraseMatcher"
   ]
  },
  {
   "cell_type": "code",
   "execution_count": 77,
   "metadata": {},
   "outputs": [],
   "source": [
    "keywords = \"\\n\".join(f'{i[0]} {i[1]} ({j})' for i,j in Counter(d).items())"
   ]
  },
  {
   "cell_type": "code",
   "execution_count": 78,
   "metadata": {},
   "outputs": [],
   "source": [
    "df = pd.read_csv(StringIO(keywords),names = ['Keywords_List'])\n",
    "df1 = pd.DataFrame(df.Keywords_List.str.split(' ',1).tolist(),columns = ['Subject','Keyword'])\n",
    "df2 = pd.DataFrame(df1.Keyword.str.split('(',1).tolist(),columns = ['Keyword', 'Count'])\n",
    "df3 = pd.concat([df1['Subject'],df2['Keyword'], df2['Count']], axis =1) \n",
    "df3['Count'] = df3['Count'].apply(lambda x: x.rstrip(\")\"))"
   ]
  },
  {
   "cell_type": "code",
   "execution_count": 79,
   "metadata": {},
   "outputs": [
    {
     "data": {
      "text/html": [
       "<div>\n",
       "<style scoped>\n",
       "    .dataframe tbody tr th:only-of-type {\n",
       "        vertical-align: middle;\n",
       "    }\n",
       "\n",
       "    .dataframe tbody tr th {\n",
       "        vertical-align: top;\n",
       "    }\n",
       "\n",
       "    .dataframe thead th {\n",
       "        text-align: right;\n",
       "    }\n",
       "</style>\n",
       "<table border=\"1\" class=\"dataframe\">\n",
       "  <thead>\n",
       "    <tr style=\"text-align: right;\">\n",
       "      <th></th>\n",
       "      <th>Subject</th>\n",
       "      <th>Keyword</th>\n",
       "      <th>Count</th>\n",
       "    </tr>\n",
       "  </thead>\n",
       "  <tbody>\n",
       "  </tbody>\n",
       "</table>\n",
       "</div>"
      ],
      "text/plain": [
       "Empty DataFrame\n",
       "Columns: [Subject, Keyword, Count]\n",
       "Index: []"
      ]
     },
     "execution_count": 79,
     "metadata": {},
     "output_type": "execute_result"
    }
   ],
   "source": [
    "df3"
   ]
  },
  {
   "cell_type": "code",
   "execution_count": 80,
   "metadata": {},
   "outputs": [],
   "source": [
    "import matplotlib.pyplot as plt\n",
    "# plt.show()"
   ]
  },
  {
   "cell_type": "code",
   "execution_count": 81,
   "metadata": {},
   "outputs": [
    {
     "data": {
      "text/plain": [
       "'bridge partners is an agile and innovative consulting firm primarily serving large technology enterprises in marketing, sales and operations. bridge partners is growing rapidly, expanding nationally and wants to create a working and career development environment where our employees can be their genuine selves and allow their own natural talents and interests to contribute to the firm’s success, as well as their own.position description the analytics consultant will serve the primary function of delivering strategy, products, or services that improve the ability of a client or set of clients to make data-driven decisions for our analytics practice. this role is focused on listening to requirements from clients or internal audiences and aligning an analytical process to answer a question or describe a behavior leveraging data and tools available. the ideal candidate needs to be very familiar with various analytics tools and databases; have an area of expertise within analytics, and ideally will be able to think creatively across approaches and apply a method that aligns to the business question. you will need to have hands-on experience either building advanced analytical models (regression, machine learning, etc.) and/or direct involvement in applying the outcomes of advanced analytics models to improve or optimize a business process.essential duties and responsibilitieswork directly with bridge partners consulting customers as well as internal teams to construct, deliver, and optimize advanced analytics solutions. primary responsibilities include: gathering requirements from clients, asking clarifying questions to identify the business objective and constraints that may apply to the analytical process.create architecture, process flow, and roadmap documentation to illustrate how clients can achieve analytics outcomes and objectives.work with senior cross-functional roles across an enterprise to identify key dependencies and roles/responsibilities in achieving outcomes.assist clients in prioritizing initiatives based on level of effort and expected benefit.distill raw data elements and assess importance in explaining key business outcomes, sometimes via direct data access and statistical testing/modeling.describe benefits of various advanced analytics methodologies and assist clients in deciding on the relevant approach.leverage knowledge of open source and 3rd party products and solutions to drive development and deployment of analytical solutions and architecturestrack multiple assigned projects to completion, including technical development of modeling methods.required knowledge, skills and experience ·      6-8+ years full time experience in an analytically based function (e.g. quantitative marketing, analytics)·      strategic mindset with the ability to think broadly, refine questions and develop analytical frameworks that drive to key insights and business recommendations·      strong sense of pragmatism and business judgment to ensure insights and recommendations lead to execution, action and impact·      experience with sql and business intelligence tools (tableau, powerbi, qliksense, microstrategy, looker, cognos, domo etc.) is required·      experience with data storage, tools and technologies is preferred.·      strong data presentation, visualization and communication skills·      familiarity with statistical programming languages and packages (sas, spss, r, python)·      effective at communicating insights and creating a story from data analysis in order to influence change·      strong attention to detail, along with organization and time management skills·      ability to build and foster productive working relationships with cross-functional teams·      self-starter who desires to discover trends and find actionable information·      bachelor’s degree in a relevant field (computer science, economics, statistics, applied math, etc.)due to the high volume of applications, we are not able to respond to every resume we receive. local seattle area candidates only, please. thank you for your understanding. bridge partners llc is an eeo employer'"
      ]
     },
     "execution_count": 81,
     "metadata": {},
     "output_type": "execute_result"
    }
   ],
   "source": [
    "text"
   ]
  },
  {
   "cell_type": "code",
   "execution_count": 82,
   "metadata": {},
   "outputs": [],
   "source": [
    "keyword_dict = pd.read_csv('C:/Users/kkari/Desktop/dev/LinkedIn_extractor/Anaconda/skills.csv')"
   ]
  },
  {
   "cell_type": "code",
   "execution_count": 83,
   "metadata": {},
   "outputs": [
    {
     "name": "stdout",
     "output_type": "stream",
     "text": [
      "             Statistics     Machine Learning       Programming  \\\n",
      "0    statistical models    linear regression  machine learning   \n",
      "1  statistical modeling  logistic regression     deep learning   \n",
      "2           probability              K means                 r   \n",
      "3   normal distribution        random forest            ggplot   \n",
      "4  poisson distribution              xgboost            python   \n",
      "\n",
      "  BI and Reporting         database            general  sponsorship  \n",
      "0            excel            azure  business analysis  sponsorship  \n",
      "1          powerbi              aws            finance          NaN  \n",
      "2         power bi              ec2      data analysis          NaN  \n",
      "3  reporting tools  amazon redshift           customer          NaN  \n",
      "4            kpi's           docker          behaviour          NaN  \n"
     ]
    }
   ],
   "source": [
    "print(keyword_dict.head())"
   ]
  },
  {
   "cell_type": "code",
   "execution_count": 84,
   "metadata": {},
   "outputs": [
    {
     "ename": "KeyError",
     "evalue": "'Tableau and others'",
     "output_type": "error",
     "traceback": [
      "\u001b[1;31m---------------------------------------------------------------------------\u001b[0m",
      "\u001b[1;31mKeyError\u001b[0m                                  Traceback (most recent call last)",
      "\u001b[1;32mC:\\Program Files (x86)\\Microsoft Visual Studio\\Shared\\Anaconda3_64\\lib\\site-packages\\pandas\\core\\indexes\\base.py\u001b[0m in \u001b[0;36mget_loc\u001b[1;34m(self, key, method, tolerance)\u001b[0m\n\u001b[0;32m   3062\u001b[0m             \u001b[1;32mtry\u001b[0m\u001b[1;33m:\u001b[0m\u001b[1;33m\u001b[0m\u001b[0m\n\u001b[1;32m-> 3063\u001b[1;33m                 \u001b[1;32mreturn\u001b[0m \u001b[0mself\u001b[0m\u001b[1;33m.\u001b[0m\u001b[0m_engine\u001b[0m\u001b[1;33m.\u001b[0m\u001b[0mget_loc\u001b[0m\u001b[1;33m(\u001b[0m\u001b[0mkey\u001b[0m\u001b[1;33m)\u001b[0m\u001b[1;33m\u001b[0m\u001b[0m\n\u001b[0m\u001b[0;32m   3064\u001b[0m             \u001b[1;32mexcept\u001b[0m \u001b[0mKeyError\u001b[0m\u001b[1;33m:\u001b[0m\u001b[1;33m\u001b[0m\u001b[0m\n",
      "\u001b[1;32mpandas\\_libs\\index.pyx\u001b[0m in \u001b[0;36mpandas._libs.index.IndexEngine.get_loc\u001b[1;34m()\u001b[0m\n",
      "\u001b[1;32mpandas\\_libs\\index.pyx\u001b[0m in \u001b[0;36mpandas._libs.index.IndexEngine.get_loc\u001b[1;34m()\u001b[0m\n",
      "\u001b[1;32mpandas\\_libs\\hashtable_class_helper.pxi\u001b[0m in \u001b[0;36mpandas._libs.hashtable.PyObjectHashTable.get_item\u001b[1;34m()\u001b[0m\n",
      "\u001b[1;32mpandas\\_libs\\hashtable_class_helper.pxi\u001b[0m in \u001b[0;36mpandas._libs.hashtable.PyObjectHashTable.get_item\u001b[1;34m()\u001b[0m\n",
      "\u001b[1;31mKeyError\u001b[0m: 'Tableau and others'",
      "\nDuring handling of the above exception, another exception occurred:\n",
      "\u001b[1;31mKeyError\u001b[0m                                  Traceback (most recent call last)",
      "\u001b[1;32m<ipython-input-84-20363abf2e2f>\u001b[0m in \u001b[0;36m<module>\u001b[1;34m()\u001b[0m\n\u001b[0;32m      2\u001b[0m \u001b[0mML_words\u001b[0m \u001b[1;33m=\u001b[0m \u001b[1;33m[\u001b[0m\u001b[0mnlp\u001b[0m\u001b[1;33m(\u001b[0m\u001b[0mtext\u001b[0m\u001b[1;33m)\u001b[0m \u001b[1;32mfor\u001b[0m \u001b[0mtext\u001b[0m \u001b[1;32min\u001b[0m \u001b[0mkeyword_dict\u001b[0m\u001b[1;33m[\u001b[0m\u001b[1;34m'Machine Learning'\u001b[0m\u001b[1;33m]\u001b[0m\u001b[1;33m.\u001b[0m\u001b[0mdropna\u001b[0m\u001b[1;33m(\u001b[0m\u001b[0maxis\u001b[0m \u001b[1;33m=\u001b[0m \u001b[1;36m0\u001b[0m\u001b[1;33m)\u001b[0m\u001b[1;33m]\u001b[0m\u001b[1;33m\u001b[0m\u001b[0m\n\u001b[0;32m      3\u001b[0m \u001b[0mprogramming_words\u001b[0m \u001b[1;33m=\u001b[0m \u001b[1;33m[\u001b[0m\u001b[0mnlp\u001b[0m\u001b[1;33m(\u001b[0m\u001b[0mtext\u001b[0m\u001b[1;33m)\u001b[0m \u001b[1;32mfor\u001b[0m \u001b[0mtext\u001b[0m \u001b[1;32min\u001b[0m \u001b[0mkeyword_dict\u001b[0m\u001b[1;33m[\u001b[0m\u001b[1;34m'Programming'\u001b[0m\u001b[1;33m]\u001b[0m\u001b[1;33m.\u001b[0m\u001b[0mdropna\u001b[0m\u001b[1;33m(\u001b[0m\u001b[0maxis\u001b[0m \u001b[1;33m=\u001b[0m \u001b[1;36m0\u001b[0m\u001b[1;33m)\u001b[0m\u001b[1;33m]\u001b[0m\u001b[1;33m\u001b[0m\u001b[0m\n\u001b[1;32m----> 4\u001b[1;33m \u001b[0mother_bi_words\u001b[0m \u001b[1;33m=\u001b[0m \u001b[1;33m[\u001b[0m\u001b[0mnlp\u001b[0m\u001b[1;33m(\u001b[0m\u001b[0mtext\u001b[0m\u001b[1;33m)\u001b[0m \u001b[1;32mfor\u001b[0m \u001b[0mtext\u001b[0m \u001b[1;32min\u001b[0m \u001b[0mkeyword_dict\u001b[0m\u001b[1;33m[\u001b[0m\u001b[1;34m'Tableau and others'\u001b[0m\u001b[1;33m]\u001b[0m\u001b[1;33m.\u001b[0m\u001b[0mdropna\u001b[0m\u001b[1;33m(\u001b[0m\u001b[0maxis\u001b[0m \u001b[1;33m=\u001b[0m \u001b[1;36m0\u001b[0m\u001b[1;33m)\u001b[0m\u001b[1;33m]\u001b[0m\u001b[1;33m\u001b[0m\u001b[0m\n\u001b[0m\u001b[0;32m      5\u001b[0m \u001b[0mpowerbi_words\u001b[0m \u001b[1;33m=\u001b[0m \u001b[1;33m[\u001b[0m\u001b[0mnlp\u001b[0m\u001b[1;33m(\u001b[0m\u001b[0mtext\u001b[0m\u001b[1;33m)\u001b[0m \u001b[1;32mfor\u001b[0m \u001b[0mtext\u001b[0m \u001b[1;32min\u001b[0m \u001b[0mkeyword_dict\u001b[0m\u001b[1;33m[\u001b[0m\u001b[1;34m'Power BI'\u001b[0m\u001b[1;33m]\u001b[0m\u001b[1;33m.\u001b[0m\u001b[0mdropna\u001b[0m\u001b[1;33m(\u001b[0m\u001b[0maxis\u001b[0m \u001b[1;33m=\u001b[0m \u001b[1;36m0\u001b[0m\u001b[1;33m)\u001b[0m\u001b[1;33m]\u001b[0m\u001b[1;33m\u001b[0m\u001b[0m\n\u001b[0;32m      6\u001b[0m \u001b[0mdatabase_words\u001b[0m \u001b[1;33m=\u001b[0m \u001b[1;33m[\u001b[0m\u001b[0mnlp\u001b[0m\u001b[1;33m(\u001b[0m\u001b[0mtext\u001b[0m\u001b[1;33m)\u001b[0m \u001b[1;32mfor\u001b[0m \u001b[0mtext\u001b[0m \u001b[1;32min\u001b[0m \u001b[0mkeyword_dict\u001b[0m\u001b[1;33m[\u001b[0m\u001b[1;34m'database'\u001b[0m\u001b[1;33m]\u001b[0m\u001b[1;33m.\u001b[0m\u001b[0mdropna\u001b[0m\u001b[1;33m(\u001b[0m\u001b[0maxis\u001b[0m \u001b[1;33m=\u001b[0m \u001b[1;36m0\u001b[0m\u001b[1;33m)\u001b[0m\u001b[1;33m]\u001b[0m\u001b[1;33m\u001b[0m\u001b[0m\n",
      "\u001b[1;32mC:\\Program Files (x86)\\Microsoft Visual Studio\\Shared\\Anaconda3_64\\lib\\site-packages\\pandas\\core\\frame.py\u001b[0m in \u001b[0;36m__getitem__\u001b[1;34m(self, key)\u001b[0m\n\u001b[0;32m   2683\u001b[0m             \u001b[1;32mreturn\u001b[0m \u001b[0mself\u001b[0m\u001b[1;33m.\u001b[0m\u001b[0m_getitem_multilevel\u001b[0m\u001b[1;33m(\u001b[0m\u001b[0mkey\u001b[0m\u001b[1;33m)\u001b[0m\u001b[1;33m\u001b[0m\u001b[0m\n\u001b[0;32m   2684\u001b[0m         \u001b[1;32melse\u001b[0m\u001b[1;33m:\u001b[0m\u001b[1;33m\u001b[0m\u001b[0m\n\u001b[1;32m-> 2685\u001b[1;33m             \u001b[1;32mreturn\u001b[0m \u001b[0mself\u001b[0m\u001b[1;33m.\u001b[0m\u001b[0m_getitem_column\u001b[0m\u001b[1;33m(\u001b[0m\u001b[0mkey\u001b[0m\u001b[1;33m)\u001b[0m\u001b[1;33m\u001b[0m\u001b[0m\n\u001b[0m\u001b[0;32m   2686\u001b[0m \u001b[1;33m\u001b[0m\u001b[0m\n\u001b[0;32m   2687\u001b[0m     \u001b[1;32mdef\u001b[0m \u001b[0m_getitem_column\u001b[0m\u001b[1;33m(\u001b[0m\u001b[0mself\u001b[0m\u001b[1;33m,\u001b[0m \u001b[0mkey\u001b[0m\u001b[1;33m)\u001b[0m\u001b[1;33m:\u001b[0m\u001b[1;33m\u001b[0m\u001b[0m\n",
      "\u001b[1;32mC:\\Program Files (x86)\\Microsoft Visual Studio\\Shared\\Anaconda3_64\\lib\\site-packages\\pandas\\core\\frame.py\u001b[0m in \u001b[0;36m_getitem_column\u001b[1;34m(self, key)\u001b[0m\n\u001b[0;32m   2690\u001b[0m         \u001b[1;31m# get column\u001b[0m\u001b[1;33m\u001b[0m\u001b[1;33m\u001b[0m\u001b[0m\n\u001b[0;32m   2691\u001b[0m         \u001b[1;32mif\u001b[0m \u001b[0mself\u001b[0m\u001b[1;33m.\u001b[0m\u001b[0mcolumns\u001b[0m\u001b[1;33m.\u001b[0m\u001b[0mis_unique\u001b[0m\u001b[1;33m:\u001b[0m\u001b[1;33m\u001b[0m\u001b[0m\n\u001b[1;32m-> 2692\u001b[1;33m             \u001b[1;32mreturn\u001b[0m \u001b[0mself\u001b[0m\u001b[1;33m.\u001b[0m\u001b[0m_get_item_cache\u001b[0m\u001b[1;33m(\u001b[0m\u001b[0mkey\u001b[0m\u001b[1;33m)\u001b[0m\u001b[1;33m\u001b[0m\u001b[0m\n\u001b[0m\u001b[0;32m   2693\u001b[0m \u001b[1;33m\u001b[0m\u001b[0m\n\u001b[0;32m   2694\u001b[0m         \u001b[1;31m# duplicate columns & possible reduce dimensionality\u001b[0m\u001b[1;33m\u001b[0m\u001b[1;33m\u001b[0m\u001b[0m\n",
      "\u001b[1;32mC:\\Program Files (x86)\\Microsoft Visual Studio\\Shared\\Anaconda3_64\\lib\\site-packages\\pandas\\core\\generic.py\u001b[0m in \u001b[0;36m_get_item_cache\u001b[1;34m(self, item)\u001b[0m\n\u001b[0;32m   2484\u001b[0m         \u001b[0mres\u001b[0m \u001b[1;33m=\u001b[0m \u001b[0mcache\u001b[0m\u001b[1;33m.\u001b[0m\u001b[0mget\u001b[0m\u001b[1;33m(\u001b[0m\u001b[0mitem\u001b[0m\u001b[1;33m)\u001b[0m\u001b[1;33m\u001b[0m\u001b[0m\n\u001b[0;32m   2485\u001b[0m         \u001b[1;32mif\u001b[0m \u001b[0mres\u001b[0m \u001b[1;32mis\u001b[0m \u001b[1;32mNone\u001b[0m\u001b[1;33m:\u001b[0m\u001b[1;33m\u001b[0m\u001b[0m\n\u001b[1;32m-> 2486\u001b[1;33m             \u001b[0mvalues\u001b[0m \u001b[1;33m=\u001b[0m \u001b[0mself\u001b[0m\u001b[1;33m.\u001b[0m\u001b[0m_data\u001b[0m\u001b[1;33m.\u001b[0m\u001b[0mget\u001b[0m\u001b[1;33m(\u001b[0m\u001b[0mitem\u001b[0m\u001b[1;33m)\u001b[0m\u001b[1;33m\u001b[0m\u001b[0m\n\u001b[0m\u001b[0;32m   2487\u001b[0m             \u001b[0mres\u001b[0m \u001b[1;33m=\u001b[0m \u001b[0mself\u001b[0m\u001b[1;33m.\u001b[0m\u001b[0m_box_item_values\u001b[0m\u001b[1;33m(\u001b[0m\u001b[0mitem\u001b[0m\u001b[1;33m,\u001b[0m \u001b[0mvalues\u001b[0m\u001b[1;33m)\u001b[0m\u001b[1;33m\u001b[0m\u001b[0m\n\u001b[0;32m   2488\u001b[0m             \u001b[0mcache\u001b[0m\u001b[1;33m[\u001b[0m\u001b[0mitem\u001b[0m\u001b[1;33m]\u001b[0m \u001b[1;33m=\u001b[0m \u001b[0mres\u001b[0m\u001b[1;33m\u001b[0m\u001b[0m\n",
      "\u001b[1;32mC:\\Program Files (x86)\\Microsoft Visual Studio\\Shared\\Anaconda3_64\\lib\\site-packages\\pandas\\core\\internals.py\u001b[0m in \u001b[0;36mget\u001b[1;34m(self, item, fastpath)\u001b[0m\n\u001b[0;32m   4113\u001b[0m \u001b[1;33m\u001b[0m\u001b[0m\n\u001b[0;32m   4114\u001b[0m             \u001b[1;32mif\u001b[0m \u001b[1;32mnot\u001b[0m \u001b[0misna\u001b[0m\u001b[1;33m(\u001b[0m\u001b[0mitem\u001b[0m\u001b[1;33m)\u001b[0m\u001b[1;33m:\u001b[0m\u001b[1;33m\u001b[0m\u001b[0m\n\u001b[1;32m-> 4115\u001b[1;33m                 \u001b[0mloc\u001b[0m \u001b[1;33m=\u001b[0m \u001b[0mself\u001b[0m\u001b[1;33m.\u001b[0m\u001b[0mitems\u001b[0m\u001b[1;33m.\u001b[0m\u001b[0mget_loc\u001b[0m\u001b[1;33m(\u001b[0m\u001b[0mitem\u001b[0m\u001b[1;33m)\u001b[0m\u001b[1;33m\u001b[0m\u001b[0m\n\u001b[0m\u001b[0;32m   4116\u001b[0m             \u001b[1;32melse\u001b[0m\u001b[1;33m:\u001b[0m\u001b[1;33m\u001b[0m\u001b[0m\n\u001b[0;32m   4117\u001b[0m                 \u001b[0mindexer\u001b[0m \u001b[1;33m=\u001b[0m \u001b[0mnp\u001b[0m\u001b[1;33m.\u001b[0m\u001b[0marange\u001b[0m\u001b[1;33m(\u001b[0m\u001b[0mlen\u001b[0m\u001b[1;33m(\u001b[0m\u001b[0mself\u001b[0m\u001b[1;33m.\u001b[0m\u001b[0mitems\u001b[0m\u001b[1;33m)\u001b[0m\u001b[1;33m)\u001b[0m\u001b[1;33m[\u001b[0m\u001b[0misna\u001b[0m\u001b[1;33m(\u001b[0m\u001b[0mself\u001b[0m\u001b[1;33m.\u001b[0m\u001b[0mitems\u001b[0m\u001b[1;33m)\u001b[0m\u001b[1;33m]\u001b[0m\u001b[1;33m\u001b[0m\u001b[0m\n",
      "\u001b[1;32mC:\\Program Files (x86)\\Microsoft Visual Studio\\Shared\\Anaconda3_64\\lib\\site-packages\\pandas\\core\\indexes\\base.py\u001b[0m in \u001b[0;36mget_loc\u001b[1;34m(self, key, method, tolerance)\u001b[0m\n\u001b[0;32m   3063\u001b[0m                 \u001b[1;32mreturn\u001b[0m \u001b[0mself\u001b[0m\u001b[1;33m.\u001b[0m\u001b[0m_engine\u001b[0m\u001b[1;33m.\u001b[0m\u001b[0mget_loc\u001b[0m\u001b[1;33m(\u001b[0m\u001b[0mkey\u001b[0m\u001b[1;33m)\u001b[0m\u001b[1;33m\u001b[0m\u001b[0m\n\u001b[0;32m   3064\u001b[0m             \u001b[1;32mexcept\u001b[0m \u001b[0mKeyError\u001b[0m\u001b[1;33m:\u001b[0m\u001b[1;33m\u001b[0m\u001b[0m\n\u001b[1;32m-> 3065\u001b[1;33m                 \u001b[1;32mreturn\u001b[0m \u001b[0mself\u001b[0m\u001b[1;33m.\u001b[0m\u001b[0m_engine\u001b[0m\u001b[1;33m.\u001b[0m\u001b[0mget_loc\u001b[0m\u001b[1;33m(\u001b[0m\u001b[0mself\u001b[0m\u001b[1;33m.\u001b[0m\u001b[0m_maybe_cast_indexer\u001b[0m\u001b[1;33m(\u001b[0m\u001b[0mkey\u001b[0m\u001b[1;33m)\u001b[0m\u001b[1;33m)\u001b[0m\u001b[1;33m\u001b[0m\u001b[0m\n\u001b[0m\u001b[0;32m   3066\u001b[0m \u001b[1;33m\u001b[0m\u001b[0m\n\u001b[0;32m   3067\u001b[0m         \u001b[0mindexer\u001b[0m \u001b[1;33m=\u001b[0m \u001b[0mself\u001b[0m\u001b[1;33m.\u001b[0m\u001b[0mget_indexer\u001b[0m\u001b[1;33m(\u001b[0m\u001b[1;33m[\u001b[0m\u001b[0mkey\u001b[0m\u001b[1;33m]\u001b[0m\u001b[1;33m,\u001b[0m \u001b[0mmethod\u001b[0m\u001b[1;33m=\u001b[0m\u001b[0mmethod\u001b[0m\u001b[1;33m,\u001b[0m \u001b[0mtolerance\u001b[0m\u001b[1;33m=\u001b[0m\u001b[0mtolerance\u001b[0m\u001b[1;33m)\u001b[0m\u001b[1;33m\u001b[0m\u001b[0m\n",
      "\u001b[1;32mpandas\\_libs\\index.pyx\u001b[0m in \u001b[0;36mpandas._libs.index.IndexEngine.get_loc\u001b[1;34m()\u001b[0m\n",
      "\u001b[1;32mpandas\\_libs\\index.pyx\u001b[0m in \u001b[0;36mpandas._libs.index.IndexEngine.get_loc\u001b[1;34m()\u001b[0m\n",
      "\u001b[1;32mpandas\\_libs\\hashtable_class_helper.pxi\u001b[0m in \u001b[0;36mpandas._libs.hashtable.PyObjectHashTable.get_item\u001b[1;34m()\u001b[0m\n",
      "\u001b[1;32mpandas\\_libs\\hashtable_class_helper.pxi\u001b[0m in \u001b[0;36mpandas._libs.hashtable.PyObjectHashTable.get_item\u001b[1;34m()\u001b[0m\n",
      "\u001b[1;31mKeyError\u001b[0m: 'Tableau and others'"
     ]
    }
   ],
   "source": [
    "stats_words = [nlp(text) for text in keyword_dict['Statistics'].dropna(axis = 0)]\n",
    "ML_words = [nlp(text) for text in keyword_dict['Machine Learning'].dropna(axis = 0)]\n",
    "programming_words = [nlp(text) for text in keyword_dict['Programming'].dropna(axis = 0)]\n",
    "other_bi_words = [nlp(text) for text in keyword_dict['Tableau and others'].dropna(axis = 0)]\n",
    "powerbi_words = [nlp(text) for text in keyword_dict['Power BI'].dropna(axis = 0)]\n",
    "database_words = [nlp(text) for text in keyword_dict['database'].dropna(axis = 0)]\n",
    "general_words = [nlp(text) for text in keyword_dict['general'].dropna(axis = 0)]"
   ]
  },
  {
   "cell_type": "code",
   "execution_count": 85,
   "metadata": {},
   "outputs": [],
   "source": [
    "matcher = PhraseMatcher(nlp.vocab)"
   ]
  },
  {
   "cell_type": "code",
   "execution_count": 86,
   "metadata": {},
   "outputs": [
    {
     "ename": "NameError",
     "evalue": "name 'other_bi_words' is not defined",
     "output_type": "error",
     "traceback": [
      "\u001b[1;31m---------------------------------------------------------------------------\u001b[0m",
      "\u001b[1;31mNameError\u001b[0m                                 Traceback (most recent call last)",
      "\u001b[1;32m<ipython-input-86-2fc69be626b9>\u001b[0m in \u001b[0;36m<module>\u001b[1;34m()\u001b[0m\n\u001b[0;32m      2\u001b[0m \u001b[0mmatcher\u001b[0m\u001b[1;33m.\u001b[0m\u001b[0madd\u001b[0m\u001b[1;33m(\u001b[0m\u001b[1;34m'ML'\u001b[0m\u001b[1;33m,\u001b[0m \u001b[1;32mNone\u001b[0m\u001b[1;33m,\u001b[0m \u001b[1;33m*\u001b[0m\u001b[0mML_words\u001b[0m\u001b[1;33m)\u001b[0m\u001b[1;33m\u001b[0m\u001b[0m\n\u001b[0;32m      3\u001b[0m \u001b[0mmatcher\u001b[0m\u001b[1;33m.\u001b[0m\u001b[0madd\u001b[0m\u001b[1;33m(\u001b[0m\u001b[1;34m'Programming'\u001b[0m\u001b[1;33m,\u001b[0m \u001b[1;32mNone\u001b[0m\u001b[1;33m,\u001b[0m \u001b[1;33m*\u001b[0m\u001b[0mprogramming_words\u001b[0m\u001b[1;33m)\u001b[0m\u001b[1;33m\u001b[0m\u001b[0m\n\u001b[1;32m----> 4\u001b[1;33m \u001b[0mmatcher\u001b[0m\u001b[1;33m.\u001b[0m\u001b[0madd\u001b[0m\u001b[1;33m(\u001b[0m\u001b[1;34m'other_bi'\u001b[0m\u001b[1;33m,\u001b[0m \u001b[1;32mNone\u001b[0m\u001b[1;33m,\u001b[0m \u001b[1;33m*\u001b[0m\u001b[0mother_bi_words\u001b[0m\u001b[1;33m)\u001b[0m\u001b[1;33m\u001b[0m\u001b[0m\n\u001b[0m\u001b[0;32m      5\u001b[0m \u001b[0mmatcher\u001b[0m\u001b[1;33m.\u001b[0m\u001b[0madd\u001b[0m\u001b[1;33m(\u001b[0m\u001b[1;34m'powerbi'\u001b[0m\u001b[1;33m,\u001b[0m \u001b[1;32mNone\u001b[0m\u001b[1;33m,\u001b[0m \u001b[1;33m*\u001b[0m\u001b[0mpowerbi_words\u001b[0m\u001b[1;33m)\u001b[0m\u001b[1;33m\u001b[0m\u001b[0m\n\u001b[0;32m      6\u001b[0m \u001b[0mmatcher\u001b[0m\u001b[1;33m.\u001b[0m\u001b[0madd\u001b[0m\u001b[1;33m(\u001b[0m\u001b[1;34m'database'\u001b[0m\u001b[1;33m,\u001b[0m \u001b[1;32mNone\u001b[0m\u001b[1;33m,\u001b[0m \u001b[1;33m*\u001b[0m\u001b[0mdatabase_words\u001b[0m\u001b[1;33m)\u001b[0m\u001b[1;33m\u001b[0m\u001b[0m\n",
      "\u001b[1;31mNameError\u001b[0m: name 'other_bi_words' is not defined"
     ]
    }
   ],
   "source": [
    "matcher.add('Stats', None, *stats_words)\n",
    "matcher.add('ML', None, *ML_words)\n",
    "matcher.add('Programming', None, *programming_words)\n",
    "matcher.add('other_bi', None, *other_bi_words)\n",
    "matcher.add('powerbi', None, *powerbi_words)\n",
    "matcher.add('database', None, *database_words)\n",
    "matcher.add('general', None, *general_words)"
   ]
  },
  {
   "cell_type": "code",
   "execution_count": 87,
   "metadata": {},
   "outputs": [],
   "source": [
    "doc = nlp(text)"
   ]
  },
  {
   "cell_type": "code",
   "execution_count": 88,
   "metadata": {},
   "outputs": [
    {
     "data": {
      "text/plain": [
       "[('ML', 'regression'),\n",
       " ('Programming', 'machine learning'),\n",
       " ('Stats', 'quantitative'),\n",
       " ('Programming', 'programming'),\n",
       " ('Programming', 'sas'),\n",
       " ('Programming', 'spss'),\n",
       " ('Programming', 'r'),\n",
       " ('Programming', 'python')]"
      ]
     },
     "execution_count": 88,
     "metadata": {},
     "output_type": "execute_result"
    }
   ],
   "source": [
    " d = []  \n",
    "matches = matcher(doc)\n",
    "for match_id, start, end in matches:\n",
    "    rule_id = nlp.vocab.strings[match_id]  # get the unicode ID, i.e. 'COLOR'\n",
    "    span = doc[start : end]  # get the matched slice of the doc\n",
    "    d.append((rule_id, span.text))   \n",
    "d"
   ]
  },
  {
   "cell_type": "code",
   "execution_count": 89,
   "metadata": {},
   "outputs": [],
   "source": [
    "keywords = \"\\n\".join(f'{i[0]} {i[1]} ({j})' for i,j in Counter(d).items())"
   ]
  },
  {
   "cell_type": "code",
   "execution_count": 90,
   "metadata": {},
   "outputs": [
    {
     "data": {
      "text/plain": [
       "'ML regression (1)\\nProgramming machine learning (1)\\nStats quantitative (1)\\nProgramming programming (1)\\nProgramming sas (1)\\nProgramming spss (1)\\nProgramming r (1)\\nProgramming python (1)'"
      ]
     },
     "execution_count": 90,
     "metadata": {},
     "output_type": "execute_result"
    }
   ],
   "source": [
    "keywords"
   ]
  },
  {
   "cell_type": "code",
   "execution_count": 91,
   "metadata": {},
   "outputs": [],
   "source": [
    "df = pd.read_csv(StringIO(keywords),names = ['Keywords_List'])\n",
    "df1 = pd.DataFrame(df.Keywords_List.str.split(' ',1).tolist(),columns = ['Subject','Keyword'])\n",
    "df2 = pd.DataFrame(df1.Keyword.str.split('(',1).tolist(),columns = ['Keyword', 'Count'])\n",
    "df3 = pd.concat([df1['Subject'],df2['Keyword'], df2['Count']], axis =1) \n",
    "df3['Count'] = df3['Count'].apply(lambda x: x.rstrip(\")\"))"
   ]
  },
  {
   "cell_type": "code",
   "execution_count": 92,
   "metadata": {},
   "outputs": [
    {
     "name": "stdout",
     "output_type": "stream",
     "text": [
      "connected_to_db\n",
      "closing conn\n"
     ]
    },
    {
     "data": {
      "text/html": [
       "<div>\n",
       "<style scoped>\n",
       "    .dataframe tbody tr th:only-of-type {\n",
       "        vertical-align: middle;\n",
       "    }\n",
       "\n",
       "    .dataframe tbody tr th {\n",
       "        vertical-align: top;\n",
       "    }\n",
       "\n",
       "    .dataframe thead th {\n",
       "        text-align: right;\n",
       "    }\n",
       "</style>\n",
       "<table border=\"1\" class=\"dataframe\">\n",
       "  <thead>\n",
       "    <tr style=\"text-align: right;\">\n",
       "      <th></th>\n",
       "      <th>job_id</th>\n",
       "      <th>description</th>\n",
       "    </tr>\n",
       "  </thead>\n",
       "  <tbody>\n",
       "    <tr>\n",
       "      <th>0</th>\n",
       "      <td>1714948005</td>\n",
       "      <td>Bridge Partners is an agile and innovative con...</td>\n",
       "    </tr>\n",
       "  </tbody>\n",
       "</table>\n",
       "</div>"
      ],
      "text/plain": [
       "       job_id                                        description\n",
       "0  1714948005  Bridge Partners is an agile and innovative con..."
      ]
     },
     "execution_count": 92,
     "metadata": {},
     "output_type": "execute_result"
    }
   ],
   "source": [
    "# base = os.path.basename(file)\n",
    "df_query = read_sql_server(sql_0)\n",
    "df_query"
   ]
  },
  {
   "cell_type": "code",
   "execution_count": 93,
   "metadata": {},
   "outputs": [
    {
     "data": {
      "text/plain": [
       "'1714948005'"
      ]
     },
     "execution_count": 93,
     "metadata": {},
     "output_type": "execute_result"
    }
   ],
   "source": [
    "job_id = df_query['job_id'][0]\n",
    "job_id"
   ]
  },
  {
   "cell_type": "code",
   "execution_count": 94,
   "metadata": {},
   "outputs": [
    {
     "data": {
      "text/html": [
       "<div>\n",
       "<style scoped>\n",
       "    .dataframe tbody tr th:only-of-type {\n",
       "        vertical-align: middle;\n",
       "    }\n",
       "\n",
       "    .dataframe tbody tr th {\n",
       "        vertical-align: top;\n",
       "    }\n",
       "\n",
       "    .dataframe thead th {\n",
       "        text-align: right;\n",
       "    }\n",
       "</style>\n",
       "<table border=\"1\" class=\"dataframe\">\n",
       "  <thead>\n",
       "    <tr style=\"text-align: right;\">\n",
       "      <th></th>\n",
       "      <th>Subject</th>\n",
       "      <th>Keyword</th>\n",
       "      <th>Count</th>\n",
       "    </tr>\n",
       "  </thead>\n",
       "  <tbody>\n",
       "    <tr>\n",
       "      <th>0</th>\n",
       "      <td>ML</td>\n",
       "      <td>regression</td>\n",
       "      <td>1</td>\n",
       "    </tr>\n",
       "    <tr>\n",
       "      <th>1</th>\n",
       "      <td>Programming</td>\n",
       "      <td>machine learning</td>\n",
       "      <td>1</td>\n",
       "    </tr>\n",
       "    <tr>\n",
       "      <th>2</th>\n",
       "      <td>Stats</td>\n",
       "      <td>quantitative</td>\n",
       "      <td>1</td>\n",
       "    </tr>\n",
       "    <tr>\n",
       "      <th>3</th>\n",
       "      <td>Programming</td>\n",
       "      <td>programming</td>\n",
       "      <td>1</td>\n",
       "    </tr>\n",
       "    <tr>\n",
       "      <th>4</th>\n",
       "      <td>Programming</td>\n",
       "      <td>sas</td>\n",
       "      <td>1</td>\n",
       "    </tr>\n",
       "    <tr>\n",
       "      <th>5</th>\n",
       "      <td>Programming</td>\n",
       "      <td>spss</td>\n",
       "      <td>1</td>\n",
       "    </tr>\n",
       "    <tr>\n",
       "      <th>6</th>\n",
       "      <td>Programming</td>\n",
       "      <td>r</td>\n",
       "      <td>1</td>\n",
       "    </tr>\n",
       "    <tr>\n",
       "      <th>7</th>\n",
       "      <td>Programming</td>\n",
       "      <td>python</td>\n",
       "      <td>1</td>\n",
       "    </tr>\n",
       "  </tbody>\n",
       "</table>\n",
       "</div>"
      ],
      "text/plain": [
       "       Subject            Keyword Count\n",
       "0           ML        regression      1\n",
       "1  Programming  machine learning      1\n",
       "2        Stats      quantitative      1\n",
       "3  Programming       programming      1\n",
       "4  Programming               sas      1\n",
       "5  Programming              spss      1\n",
       "6  Programming                 r      1\n",
       "7  Programming            python      1"
      ]
     },
     "execution_count": 94,
     "metadata": {},
     "output_type": "execute_result"
    }
   ],
   "source": [
    "dataf = pd.concat([df_query['job_id'], df3['Subject'], df3['Keyword'], df3['Count']], axis = 1)\n",
    "df3"
   ]
  },
  {
   "cell_type": "code",
   "execution_count": 95,
   "metadata": {},
   "outputs": [],
   "source": [
    "\n",
    "df3['Count'] = df3['Count'].apply(lambda x: int(x.rstrip(\")\")))"
   ]
  },
  {
   "cell_type": "code",
   "execution_count": 96,
   "metadata": {},
   "outputs": [
    {
     "data": {
      "text/plain": [
       "<matplotlib.axes._subplots.AxesSubplot at 0x215cfbd7eb8>"
      ]
     },
     "execution_count": 96,
     "metadata": {},
     "output_type": "execute_result"
    },
    {
     "data": {
      "image/png": "[encoded data removed]",
      "text/plain": [
       "<Figure size 432x288 with 1 Axes>"
      ]
     },
     "metadata": {},
     "output_type": "display_data"
    }
   ],
   "source": [
    "df3.groupby(['Subject']).sum().plot(kind = \"barh\")"
   ]
  },
  {
   "cell_type": "code",
   "execution_count": 97,
   "metadata": {},
   "outputs": [],
   "source": [
    "text = \"\"\"Krish Kari\n",
    "8450 Cambridge St, Houston, TX - 77054 | 7134976768 | krishkari50@gmail.com | Website\n",
    "Summary\n",
    "•\tExpertise in leveraging metrics, statistical analysis and visualization tools to dive deep into complex issues while deriving actionable results from operational and enterprise data.\n",
    "•\tExperience in extracting raw data from structured and unstructured data sources, transforming it using Python, SQL, regular expressions, and loading into an enterprise data warehouse (Extract-Transform-Load). \n",
    "•\tWide array of experiences in interpreting and analyzing data using statistical techniques and systems. \n",
    "•\tHands-on experience in data design and analysis using PowerBI, solving complex business problems. \n",
    "•\tStrong understanding of CRM databases/systems, to query and analyze customer data. \n",
    "•\tExperience with PowerBI, Tableau, MS Excel, MS Access and SQL Server Reporting Services (SSRS). \n",
    "•\tExtensive experience in in-depth data analysis on different databases and structures. \n",
    "•\tStrong knowledge in writing advanced SQL queries, sub-queries, and joins. \n",
    "•\tExperience in designing stunning visualizations using PowerBI, Tableau, MicroStrategy, Spotfire, D3.js and publishing and presenting dashboards on web and desktop platforms. \n",
    "Education\n",
    "MASTERS IN INDUSTRIAL ENGINEERING | MAY 2017 | UNIVERSITY OF HOUSTON | GPA- 3.3\n",
    "•\tRelevant Course work: Probability & Statistics, Statistical Process Control, Enterprise Operations and Business Intelligence, Management in Information Systems, Advanced Linear Optimization.\n",
    "BACHELOR OF TECHNOLOGY IN MECHANICAL ENGINEERING | MAY 2015 | JNTUK | GPA- 3.5\n",
    "Skills & Abilities\n",
    "Reporting Tools\tPowerBI, Tableau, MicroStrategy, Spotfire, SSRS\n",
    "BI Tools\tPowerBI, Micro Strategy, Tableau, SAP-PA, Spotfire, Qlik\n",
    "Business Modeling\tMicrosoft Visio\n",
    "Data modeling\tMicrosoft SQL Server Analysis Services\n",
    "Programming Languages\tPython, R\n",
    "Databases\tMYSQL, SQL Server, Oracle SQL, PostgreSQL\n",
    "Applications/IDE\tPyCharm, Eclipse, Minitab, MSOffice Suite, MS Visio,\n",
    "Document management\tVisual Source Safe 6.0, Share point, Ultra Edit\n",
    "Operating Systems\tWindows, UNIX, Linux\n",
    "\n",
    "Experience\n",
    "SENIOR BUSINESS INTELLIGENCE ANALYST | BLUESPRIG PEDIATRICS | JUL 2019 – PRESENT\n",
    "•\tOwns all dashboards for the business, and work with all stakeholders and partners to ensure all the dashboards are accurate.\n",
    "•\tResponsible for all the technical implementations and documentations associated with the Operations dashboards and strive for 100% accuracy.\n",
    "•\tProvided insight on the strategy and operating performance of the businesses for executive reviews and strategy summits.\n",
    "•\tPerform ad hoc analyses to identify opportunities and pain points for the business and find creative solutions.\n",
    "•\tWork cross-functionally with other departments to provide visibility and insight into how their KPIs affect the company operations.\n",
    "•\tDesign new metrics and enhance existing metrics to support the future state of business processes and ensure sustainability.\n",
    "•\tCollaborate cross-functionally with Business Function owners to drive strategic initiatives forward.\n",
    "•\tConduct sophisticated analysis and modeling using PowerBI that translates data into actionable insights and supports business development.\n",
    "•\tPartnered with internal stakeholders on several projects to identify and articulate opportunities, see beyond the data to identify solutions that raised the bar for decision making. \n",
    "•\tRecommended and driven process changes based on robust analysis of operational data and user behavior to improve overall business performance. \n",
    "PYTHON DEVELOPER | AT&T | FEB 2018 – APRIL 2018\n",
    "•\tEvaluated data for distribution, classification and correlation. \n",
    "•\tDeveloped a Python tool that automates the manual conversion of specification file to Cloudify Blueprint.\n",
    "•\tDesigned and developed interactive dashboards from real-time data using Tableau.\n",
    "•\tPerformed Statistical Data validation using Python to ensure accuracy of findings. \n",
    "•\tConducted sales and business analysis using multiple tools: Excel, Python and Tableau.\n",
    "•\tDeveloped reports with complex formulas/equations using Excel, Access and Tableau.\n",
    "•\tClearly and effectively presented information to internal stakeholders. \n",
    "•\tWorked with Reporting team and created the required data visualization dash boards on Tableau with all the required filters. \n",
    "•\tWorking closely with internal clients in accumulating the metric definitions, data visualization requirements to design a dynamic process.\n",
    "WORKFORCE ANALYST | SODEXO | JUN 2017 – JAN 2018\n",
    "•\tThe project consisted of three stages:\n",
    "•\t1) Initial workforce analysis and providing recommendations to improve productivity,\n",
    "•\t2) Conducting data analytics on labor metrics, and identifying critical issues like excessive overtime, absenteeism, ineffective scheduling, and improving efficient temp labor utilization, \n",
    "•\t3) Developing an on-demand Business Intelligence dashboard for visibility into cost and performance metrics, monitoring KPIs in MicroStrategy and Tableau.\n",
    "\n",
    "Responsibilities: \n",
    "•\tAnalyzed workforce data for 10,000 cost-centers and developed predictive linear regression model in Python with Scikit-learn to estimate labor utilization and expected annual labor costs per cost-center.\n",
    "•\tDeveloped Extract-Transform-Load program in Python to extract employee data from different data sources (MS SQL Server, Kronos, MS Access), completed denormalization and aggregation of data for subsequent statistical analysis.\n",
    "•\tDeveloped BI dashboard in MicroStrategy for real-time KPI monitoring: Overtime hours, scheduling effectiveness, clock punch %, absenteeism and accidental overtime.\n",
    "•\tApplied linear regression in Python to understand the relationship between different attributes of dataset and causal relationship between them, applied Ridge, Lasso regressions with L1 regularization and identified statistically significant factors influencing overtime. \n",
    "•\tDesigned custom reports, charts, tables and data visualization dashboards using Tableau for business development teams to support decision-making process. \n",
    "•\tInvolved in translating the business requirements into Data requirements mainly focusing on reducing temp labor costs by detail analysis on labor scheduling.\n",
    "•\tCreated customized AD-HOC reports and processes for analysis purpose.\n",
    "\n",
    "PROJECTS | UNIVERSITY OF HOUSTON | JAN 2016 – MAY 2017\n",
    "ADVANCED LINEAR OPTIMIZATION\n",
    "        Developed a model to maximize revenue for 36 product varieties that are manufactured at three different locations. Laid out a production and transportation plan that minimizes production costs and transportation costs using advanced Linear Optimization techniques (Microsoft Excel and Python)\n",
    "`\n",
    "ILLIUM INC. TRANSACTIONAL DATA ANALYSIS\n",
    "•\tConducted Investigative analysis on the mass transaction data of Ilium Inc. used TIBCO-Spotfire & Python to identify root-causes for key problems.\n",
    "•\tPerformed regression analysis to find the correlation between several KPI’s (factory efficiencies, lot sizes, etc.) and product costs.\n",
    "•\tDesigned an interactive dashboard in Spotfire, that tracks products with most delivery issues, and calculate overall CSI (customer satisfaction Index) for selected region of focus.\n",
    " \n",
    "STATISTICAL PROCESS CONTROL\n",
    "•\tHistorical output power data of solar cells is analyzed to improve the process capability of the Manufacturing Plant.\n",
    "•\tData Collection – Responsible for establishing the correct data exchange system by manual tables (Microsoft Excel, Access, Minitab). \n",
    "•\tResponsible to review analysis in the forms of, but not limited to, Histograms, Pareto Charts, Time Series Trend Line, Statistical Process Control Charts, ANOVA, Six Sigma Score and Rates and Means.\n",
    "•\tCreated Access database and built a dashboard in Tableau, as a temporary solution, to continuously monitor the control charts and the quality scores when new data is appended to database tables.\n",
    "•\tImproved process capability by 35% for a solar cell manufacturing plant by identifying and recommending corrective actions for the possible reasons for out of control outputs from the solar module.\n",
    "\n",
    "SAP-ERP SIMULATION\n",
    "•\tHands on experience on SAP predictive Analytics; created regression models and conducted Hypothesis testing on forecasting the sales and production requirements for a Cereal company with 12 product varieties.\n",
    "•\tCo-ordinated with cross-functional team to plan, execute and strategically implement the decisions by observing key performance indicators from historical analysis.\n",
    "•\tTeam was awarded 1st place for methodology and 2nd based on final revenue score.\n",
    "\n",
    "JUNIOR DATA ANALYST | VIKAS TECHNOLOGIES | JAN 2015 – DEC 2015\n",
    "•\tResponsible for various daily reporting assignments summarizing sales activity for several business \n",
    "units. \n",
    "•\tResponsible for data aggregation, data pre-processing, missing value imputation and descriptive and inferential analysis. \n",
    "•\tUsed SQL, Minitab, MS Access and Excel for creating summaries, running summary statistics and result tables.\n",
    "•\tCreated and presented impactful Tableau Dashboards and Excel visualizations to team members and clients to improve system efficiencies and reduce total expenses.\n",
    "•\tParticipated in team projects and brainstorming sessions to assess various methodologies for study designs.\n",
    "•\tCommunicated with technical and non-technical end users, providing clear explanation of procedures used and results obtained from data analysis tasks.\n",
    "\n",
    "\n",
    "\n",
    "\n",
    "\"\"\""
   ]
  },
  {
   "cell_type": "code",
   "execution_count": 98,
   "metadata": {},
   "outputs": [],
   "source": [
    "text = text.lower().replace(\"  \",\" \")"
   ]
  },
  {
   "cell_type": "code",
   "execution_count": 99,
   "metadata": {},
   "outputs": [
    {
     "data": {
      "text/plain": [
       "'krish kari 8450 cambridge st, houston, tx - 77054 | 7134976768 | krishkari50@gmail.com | website summary •\\texpertise in leveraging metrics, statistical analysis and visualization tools to dive deep into complex issues while deriving actionable results from operational and enterprise data. •\\texperience in extracting raw data from structured and unstructured data sources, transforming it using python, sql, regular expressions, and loading into an enterprise data warehouse (extract-transform-load).  •\\twide array of experiences in interpreting and analyzing data using statistical techniques and systems.  •\\thands-on experience in data design and analysis using powerbi, solving complex business problems.  •\\tstrong understanding of crm databases/systems, to query and analyze customer data.  •\\texperience with powerbi, tableau, ms excel, ms access and sql server reporting services (ssrs).  •\\textensive experience in in-depth data analysis on different databases and structures.  •\\tstrong knowledge in writing advanced sql queries, sub-queries, and joins.  •\\texperience in designing stunning visualizations using powerbi, tableau, microstrategy, spotfire, d3.js and publishing and presenting dashboards on web and desktop platforms.  education masters in industrial engineering | may 2017 | university of houston | gpa- 3.3 •\\trelevant course work: probability & statistics, statistical process control, enterprise operations and business intelligence, management in information systems, advanced linear optimization. bachelor of technology in mechanical engineering | may 2015 | jntuk | gpa- 3.5 skills & abilities reporting tools\\tpowerbi, tableau, microstrategy, spotfire, ssrs bi tools\\tpowerbi, micro strategy, tableau, sap-pa, spotfire, qlik business modeling\\tmicrosoft visio data modeling\\tmicrosoft sql server analysis services programming languages\\tpython, r databases\\tmysql, sql server, oracle sql, postgresql applications/ide\\tpycharm, eclipse, minitab, msoffice suite, ms visio, document management\\tvisual source safe 6.0, share point, ultra edit operating systems\\twindows, unix, linux  experience senior business intelligence analyst | bluesprig pediatrics | jul 2019 – present •\\towns all dashboards for the business, and work with all stakeholders and partners to ensure all the dashboards are accurate. •\\tresponsible for all the technical implementations and documentations associated with the operations dashboards and strive for 100% accuracy. •\\tprovided insight on the strategy and operating performance of the businesses for executive reviews and strategy summits. •\\tperform ad hoc analyses to identify opportunities and pain points for the business and find creative solutions. •\\twork cross-functionally with other departments to provide visibility and insight into how their kpis affect the company operations. •\\tdesign new metrics and enhance existing metrics to support the future state of business processes and ensure sustainability. •\\tcollaborate cross-functionally with business function owners to drive strategic initiatives forward. •\\tconduct sophisticated analysis and modeling using powerbi that translates data into actionable insights and supports business development. •\\tpartnered with internal stakeholders on several projects to identify and articulate opportunities, see beyond the data to identify solutions that raised the bar for decision making.  •\\trecommended and driven process changes based on robust analysis of operational data and user behavior to improve overall business performance.  python developer | at&t | feb 2018 – april 2018 •\\tevaluated data for distribution, classification and correlation.  •\\tdeveloped a python tool that automates the manual conversion of specification file to cloudify blueprint. •\\tdesigned and developed interactive dashboards from real-time data using tableau. •\\tperformed statistical data validation using python to ensure accuracy of findings.  •\\tconducted sales and business analysis using multiple tools: excel, python and tableau. •\\tdeveloped reports with complex formulas/equations using excel, access and tableau. •\\tclearly and effectively presented information to internal stakeholders.  •\\tworked with reporting team and created the required data visualization dash boards on tableau with all the required filters.  •\\tworking closely with internal clients in accumulating the metric definitions, data visualization requirements to design a dynamic process. workforce analyst | sodexo | jun 2017 – jan 2018 •\\tthe project consisted of three stages: •\\t1) initial workforce analysis and providing recommendations to improve productivity, •\\t2) conducting data analytics on labor metrics, and identifying critical issues like excessive overtime, absenteeism, ineffective scheduling, and improving efficient temp labor utilization,  •\\t3) developing an on-demand business intelligence dashboard for visibility into cost and performance metrics, monitoring kpis in microstrategy and tableau.  responsibilities:  •\\tanalyzed workforce data for 10,000 cost-centers and developed predictive linear regression model in python with scikit-learn to estimate labor utilization and expected annual labor costs per cost-center. •\\tdeveloped extract-transform-load program in python to extract employee data from different data sources (ms sql server, kronos, ms access), completed denormalization and aggregation of data for subsequent statistical analysis. •\\tdeveloped bi dashboard in microstrategy for real-time kpi monitoring: overtime hours, scheduling effectiveness, clock punch %, absenteeism and accidental overtime. •\\tapplied linear regression in python to understand the relationship between different attributes of dataset and causal relationship between them, applied ridge, lasso regressions with l1 regularization and identified statistically significant factors influencing overtime.  •\\tdesigned custom reports, charts, tables and data visualization dashboards using tableau for business development teams to support decision-making process.  •\\tinvolved in translating the business requirements into data requirements mainly focusing on reducing temp labor costs by detail analysis on labor scheduling. •\\tcreated customized ad-hoc reports and processes for analysis purpose.  projects | university of houston | jan 2016 – may 2017 advanced linear optimization     developed a model to maximize revenue for 36 product varieties that are manufactured at three different locations. laid out a production and transportation plan that minimizes production costs and transportation costs using advanced linear optimization techniques (microsoft excel and python) ` illium inc. transactional data analysis •\\tconducted investigative analysis on the mass transaction data of ilium inc. used tibco-spotfire & python to identify root-causes for key problems. •\\tperformed regression analysis to find the correlation between several kpi’s (factory efficiencies, lot sizes, etc.) and product costs. •\\tdesigned an interactive dashboard in spotfire, that tracks products with most delivery issues, and calculate overall csi (customer satisfaction index) for selected region of focus.   statistical process control •\\thistorical output power data of solar cells is analyzed to improve the process capability of the manufacturing plant. •\\tdata collection – responsible for establishing the correct data exchange system by manual tables (microsoft excel, access, minitab).  •\\tresponsible to review analysis in the forms of, but not limited to, histograms, pareto charts, time series trend line, statistical process control charts, anova, six sigma score and rates and means. •\\tcreated access database and built a dashboard in tableau, as a temporary solution, to continuously monitor the control charts and the quality scores when new data is appended to database tables. •\\timproved process capability by 35% for a solar cell manufacturing plant by identifying and recommending corrective actions for the possible reasons for out of control outputs from the solar module.  sap-erp simulation •\\thands on experience on sap predictive analytics; created regression models and conducted hypothesis testing on forecasting the sales and production requirements for a cereal company with 12 product varieties. •\\tco-ordinated with cross-functional team to plan, execute and strategically implement the decisions by observing key performance indicators from historical analysis. •\\tteam was awarded 1st place for methodology and 2nd based on final revenue score.  junior data analyst | vikas technologies | jan 2015 – dec 2015 •\\tresponsible for various daily reporting assignments summarizing sales activity for several business  units.  •\\tresponsible for data aggregation, data pre-processing, missing value imputation and descriptive and inferential analysis.  •\\tused sql, minitab, ms access and excel for creating summaries, running summary statistics and result tables. •\\tcreated and presented impactful tableau dashboards and excel visualizations to team members and clients to improve system efficiencies and reduce total expenses. •\\tparticipated in team projects and brainstorming sessions to assess various methodologies for study designs. •\\tcommunicated with technical and non-technical end users, providing clear explanation of procedures used and results obtained from data analysis tasks.     '"
      ]
     },
     "execution_count": 99,
     "metadata": {},
     "output_type": "execute_result"
    }
   ],
   "source": [
    "text = text.replace(\"\\n\",\" \")\n",
    "text"
   ]
  },
  {
   "cell_type": "code",
   "execution_count": 100,
   "metadata": {},
   "outputs": [
    {
     "name": "stdout",
     "output_type": "stream",
     "text": [
      "             Statistics     Machine Learning       Programming  \\\n",
      "0    statistical models    linear regression  machine learning   \n",
      "1  statistical modeling  logistic regression     deep learning   \n",
      "2           probability              K means                 r   \n",
      "3   normal distribution        random forest            ggplot   \n",
      "4  poisson distribution              xgboost            python   \n",
      "\n",
      "  BI and Reporting         database            general  sponsorship  \n",
      "0            excel            azure  business analysis  sponsorship  \n",
      "1          powerbi              aws            finance          NaN  \n",
      "2         power bi              ec2      data analysis          NaN  \n",
      "3  reporting tools  amazon redshift           customer          NaN  \n",
      "4            kpi's           docker          behaviour          NaN  \n"
     ]
    },
    {
     "data": {
      "text/plain": [
       "<matplotlib.axes._subplots.AxesSubplot at 0x215cfba21d0>"
      ]
     },
     "execution_count": 100,
     "metadata": {},
     "output_type": "execute_result"
    },
    {
     "data": {
      "image/png": "[encoded data removed]",
      "text/plain": [
       "<Figure size 432x288 with 1 Axes>"
      ]
     },
     "metadata": {},
     "output_type": "display_data"
    }
   ],
   "source": [
    "\n",
    "keyword_dict = pd.read_csv('C:/Users/kkari/Desktop/dev/LinkedIn_extractor/Anaconda/skills.csv')\n",
    "print(keyword_dict.head())\n",
    "\n",
    "stats_words = [nlp(text) for text in keyword_dict['Statistics'].dropna(axis = 0)]\n",
    "ML_words = [nlp(text) for text in keyword_dict['Machine Learning'].dropna(axis = 0)]\n",
    "programming_words = [nlp(text) for text in keyword_dict['Programming'].dropna(axis = 0)]\n",
    "bi_words = [nlp(text) for text in keyword_dict['BI and Reporting'].dropna(axis = 0)]\n",
    "sponsorship_words = [nlp(text) for text in keyword_dict['sponsorship'].dropna(axis = 0)]\n",
    "database_words = [nlp(text) for text in keyword_dict['database'].dropna(axis = 0)]\n",
    "general_words = [nlp(text) for text in keyword_dict['general'].dropna(axis = 0)]\n",
    "\n",
    "\n",
    "matcher = PhraseMatcher(nlp.vocab)\n",
    "\n",
    "matcher.add('Stats', None, *stats_words)\n",
    "matcher.add('ML', None, *ML_words)\n",
    "matcher.add('Programming', None, *programming_words)\n",
    "matcher.add('bi', None, *bi_words)\n",
    "matcher.add('sponsorship', None, *sponsorship_words)\n",
    "matcher.add('database', None, *database_words)\n",
    "matcher.add('general', None, *general_words)\n",
    "\n",
    "doc = nlp(text)\n",
    "\n",
    "d = []  \n",
    "matches = matcher(doc)\n",
    "for match_id, start, end in matches:\n",
    "    rule_id = nlp.vocab.strings[match_id]  # get the unicode ID, i.e. 'COLOR'\n",
    "    span = doc[start : end]  # get the matched slice of the doc\n",
    "    d.append((rule_id, span.text))   \n",
    "d\n",
    "\n",
    "keywords = \"\\n\".join(f'{i[0]} {i[1]} ({j})' for i,j in Counter(d).items())\n",
    "\n",
    "df = pd.read_csv(StringIO(keywords),names = ['Keywords_List'])\n",
    "df1 = pd.DataFrame(df.Keywords_List.str.split(' ',1).tolist(),columns = ['Subject','Keyword'])\n",
    "df2 = pd.DataFrame(df1.Keyword.str.split('(',1).tolist(),columns = ['Keyword', 'Count'])\n",
    "df3 = pd.concat([df1['Subject'],df2['Keyword'], df2['Count']], axis =1) \n",
    "df3['Count'] = df3['Count'].apply(lambda x: int(x.rstrip(\")\")))\n",
    "\n",
    "df3.groupby(['Subject']).sum().plot(kind = \"barh\")"
   ]
  },
  {
   "cell_type": "code",
   "execution_count": 101,
   "metadata": {},
   "outputs": [
    {
     "data": {
      "text/html": [
       "<div>\n",
       "<style scoped>\n",
       "    .dataframe tbody tr th:only-of-type {\n",
       "        vertical-align: middle;\n",
       "    }\n",
       "\n",
       "    .dataframe tbody tr th {\n",
       "        vertical-align: top;\n",
       "    }\n",
       "\n",
       "    .dataframe thead th {\n",
       "        text-align: right;\n",
       "    }\n",
       "</style>\n",
       "<table border=\"1\" class=\"dataframe\">\n",
       "  <thead>\n",
       "    <tr style=\"text-align: right;\">\n",
       "      <th></th>\n",
       "      <th>Subject</th>\n",
       "      <th>Keyword</th>\n",
       "      <th>Count</th>\n",
       "    </tr>\n",
       "  </thead>\n",
       "  <tbody>\n",
       "    <tr>\n",
       "      <th>0</th>\n",
       "      <td>bi</td>\n",
       "      <td>metrics</td>\n",
       "      <td>5</td>\n",
       "    </tr>\n",
       "    <tr>\n",
       "      <th>1</th>\n",
       "      <td>general</td>\n",
       "      <td>analysis</td>\n",
       "      <td>18</td>\n",
       "    </tr>\n",
       "    <tr>\n",
       "      <th>2</th>\n",
       "      <td>Programming</td>\n",
       "      <td>python</td>\n",
       "      <td>11</td>\n",
       "    </tr>\n",
       "    <tr>\n",
       "      <th>3</th>\n",
       "      <td>database</td>\n",
       "      <td>sql</td>\n",
       "      <td>8</td>\n",
       "    </tr>\n",
       "    <tr>\n",
       "      <th>4</th>\n",
       "      <td>bi</td>\n",
       "      <td>powerbi</td>\n",
       "      <td>6</td>\n",
       "    </tr>\n",
       "  </tbody>\n",
       "</table>\n",
       "</div>"
      ],
      "text/plain": [
       "       Subject    Keyword  Count\n",
       "0           bi   metrics       5\n",
       "1      general  analysis      18\n",
       "2  Programming    python      11\n",
       "3     database       sql       8\n",
       "4           bi   powerbi       6"
      ]
     },
     "execution_count": 101,
     "metadata": {},
     "output_type": "execute_result"
    }
   ],
   "source": [
    "df3.head()"
   ]
  },
  {
   "cell_type": "code",
   "execution_count": 102,
   "metadata": {},
   "outputs": [
    {
     "data": {
      "text/plain": [
       "<matplotlib.axes._subplots.AxesSubplot at 0x215cfbb4a90>"
      ]
     },
     "execution_count": 102,
     "metadata": {},
     "output_type": "execute_result"
    },
    {
     "data": {
      "image/png": "[encoded data removed]",
      "text/plain": [
       "<Figure size 432x288 with 1 Axes>"
      ]
     },
     "metadata": {},
     "output_type": "display_data"
    }
   ],
   "source": [
    "df3.groupby(['Keyword']).sum().plot(kind = \"barh\")"
   ]
  },
  {
   "cell_type": "code",
   "execution_count": 103,
   "metadata": {},
   "outputs": [],
   "source": [
    "text_1 = \"\"\"'krish kari 8450 cambridge st, houston, tx - 77054 | 7134976768 | krishkari50@gmail.com | website summary •\\texpertise in leveraging metrics, statistical analysis and visualization tools to dive deep into complex issues while deriving actionable results from operational and enterprise data. •\\texperience in extracting raw data from structured and unstructured data sources, transforming it using python, sql, regular expressions, and loading into an enterprise data warehouse (extract-transform-load).  •\\twide array of experiences in interpreting and analyzing data using statistical techniques and systems.  •\\thands-on experience in data design and analysis using powerbi, solving complex business problems.  •\\tstrong understanding of crm databases/systems, to query and analyze customer data.  •\\texperience with powerbi, tableau, ms excel, ms access and sql server reporting services (ssrs).  •\\textensive experience in in-depth data analysis on different databases and structures.  •\\tstrong knowledge in writing advanced sql queries, sub-queries, and joins.  •\\texperience in designing stunning visualizations using powerbi, tableau, microstrategy, spotfire, d3.js and publishing and presenting dashboards on web and desktop platforms.  education masters in industrial engineering | may 2017 | university of houston | gpa- 3.3 •\\trelevant course work: probability & statistics, statistical process control, enterprise operations and business intelligence, management in information systems, advanced linear optimization. bachelor of technology in mechanical engineering | may 2015 | jntuk | gpa- 3.5 skills & abilities reporting tools\\tpowerbi, tableau, microstrategy, spotfire, ssrs bi tools\\tpowerbi, micro strategy, tableau, sap-pa, spotfire, qlik business modeling\\tmicrosoft visio data modeling\\tmicrosoft sql server analysis services programming languages\\tpython, r databases\\tmysql, sql server, oracle sql, postgresql applications/ide\\tpycharm, eclipse, minitab, msoffice suite, ms visio, document management\\tvisual source safe 6.0, share point, ultra edit operating systems\\twindows, unix, linux  experience senior business intelligence analyst | bluesprig pediatrics | jul 2019 – present •\\towns all dashboards for the business, and work with all stakeholders and partners to ensure all the dashboards are accurate. •\\tresponsible for all the technical implementations and documentations associated with the operations dashboards and strive for 100% accuracy. •\\tprovided insight on the strategy and operating performance of the businesses for executive reviews and strategy summits. •\\tperform ad hoc analyses to identify opportunities and pain points for the business and find creative solutions. •\\twork cross-functionally with other departments to provide visibility and insight into how their kpis affect the company operations. •\\tdesign new metrics and enhance existing metrics to support the future state of business processes and ensure sustainability. •\\tcollaborate cross-functionally with business function owners to drive strategic initiatives forward. •\\tconduct sophisticated analysis and modeling using powerbi that translates data into actionable insights and supports business development. •\\tpartnered with internal stakeholders on several projects to identify and articulate opportunities, see beyond the data to identify solutions that raised the bar for decision making.  •\\trecommended and driven process changes based on robust analysis of operational data and user behavior to improve overall business performance.  python developer | at&t | feb 2018 – april 2018 •\\tevaluated data for distribution, classification and correlation.  •\\tdeveloped a python tool that automates the manual conversion of specification file to cloudify blueprint. •\\tdesigned and developed interactive dashboards from real-time data using tableau. •\\tperformed statistical data validation using python to ensure accuracy of findings.  •\\tconducted sales and business analysis using multiple tools: excel, python and tableau. •\\tdeveloped reports with complex formulas/equations using excel, access and tableau. •\\tclearly and effectively presented information to internal stakeholders.  •\\tworked with reporting team and created the required data visualization dash boards on tableau with all the required filters.  •\\tworking closely with internal clients in accumulating the metric definitions, data visualization requirements to design a dynamic process. workforce analyst | sodexo | jun 2017 – jan 2018 •\\tthe project consisted of three stages: •\\t1) initial workforce analysis and providing recommendations to improve productivity, •\\t2) conducting data analytics on labor metrics, and identifying critical issues like excessive overtime, absenteeism, ineffective scheduling, and improving efficient temp labor utilization,  •\\t3) developing an on-demand business intelligence dashboard for visibility into cost and performance metrics, monitoring kpis in microstrategy and tableau.  responsibilities:  •\\tanalyzed workforce data for 10,000 cost-centers and developed predictive linear regression model in python with scikit-learn to estimate labor utilization and expected annual labor costs per cost-center. •\\tdeveloped extract-transform-load program in python to extract employee data from different data sources (ms sql server, kronos, ms access), completed denormalization and aggregation of data for subsequent statistical analysis. •\\tdeveloped bi dashboard in microstrategy for real-time kpi monitoring: overtime hours, scheduling effectiveness, clock punch %, absenteeism and accidental overtime. •\\tapplied linear regression in python to understand the relationship between different attributes of dataset and causal relationship between them, applied ridge, lasso regressions with l1 regularization and identified statistically significant factors influencing overtime.  •\\tdesigned custom reports, charts, tables and data visualization dashboards using tableau for business development teams to support decision-making process.  •\\tinvolved in translating the business requirements into data requirements mainly focusing on reducing temp labor costs by detail analysis on labor scheduling. •\\tcreated customized ad-hoc reports and processes for analysis purpose.  projects | university of houston | jan 2016 – may 2017 advanced linear optimization     developed a model to maximize revenue for 36 product varieties that are manufactured at three different locations. laid out a production and transportation plan that minimizes production costs and transportation costs using advanced linear optimization techniques (microsoft excel and python) ` illium inc. transactional data analysis •\\tconducted investigative analysis on the mass transaction data of ilium inc. used tibco-spotfire & python to identify root-causes for key problems. •\\tperformed regression analysis to find the correlation between several kpi’s (factory efficiencies, lot sizes, etc.) and product costs. •\\tdesigned an interactive dashboard in spotfire, that tracks products with most delivery issues, and calculate overall csi (customer satisfaction index) for selected region of focus.   statistical process control •\\thistorical output power data of solar cells is analyzed to improve the process capability of the manufacturing plant. •\\tdata collection – responsible for establishing the correct data exchange system by manual tables (microsoft excel, access, minitab).  •\\tresponsible to review analysis in the forms of, but not limited to, histograms, pareto charts, time series trend line, statistical process control charts, anova, six sigma score and rates and means. •\\tcreated access database and built a dashboard in tableau, as a temporary solution, to continuously monitor the control charts and the quality scores when new data is appended to database tables. •\\timproved process capability by 35% for a solar cell manufacturing plant by identifying and recommending corrective actions for the possible reasons for out of control outputs from the solar module.  sap-erp simulation •\\thands on experience on sap predictive analytics; created regression models and conducted hypothesis testing on forecasting the sales and production requirements for a cereal company with 12 product varieties. •\\tco-ordinated with cross-functional team to plan, execute and strategically implement the decisions by observing key performance indicators from historical analysis. •\\tteam was awarded 1st place for methodology and 2nd based on final revenue score.  junior data analyst | vikas technologies | jan 2015 – dec 2015 •\\tresponsible for various daily reporting assignments summarizing sales activity for several business  units.  •\\tresponsible for data aggregation, data pre-processing, missing value imputation and descriptive and inferential analysis.  •\\tused sql, minitab, ms access and excel for creating summaries, running summary statistics and result tables. •\\tcreated and presented impactful tableau dashboards and excel visualizations to team members and clients to improve system efficiencies and reduce total expenses. •\\tparticipated in team projects and brainstorming sessions to assess various methodologies for study designs. •\\tcommunicated with technical and non-technical end users, providing clear explanation of procedures used and results obtained from data analysis tasks.\"\"\"\n",
    "text_2 = \"\"\"'bridge partners is an agile and innovative consulting firm primarily serving large technology enterprises in marketing, sales and operations. bridge partners is growing rapidly, expanding nationally and wants to create a working and career development environment where our employees can be their genuine selves and allow their own natural talents and interests to contribute to the firm’s success, as well as their own.position description the analytics consultant will serve the primary function of delivering strategy, products, or services that improve the ability of a client or set of clients to make data-driven decisions for our analytics practice. this role is focused on listening to requirements from clients or internal audiences and aligning an analytical process to answer a question or describe a behavior leveraging data and tools available. the ideal candidate needs to be very familiar with various analytics tools and databases; have an area of expertise within analytics, and ideally will be able to think creatively across approaches and apply a method that aligns to the business question. you will need to have hands-on experience either building advanced analytical models (regression, machine learning, etc.) and/or direct involvement in applying the outcomes of advanced analytics models to improve or optimize a business process.essential duties and responsibilitieswork directly with bridge partners consulting customers as well as internal teams to construct, deliver, and optimize advanced analytics solutions. primary responsibilities include: gathering requirements from clients, asking clarifying questions to identify the business objective and constraints that may apply to the analytical process.create architecture, process flow, and roadmap documentation to illustrate how clients can achieve analytics outcomes and objectives.work with senior cross-functional roles across an enterprise to identify key dependencies and roles/responsibilities in achieving outcomes.assist clients in prioritizing initiatives based on level of effort and expected benefit.distill raw data elements and assess importance in explaining key business outcomes, sometimes via direct data access and statistical testing/modeling.describe benefits of various advanced analytics methodologies and assist clients in deciding on the relevant approach.leverage knowledge of open source and 3rd party products and solutions to drive development and deployment of analytical solutions and architecturestrack multiple assigned projects to completion, including technical development of modeling methods.required knowledge, skills and experience ·      6-8+ years full time experience in an analytically based function (e.g. quantitative marketing, analytics)·      strategic mindset with the ability to think broadly, refine questions and develop analytical frameworks that drive to key insights and business recommendations·      strong sense of pragmatism and business judgment to ensure insights and recommendations lead to execution, action and impact·      experience with sql and business intelligence tools (tableau, powerbi, qliksense, microstrategy, looker, cognos, domo etc.) is required·      experience with data storage, tools and technologies is preferred.·      strong data presentation, visualization and communication skills·      familiarity with statistical programming languages and packages (sas, spss, r, python)·      effective at communicating insights and creating a story from data analysis in order to influence change·      strong attention to detail, along with organization and time management skills·      ability to build and foster productive working relationships with cross-functional teams·      self-starter who desires to discover trends and find actionable information·      bachelor’s degree in a relevant field (computer science, economics, statistics, applied math, etc.)due to the high volume of applications, we are not able to respond to every resume we receive. local seattle area candidates only, please. thank you for your understanding. bridge partners llc is an eeo employer'\"\"\"\n",
    "text_nikhil = \"\"\"Certified Tableau Professional/ Power BI Developer\n",
    "\n",
    "Nikhil Tiyyagura\n",
    "(937)-705-9183 | nikhilreddy745@gmail.com\n",
    "PROFESSIONAL SUMMARY\n",
    " Dedicated and highly accomplished Business Intelligence professional with 3+ years of experience.\n",
    " Excelled in critical and analytical skills, negotiating &amp; completing projects accurately, on time &amp; within budget.\n",
    " Expertise in creating Dashboards, Scorecards, drill down reports, Standard reports, Views, Pivot tables, Charts for\n",
    "Data analysis using Power BI and Tableau.\n",
    " Served as Power BI admin and performed key operations like scheduled refresh, creating Power Apps, workspace\n",
    "management, maintaining Azure security groups, and user role assignment.\n",
    " Worked extensively on Tableau desktop and server to design, create, and maintain reports and dashboards that\n",
    "monitor performance measurement, scorecards, and KPIs.\n",
    " Established reports and visualizations by connecting to various data sources (SAP HANA, MS SQL Server, MS\n",
    "Access, Share Point, Excel, CSV).\n",
    " Insight statistical knowledge with p-value, A/B testing, UAT, hypothesis testing, linear regression and logistic\n",
    "regression.\n",
    " Experience in extracting data from data sources and transforming it using SQL and R.\n",
    " Good knowledge in creating SQL objects like tables, indexes, triggers, user defined data types and functions.\n",
    " Strong knowledge in writing SQL queries, joins, and Nested queries.\n",
    " Outstanding communication, presentation, problem-solving &amp; relationship-management skills.\n",
    " Team player with good logical reasoning ability, coordination and able to complete projects independently.\n",
    " Prowess in generating actionable insights, comprehensive professional skills on solving complex challenges.\n",
    ".\n",
    "TECHNICAL EXPERTISE\n",
    "Power BI, Tableau, Excel, SAP HANA, Snowflake, MS SQL Server, MS Access, SQL, DAX, RDBMS, OLAP,\n",
    "Regression Modeling, Linear Optimization, Python, R, JMP, Minitab, Forecasting, Design of Experiments,\n",
    "Microsoft Visio.\n",
    "CERTIFICATION\n",
    " Tableau Desktop Specialist (Candidate ID: 1011579)\n",
    "WORK EXPERIENCE\n",
    "Programmer Analyst/ IT Technical Lead May 2019 – Present\n",
    "ABARTA Coca – Cola Beverages, Pittsburgh, PA\n",
    " Designed and developed whole end to end reporting process based on CONA requirements.\n",
    " Developed scripts to load data into Power BI and worked with multiple data connections including Access, SQL\n",
    "Server, and SAP HANA.\n",
    " Organized and led meetings with business stakeholders to clarify and document reporting requirements.\n",
    " Created calculation views using HANA SQL and GUI from SAP tables and existing views as per reporting needs.\n",
    " Used custom SQL to import the data into Power BI from SAP HANA views and live connection in Power BI.\n",
    " Performed data transformation operations in the query editor for data cleansing and other transformations.\n",
    " Developed reports using the data imported in the local Power BI environment for Finance, Sales, Warehouse,\n",
    "Supply chain, Delivery Execution, Production, and Fleet departments.\n",
    " Published reports into Power BI premium on CONA tenant and made them available to local business users.\n",
    " Created and maintained Azure active directory groups for maintaining developed workspaces for each department\n",
    "users and admins.\n",
    " Scheduled reports to refresh on daily, weekly and monthly basis to meet business requirements.\n",
    " Involved and represented my company in weekly shared bottler BI production support, BI bottler and team\n",
    "meetings along with the other bottlers.\n",
    "\n",
    " Created new Power BI reports based on existing Analysis for Office reports and performed Ad-HOC reporting on\n",
    "daily basis to meet the business user demands.\n",
    " Documented the dashboard needs, critical success factors of the business, related KPIs and the designs.\n",
    " Participated in the COSMOS DB and Azure Data Warehouse Proof of Concept processes.\n",
    " Completed several huge data extracts and performed ETL operations for an internal project.\n",
    "Business Analyst/ Tableau Developer Jun 2018 – Apr 2019\n",
    "MeritOne Inc, Detroit, MI\n",
    " Interact with Business users and Product Managers in gathering data requirements, analyzing the data, translating\n",
    "data into actionable insights and delivered well-designed reports and dashboards.\n",
    " Excelled in developing data modeling and Business Intelligence reports in Tableau.\n",
    " Involved in gathering requirements from the client and identify metrics using Excel, Tableau and questionnaires.\n",
    " Created a single data source that stores information from different marketing channels and developed dashboards\n",
    "in Tableau to continuously monitor revenue streams.\n",
    " Developed end to end reporting pipeline by establishing standard practices for clean and accurate data collection.\n",
    " Ensured stable data flow from multiple marketing platforms, which led to easy monitoring of KPI’s.\n",
    " Identified critical data collection points and made sure that the data is accurate and created SOP(Standard\n",
    "Operating Procedures for data collection).\n",
    " Drive weekly Operations meeting and provide insights from analyzed data, to drive several KPI’s for business.\n",
    " Reviewed trends in data sets, used SQL query operations to filter the data to understand the opportunities for\n",
    "clients.\n",
    " Building, publishing customized interactive reports and dashboards, report scheduling using Tableau server.\n",
    "Data Analyst Jul 2017 – Apr 2018\n",
    "Dayton- Phoenix Group, Dayton, OH\n",
    " Provided in-depth analysis that involves compiling and analyzing large data sets using statistical methods and\n",
    "optimization modeling tools and presenting the results in a detailed format using Power BI, that drives\n",
    "management decision making.\n",
    " Support the manufacturing leadership team in prioritizing &amp; resolving current manufacturing issues.\n",
    " Implemented advanced statistic methods such as analysis of variance (ANOVA), regression, linear models,\n",
    "variance concepts, and statistical process control (SPC) using JMP and Minitab.\n",
    " Imported and exported data from text files, saved queries, or databases; used automatic outlining, inserted\n",
    "subtotals, created advanced filters, and used database functions.\n",
    " Created pivot tables and charts using worksheet data and external resources, modified pivot tables, sorted items\n",
    "and group data, and refreshed and formatted pivot tables.\n",
    " Created new forecasting model that consolidated different markets leading to quicker, more dynamic forecasts and\n",
    "greater efficiencies; Dealt with time series data (decomposition, forecasting).\n",
    " From analyzing sales and inventory data, decreased warehouse costs by 35% by eliminating dead inventory.\n",
    " Performed statistical analysis and hypothesis testing.\n",
    " Created KPI by item to assist in reducing inventory and cutting warehouse costs.\n",
    "Jr. Data Analyst Dec 2014 – Dec 2015\n",
    "Sri Ram Techno Solutions, Hyderabad, India\n",
    " Created/ Updated database objects like tables, views, stored procedures, functions and packages.\n",
    " Tested and debugged the stored procedures and used triggers to test the validity of the data after the insert,\n",
    "update or delete.\n",
    " Imported SQL server data from multiple data sources into PowerPivot for Excel.\n",
    " Implemented Drill through and hyperlinks in Tableau dashboards.\n",
    " Created and presented impactful Tableau Dashboards and Excel visualizations to team members and clients to\n",
    "improve system efficiencies and reduce total expenses.\n",
    " Participated in team projects and brainstorming sessions to assess various methodologies for study designs.\n",
    " Communicated with technical and non-technical end users, providing clear explanation of procedures used and\n",
    "results obtained from data analysis tasks.\n",
    " Oversee all analytics operations to correct discrepancies and ensure data quality.\"\"\""
   ]
  },
  {
   "cell_type": "code",
   "execution_count": 104,
   "metadata": {},
   "outputs": [],
   "source": [
    "corpus = [\"I'd like an apple\", \n",
    "           \"An apple a day keeps the doctor away\", \n",
    "           \"Never compare an apple to an orange\", \n",
    "           \"I prefer scikit-learn to Orange\", \n",
    "           \"The scikit-learn docs are Orange and Blue\"] "
   ]
  },
  {
   "cell_type": "code",
   "execution_count": 105,
   "metadata": {},
   "outputs": [],
   "source": [
    "from sklearn.feature_extraction.text import TfidfVectorizer\n",
    "vect = TfidfVectorizer(min_df=1, stop_words=\"english\")"
   ]
  },
  {
   "cell_type": "code",
   "execution_count": 106,
   "metadata": {},
   "outputs": [
    {
     "data": {
      "text/plain": [
       "TfidfVectorizer(analyzer='word', binary=False, decode_error='strict',\n",
       "        dtype=<class 'numpy.int64'>, encoding='utf-8', input='content',\n",
       "        lowercase=True, max_df=1.0, max_features=None, min_df=1,\n",
       "        ngram_range=(1, 1), norm='l2', preprocessor=None, smooth_idf=True,\n",
       "        stop_words='english', strip_accents=None, sublinear_tf=False,\n",
       "        token_pattern='(?u)\\\\b\\\\w\\\\w+\\\\b', tokenizer=None, use_idf=True,\n",
       "        vocabulary=None)"
      ]
     },
     "execution_count": 106,
     "metadata": {},
     "output_type": "execute_result"
    }
   ],
   "source": [
    "vect"
   ]
  },
  {
   "cell_type": "code",
   "execution_count": 107,
   "metadata": {},
   "outputs": [],
   "source": [
    "tfidf = vect.fit_transform(corpus)"
   ]
  },
  {
   "cell_type": "code",
   "execution_count": 108,
   "metadata": {},
   "outputs": [],
   "source": [
    "pairwise_similarity = tfidf * tfidf.T "
   ]
  },
  {
   "cell_type": "code",
   "execution_count": 109,
   "metadata": {},
   "outputs": [
    {
     "data": {
      "text/plain": [
       "array([[1.        , 0.17668795, 0.27056873, 0.        , 0.        ],\n",
       "       [0.17668795, 1.        , 0.15439436, 0.        , 0.        ],\n",
       "       [0.27056873, 0.15439436, 1.        , 0.19635649, 0.16815247],\n",
       "       [0.        , 0.        , 0.19635649, 1.        , 0.54499756],\n",
       "       [0.        , 0.        , 0.16815247, 0.54499756, 1.        ]])"
      ]
     },
     "execution_count": 109,
     "metadata": {},
     "output_type": "execute_result"
    }
   ],
   "source": [
    "pairwise_similarity.toarray()\n",
    "\n"
   ]
  },
  {
   "cell_type": "code",
   "execution_count": 110,
   "metadata": {},
   "outputs": [
    {
     "name": "stdout",
     "output_type": "stream",
     "text": [
      "[nltk_data] Downloading package punkt to\n",
      "[nltk_data]     C:\\Users\\kkari\\AppData\\Roaming\\nltk_data...\n",
      "[nltk_data]   Package punkt is already up-to-date!\n",
      "0.19104457007185552\n",
      "0.7092972666062738\n",
      "0.2605556710562624\n"
     ]
    }
   ],
   "source": [
    "import nltk, string\n",
    "from sklearn.feature_extraction.text import TfidfVectorizer\n",
    "\n",
    "nltk.download('punkt') # if necessary...\n",
    "\n",
    "\n",
    "stemmer = nltk.stem.porter.PorterStemmer()\n",
    "remove_punctuation_map = dict((ord(char), None) for char in string.punctuation)\n",
    "\n",
    "def stem_tokens(tokens):\n",
    "    return [stemmer.stem(item) for item in tokens]\n",
    "\n",
    "'''remove punctuation, lowercase, stem'''\n",
    "def normalize(text):\n",
    "    return stem_tokens(nltk.word_tokenize(text.lower().translate(remove_punctuation_map)))\n",
    "\n",
    "vectorizer = TfidfVectorizer(tokenizer=normalize, stop_words='english')\n",
    "\n",
    "def cosine_sim(text1, text2):\n",
    "    tfidf = vectorizer.fit_transform([text1, text2])\n",
    "    return ((tfidf * tfidf.T).A)[0,1]\n",
    "\n",
    "\n",
    "print (cosine_sim(text_nikhil, text_2))\n",
    "print (cosine_sim('a little bird', 'a little bird chirps'))\n",
    "print (cosine_sim('a little bird', 'a little dog barks'))"
   ]
  },
  {
   "cell_type": "code",
   "execution_count": 111,
   "metadata": {},
   "outputs": [
    {
     "name": "stdout",
     "output_type": "stream",
     "text": [
      "connected_to_db\n",
      "closing conn\n"
     ]
    }
   ],
   "source": [
    "sql_0 = \"SELECT Top(1000) job_id, apply_link, description FROM job_details_l3;\"\n",
    "df_100 = read_sql_server(sql_0)"
   ]
  },
  {
   "cell_type": "code",
   "execution_count": 112,
   "metadata": {},
   "outputs": [
    {
     "data": {
      "text/html": [
       "<div>\n",
       "<style scoped>\n",
       "    .dataframe tbody tr th:only-of-type {\n",
       "        vertical-align: middle;\n",
       "    }\n",
       "\n",
       "    .dataframe tbody tr th {\n",
       "        vertical-align: top;\n",
       "    }\n",
       "\n",
       "    .dataframe thead th {\n",
       "        text-align: right;\n",
       "    }\n",
       "</style>\n",
       "<table border=\"1\" class=\"dataframe\">\n",
       "  <thead>\n",
       "    <tr style=\"text-align: right;\">\n",
       "      <th></th>\n",
       "      <th>job_id</th>\n",
       "      <th>apply_link</th>\n",
       "      <th>description</th>\n",
       "    </tr>\n",
       "  </thead>\n",
       "  <tbody>\n",
       "    <tr>\n",
       "      <th>0</th>\n",
       "      <td>1714948005</td>\n",
       "      <td>https://www.linkedin.com/jobs/view/1714948005/</td>\n",
       "      <td>Bridge Partners is an agile and innovative con...</td>\n",
       "    </tr>\n",
       "    <tr>\n",
       "      <th>1</th>\n",
       "      <td>1739370852</td>\n",
       "      <td>https://www.linkedin.com/jobs/view/1739370852/</td>\n",
       "      <td>Job Description\\n\\nThis position will gather a...</td>\n",
       "    </tr>\n",
       "    <tr>\n",
       "      <th>2</th>\n",
       "      <td>1734476870</td>\n",
       "      <td>https://www.linkedin.com/jobs/view/1734476870/</td>\n",
       "      <td>The IT Advisory role provides support to the I...</td>\n",
       "    </tr>\n",
       "    <tr>\n",
       "      <th>3</th>\n",
       "      <td>1741778570</td>\n",
       "      <td>https://www.linkedin.com/jobs/view/1741778570/</td>\n",
       "      <td>Want to use data to drive the overall business...</td>\n",
       "    </tr>\n",
       "    <tr>\n",
       "      <th>4</th>\n",
       "      <td>1743573323</td>\n",
       "      <td>https://www.linkedin.com/jobs/view/1743573323/</td>\n",
       "      <td>Address\\n\\n111 W Monroe - 115 S LaSalle\\n\\nJob...</td>\n",
       "    </tr>\n",
       "  </tbody>\n",
       "</table>\n",
       "</div>"
      ],
      "text/plain": [
       "       job_id                                      apply_link  \\\n",
       "0  1714948005  https://www.linkedin.com/jobs/view/1714948005/   \n",
       "1  1739370852  https://www.linkedin.com/jobs/view/1739370852/   \n",
       "2  1734476870  https://www.linkedin.com/jobs/view/1734476870/   \n",
       "3  1741778570  https://www.linkedin.com/jobs/view/1741778570/   \n",
       "4  1743573323  https://www.linkedin.com/jobs/view/1743573323/   \n",
       "\n",
       "                                         description  \n",
       "0  Bridge Partners is an agile and innovative con...  \n",
       "1  Job Description\\n\\nThis position will gather a...  \n",
       "2  The IT Advisory role provides support to the I...  \n",
       "3  Want to use data to drive the overall business...  \n",
       "4  Address\\n\\n111 W Monroe - 115 S LaSalle\\n\\nJob...  "
      ]
     },
     "execution_count": 112,
     "metadata": {},
     "output_type": "execute_result"
    }
   ],
   "source": [
    "df_100.head()"
   ]
  },
  {
   "cell_type": "code",
   "execution_count": 113,
   "metadata": {},
   "outputs": [],
   "source": [
    "similarity_list=[]\n",
    "sim_dict = {}\n",
    "for index,row in df_100.iterrows():\n",
    "    try:\n",
    "        job_id = row['job_id']\n",
    "        description = row['description']\n",
    "        apply_link = row['apply_link']\n",
    "        similarity_list.append(cosine_sim(text_1, description))\n",
    "        job_items_list=[]\n",
    "        if job_id not in sim_dict:\n",
    "            job_items_list=[apply_link,cosine_sim(text_nikhil, description)]\n",
    "            sim_dict[job_id] = job_items_list\n",
    "            \n",
    "    except:\n",
    "        continue\n"
   ]
  },
  {
   "cell_type": "code",
   "execution_count": 114,
   "metadata": {},
   "outputs": [
    {
     "name": "stdout",
     "output_type": "stream",
     "text": [
      "[0.2213139854776258, 0.17751778263256593, 0.29682872187796117, 0.3203354473110223, 0.15574054718858693, 0.2597804887717496, 0.23310845343354575, 0.10594113658992649, 0.10025073905756048, 0.23120681119230135, 0.1539691918159507, 0.2596185717120294, 0.22832648862809657, 0.2455692471122779, 0.2762293549135527, 0.24142864289016505, 0.0977296663756957, 0.15148715841348387, 0.19382894106076531, 0.2273473774812378, 0.2728009372067664, 0.17396577062508092, 0.1462856761037501, 0.1941220438921507, 0.3238534712413091, 0.10613244311519741, 0.17539243819227296, 0.22764991106810029, 0.1786479206108891, 0.11581354989322978, 0.14594615994743237, 0.19575182772949734, 0.35486501288621425, 0.2613349245742127, 0.1940490430406399, 0.3019713635184712, 0.23262763783757523, 0.23957119994198345, 0.22311976766220554, 0.20845792734659438, 0.30491261733837616, 0.25131843788464625, 0.26687312376147054, 0.03223636027390079, 0.20786924046005814, 0.26218287089526077, 0.17245977598881493, 0.06783208513777751, 0.20157000293790003, 0.18266627753440307, 0.12115709774151791, 0.18237585301876932, 0.22309551829537808, 0.3144025733508254, 0.0898435838321688, 0.2597760077412269, 0.16701410042001416, 0.053131737939532006, 0.27327344926474034, 0.16066608145359118, 0.2776560886879632, 0.14755021034710397, 0.18293072453088804, 0.3531479377419595, 0.2312907922849676, 0.1451119425274022, 0.1807897314804014, 0.16106125990439285, 0.477586683367508, 0.20070318381352337, 0.09517583037032178, 0.18430364012967967, 0.32563432671747583, 0.15687568746571406, 0.3170483022270561, 0.16518136205256423, 0.22158570187663928, 0.2151434862369538, 0.1702004065919678, 0.17013478377041716, 0.16845155381440308, 0.14236167320459184, 0.2344447076336538, 0.28609793883644097, 0.1258025668981175, 0.2251496107528372, 0.14814451250046973, 0.1373019176315864, 0.29045023573578477, 0.16236822142042032, 0.3018643862673531, 0.18479753341246707, 0.2889518300990472, 0.10109028300648498, 0.17287605950982912, 0.19756832939874963, 0.1858644898223799, 0.07682829732536552, 0.29313939750768003, 0.14616481673383308, 0.24264929138910596, 0.2820516473952027, 0.2991025065921221, 0.15840709482447904, 0.2101635409072621, 0.1611995650879476, 0.2088266578108675, 0.11890791707164071, 0.21445002938091257, 0.4451247315841594, 0.10545222426360745, 0.2492710490383431, 0.18542359861547272, 0.336044124739944, 0.17923131312987955, 0.2894144232003767, 0.2463100364017023, 0.28256747364235896, 0.2603223238845912, 0.18276801615025384, 0.18290783252467988, 0.2664868451569252, 0.28141888385573166, 0.3399959595572203, 0.28838379767151756, 0.15621798052510147, 0.25207845555585057, 0.28585821805958644, 0.26132450996018547, 0.19194753680532786, 0.15251442817357866, 0.16488353749568208, 0.2548874588895523, 0.16658701528937947, 0.26936930359485817, 0.233388351002465, 0.29031924461147185, 0.23543270932706603, 0.15288399440576889, 0.2289184970388673, 0.16121633494206491, 0.26797044649032664, 0.2532218888681582, 0.30764111083323226, 0.06257310751951929, 0.22515332995988377, 0.29322733017537894, 0.2326807851560541, 0.17920707604316483, 0.2738951596134625, 0.17067213164514566, 0.16086570573895104, 0.2364757745471064, 0.17619568297567015, 0.23508172959350493, 0.24119069556833989, 0.25529038826033956, 0.2912307366434826, 0.2540308599463225, 0.30752758807032304, 0.27049284213694136, 0.1417546381354361, 0.2070477933654301, 0.31751408024838595, 0.30326206651470095, 0.2960599787975647, 0.26309659219228554, 0.23436276459714747, 0.247240806940211, 0.24117499386019658, 0.07189115019456381, 0.27824822384219927, 0.11730577665403638, 0.21869961734059168, 0.22545994477415143, 0.19410106923966744, 0.2465553416422777, 0.24072162064134622, 0.19008531761398403, 0.21103665088233153, 0.21990543861876763, 0.205391924538348, 0.1276276376094604, 0.2767730057980828, 0.3164147743219653, 0.2973635123066636, 0.18183610195366331, 0.22415196257101433, 0.24788431470106634, 0.21441064172062355, 0.330628251313493, 0.16474036859589758, 0.26223082771799505, 0.31168409122374174, 0.17876507247414317, 0.35249455136972385, 0.20786924046005814, 0.2991915356386871, 0.17166623844916462, 0.12601982860107394, 0.20532795995782246, 0.17880094276040553, 0.20556055495220707, 0.26539430665554603, 0.17521009300325316, 0.2991787752781684, 0.2886853722032723, 0.14228952411247495, 0.19937802691085985, 0.23591695725418718, 0.09552639464421729, 0.15823761192122554, 0.1612211298138784, 0.22315532316583014, 0.31625234106259625, 0.2293807207340922, 0.2609534679531645, 0.2545026901881852, 0.15848882693997154, 0.28078180776796974, 0.25943925556929465, 0.2973520742852338, 0.2866239486378153, 0.10937225342722573, 0.32505040694474713, 0.2418778179112626, 0.33245732187262533, 0.2481666861186075, 0.20428601620413073, 0.28836717129157124, 0.31309182609296643, 0.19536587914691958, 0.10496672114762762, 0.1424791410239517, 0.13525205264838278, 0.12150286238927716, 0.33158656452310153, 0.1971236534357301, 0.211658738941785, 0.18583407486174464, 0.24842035746061936, 0.32827085781761955, 0.3706866403022766, 0.2301519597032479, 0.3059496800919518, 0.2974339066521819, 0.29588498352153253, 0.2668629771187061, 0.2911429687123334, 0.29000473185151143, 0.2059817465390554, 0.2455692471122779, 0.2764675759986231, 0.25381696507886514, 0.26210199510917637, 0.30700070095450105, 0.350321258334639, 0.16963652697071005, 0.25659805721842727, 0.3568627904372257, 0.13463024690210246, 0.16682665614008285, 0.2455699819960848, 0.22451078881803893, 0.2374120613158212, 0.31448365813901613, 0.23230928892630295, 0.28224766682829827, 0.3343035039193871, 0.2353620931617599, 0.10544445618896393, 0.26812010066604736, 0.1586977007941, 0.16891784166326546, 0.21109136643250118, 0.14934860686628265, 0.2348271005786126, 0.23267585529305498, 0.36013300723041597, 0.3137530255371316, 0.22849954861398505, 0.2505165944333038, 0.3129326078459676, 0.18285120765052737, 0.3067699821038981, 0.10309803212378542, 0.1382548362218514, 0.1272235768976783, 0.329363701833514, 0.323387016661938, 0.17221524149284326, 0.34350365368119623, 0.3679280605458899, 0.2996302805605855, 0.2963638615882109, 0.24221110690539427, 0.225195385579745, 0.21615225533350008, 0.1999338241269868, 0.24608707442498706, 0.1589959353112354, 0.28863320620567473, 0.2887959076915036, 0.30643255669069813, 0.2981439201079863, 0.194009779946765, 0.24548832180975907, 0.31727625627451606, 0.21421622834846007, 0.13407500206419654, 0.28370597077378307, 0.2172087017406176, 0.3886798106542219, 0.20835972847795778, 0.1736321780439645, 0.5786904785579091, 0.320700925681542, 0.25119618150933587, 0.31913469833787106, 0.013081471186234164, 0.25376308995773655, 0.23768676942979633, 0.16618902160185875, 0.3471086111289832, 0.2574009435078031, 0.21763083155691057, 0.28766063215061605, 0.33649021885331226, 0.33199872752918425, 0.23194940403944847, 0.29738961476580117, 0.20532795995782246, 0.29418176470785945, 0.2752556916320732, 0.29447088092545, 0.24703062096029518, 0.17166623844916462, 0.09147570002197714, 0.22213021536660763, 0.0, 0.14654714161212604, 0.23335829029863991, 0.20567901483724105, 0.30234727220573615, 0.28435089852021256, 0.2514169742215419, 0.32861859775786406, 0.21570151439532806, 0.3070905472720684, 0.23957685899953332, 0.30811071308692856, 0.28868046592872654, 0.1415368864380643, 0.03223636027390079, 0.2606009137448699, 0.17166623844916462, 0.23436276459714747, 0.2701403935190791, 0.33557799905736435, 0.20263844993213165, 0.24731079099407105, 0.26401555709117647, 0.31613418616382966, 0.2665090964369798, 0.33283743759902185, 0.14712398389900017, 0.28826140483208756, 0.3213796014123078, 0.23013485765847352, 0.2662105837652569, 0.1520731811348976, 0.22213387720982608, 0.2221159091132508, 0.3333667698451328, 0.21481006067203284, 0.16465038299588883, 0.28046240501519043, 0.21526615275848204, 0.25202543856464626, 0.29341237646564083, 0.28171320187374255, 0.2336503892344322, 0.34707523762647935, 0.2076948328178577, 0.2155422172068635, 0.22979065962337997, 0.08875813704684515, 0.2772329864171666, 0.2389983777742296, 0.17421322241842885, 0.35368189637039604, 0.1852355386908321, 0.22863255434100602, 0.22676307240271132, 0.1835866414885943, 0.160829192010499, 0.0939444467787181, 0.25980678790406525, 0.2160835748959691, 0.3251576444379324, 0.24840675077696678, 0.2269087429293734, 0.19797699889187786, 0.171533928591411, 0.5098847716745002, 0.21269318212564292, 0.2580878522121737, 0.3540652113480562, 0.3575991291422275, 0.35976513367668844, 0.26445949323097656, 0.22530510435236334, 0.199849684644892, 0.16976961735963977, 0.3019058389005918, 0.23871724252334153, 0.22863688201510823, 0.28308902360092353, 0.352223837432649, 0.29183364649831905, 0.14789979090752153, 0.23291562103575011, 0.18629512899750403, 0.2503814489125869, 0.22980618349847132, 0.24563801841085528, 0.28323537809612276, 0.31429597348370436, 0.31889488090625434, 0.29983696933339393, 0.25116894725150213, 0.23341725133335905, 0.3546355997652007, 0.3728156400512304, 0.2779914846148282, 0.25598506236839186, 0.23007109775110776, 0.0650244495911739, 0.21108774984790932, 0.2286895998773956, 0.15755608361189047, 0.29000370988574975, 0.12807806193790308, 0.2598065548406466, 0.18871013054614208, 0.22095676983033063, 0.29513257559499106, 0.1271089164812406, 0.28550289389511624, 0.22063717158176124, 0.21672581183431758, 0.32730149562849264, 0.325759096096414, 0.2819108417892477, 0.2952342400437694, 0.33239975230957247, 0.22884457699327784, 0.1992223097753997, 0.19629069583983313, 0.34498458756314726, 0.33300184572754293, 0.20325362406013042, 0.16046734604251534, 0.197575177132475, 0.27049284213694136, 0.26584275858278966, 0.16488353749568208, 0.33164530332841635, 0.22311976766220554, 0.19838648822409408, 0.16632368139934423, 0.2552576586725378, 0.25372473129984524, 0.1718156943318714, 0.2332055293166095, 0.24446141279648326, 0.317694079964979, 0.23336270719329064, 0.19822381072641165, 0.1227975603650085, 0.16415655131118875, 0.32902467200053237, 0.17744358930454895, 0.23987169528998095, 0.2635000791609748, 0.23871724252334153, 0.19935739402502758, 0.16851029074039045, 0.32180469090384123, 0.20397880082217068, 0.2635943934356218, 0.34697991604671086, 0.11829170433286379, 0.17592122058642673, 0.2549250997150244, 0.30074269035504503, 0.07836302028891429, 0.31079196660680214, 0.20758506034236857, 0.2098709604815125, 0.2538388040499308, 0.2467232843653591, 0.315223652778252, 0.21416577407601697, 0.22888919113865738, 0.24372922042504014, 0.2910202487473732, 0.2228180504421373, 0.14982084658592873, 0.20588284536094484, 0.2927825225350111, 0.27413425865542956, 0.22531292111526433, 0.28237085131999445, 0.215597243980196, 0.43843309355134963, 0.2922322640283498, 0.18365651149103746, 0.2513667119290791, 0.26535176611140804, 0.2943158997448555, 0.25559264988664604, 0.3315951536673081, 0.183095020127358, 0.20815097039713082, 0.27463599964357727, 0.29763723253910224, 0.20808245018061067, 0.20242040253055593, 0.25753851129798827, 0.1201793304464207, 0.2971227222278621, 0.32038696222842716, 0.19458933937418899, 0.26634843605721875, 0.3463793874975993, 0.16959050731195813, 0.30284539746059014, 0.28195694804344545, 0.2688199129095866, 0.2874601529690448, 0.30837530127455554, 0.2713907578658684, 0.22793419031050713, 0.2257979372069854, 0.31185561272788537, 0.29049828341062606, 0.3229268641497811, 0.21115525273482483, 0.21573375675187548, 0.3881698675418967, 0.20394682476182605, 0.1065567770911751, 0.2832690827145635, 0.27282394341606897, 0.36731650865617355, 0.14998172442238486, 0.1750745457081844, 0.2913681510351818, 0.20375660609224658, 0.2841379898305666, 0.3080692525382513, 0.29191667773669266, 0.33225138575584906, 0.3239341722799743, 0.2861747582841832, 0.24543988542303405, 0.20846890527109266, 0.16848710552389531, 0.23436276459714747, 0.2852917103085657, 0.25470260919040183, 0.1061752509231442, 0.26339692796691244, 0.30734650863123053, 0.27549403545597256, 0.27876283656332185, 0.19604951982013896, 0.2489814520105935, 0.26211623354518915, 0.1585229043346792, 0.37275813308451516, 0.33356380001273545, 0.26739448412403705, 0.25332544897682974, 0.40992549635349945, 0.3142239753416467, 0.2212644129948807, 0.1764518060035973, 0.24122736521525387, 0.21519597557636422, 0.32449950346823153, 0.24272188910199455, 0.27424505619920503, 0.20313704233841365, 0.1685583975077084, 0.28053217419251053, 0.13188809185005113, 0.2969855058586292, 0.24231201320137827, 0.20921112439623837, 0.2418140618642157, 0.30962158770538856, 0.2181733917371424, 0.30248012903274757, 0.1743982051937867, 0.19186648466671796, 0.2669659427917776, 0.2246828001116553, 0.24042455352845893, 0.21682766258331673, 0.28636852557558556, 0.2162850414037361, 0.21172889907592635, 0.3161307200585382, 0.27975927651424104, 0.2767730057980828, 0.31856640977668027, 0.12040401329267547, 0.188505524788777, 0.2530193370455808, 0.16783030850535713, 0.16488353749568208, 0.3051089097309585, 0.19673211293021803, 0.19487700484996356, 0.19190931175057646, 0.19577017658578882, 0.2723982495144344, 0.28677786867711613, 0.2661178650934618, 0.31234241718253314, 0.29615416015642565, 0.46958494964585656, 0.21233936888793586, 0.24683797091241824, 0.10471424340669686, 0.3307243486004385, 0.2312723972714464, 0.10935014919221445, 0.28257192187339986, 0.294958059974058, 0.24902572267016043, 0.3214386613426076, 0.17817705114224114, 0.15409380864266967, 0.3001032692067404, 0.1985421477316473, 0.2797421020029334, 0.32738671704118927, 0.19839970226763085, 0.26716631599090834, 0.04016306372682244, 0.24901949817304564, 0.26752690154953784, 0.29482216427675934, 0.20478421155782978, 0.22233820976753127, 0.21487914245943576, 0.24781935004453012, 0.3073129328306553, 0.10211661277818408, 0.058922843525899375, 0.16046734604251534, 0.24774570818470285, 0.27046923155959485, 0.22120119694896656, 0.23619306726981468, 0.20633493582628631, 0.22863634164570312, 0.19873685718165593, 0.1589486242806478, 0.25398450533254757, 0.2310090673679964, 0.34303226446205937, 0.16053964617007752, 0.2599740565616559, 0.29618555553336534, 0.2950870783536981, 0.2521372656179742, 0.18221241153845696, 0.1173034450409412, 0.2075158788522675, 0.1972966622565679, 0.24960266249236282, 0.2767241190664333, 0.2507928872591373, 0.2018655564309471, 0.10474651834686764, 0.165579698730742, 0.20417064834353976, 0.29005973681587144, 0.22563136155147331, 0.28043381959093105, 0.18418019681054515, 0.24481141999709308, 0.2356439619891194, 0.29737130735545036, 0.16711111445722326, 0.33658273175602044, 0.035998671104880295, 0.17976032770468828, 0.2078575743336729, 0.2738107123515051, 0.10429796993427654, 0.19525855902757644, 0.2944569603579694, 0.28281671844712825, 0.23763365390250105, 0.348327959184262, 0.20668151165242354, 0.2224850596675564, 0.2081310393643662, 0.18696302537231185, 0.1462856761037501, 0.30178010932949123, 0.3483600957637612, 0.22273496790881323, 0.16905372441876015, 0.22218092442786033, 0.24482888041883472, 0.05067271234189682, 0.22978735918322002, 0.12641884331853925, 0.14988139036298798, 0.16766815521621417, 0.14762218009423267, 0.20586600259586615, 0.26463581595938135, 0.3010254327515355, 0.2919839244719151, 0.3137198933287677, 0.2021534849867289, 0.28283404131540185, 0.21741443624118056, 0.3843650435065733, 0.15337009938592894, 0.17950451413421453, 0.27888503280459265, 0.2981225979496893, 0.1106019218247255, 0.26589212557937036, 0.30014028620869776, 0.17433433604596568, 0.3353389019378407, 0.24627678041930354, 0.1661198617294782, 0.3080523189659383, 0.22277620138366191, 0.0962391553023039, 0.2791845356715112, 0.17573179198273498, 0.29310106027405686, 0.2592706473748027, 0.247240806940211, 0.2930076988761422, 0.2131871542119414, 0.27032479171941, 0.2652324859895637, 0.2077001858962099, 0.22590315884056678, 0.21148938260039912, 0.3069774941261999, 0.14722645554020813, 0.15246848725925755, 0.23655772399104547, 0.31708903896310253, 0.18365651149103746, 0.14165622411929243, 0.47489050364984153, 0.2886330678744855, 0.24486253244236092, 0.2943495730382151, 0.26018303632548084, 0.21918552259917445, 0.12020067878600371, 0.2618203376198585, 0.12985440061272896, 0.28521942155914193, 0.3527270084385843, 0.2803315602911952, 0.2656279594759367, 0.627939140448001, 0.3017602005562817, 0.18633404415911708, 0.3644405325215562, 0.20497728428432743, 0.299474896669994, 0.33867899909154303, 0.25218705309819966, 0.18739757825367861, 0.22044440048052616, 0.2565076337428975, 0.21866504938124526, 0.273507693341359, 0.24811592250594255, 0.21330476287610925, 0.3466503239920575, 0.3364204048120074, 0.23819929098440895, 0.21686291083079207, 0.26949811136280327, 0.23507704091322634, 0.1185325874212377, 0.32156320662982424, 0.23898686250778792, 0.1388370636961807, 0.2838227617818568, 0.08607296821315988, 0.16250784089236112, 0.18723442797930864, 0.31288889009732523, 0.24616670304119573, 0.1315971113684138, 0.2463791328293293, 0.15083325664720854, 0.17099563351263616, 0.12251277426417995, 0.20757393429668894, 0.3571920023076028, 0.27113050288058727, 0.20618021791945007, 0.3325147744455365, 0.20631078373067388, 0.3147824113258959, 0.2903656458316037, 0.29256529313029866, 0.24394657901987293, 0.2548022203494068, 0.24217418402413202, 0.2836213978657833, 0.13195430162532595, 0.1916150840872941, 0.23694637413945477, 0.24767922103653175, 0.17913418596357467, 0.31581806685571423, 0.30425567866940806, 0.15467258949518917, 0.2531196006945626, 0.22443080658315967, 0.23019630663605375, 0.332022928221047, 0.10822514920435251, 0.28259190429006686, 0.17773754678481296, 0.30234727220573615, 0.34275815437450374, 0.12201182977420463, 0.10234439493759345, 0.24565708961448895, 0.24311587109351093, 0.2251543473428351, 0.1702733340266379, 0.23552442077009278, 0.35137889818408613, 0.13027868732228434, 0.22592877941849954, 0.1619003997122989, 0.27382108071268263, 0.192186001188616, 0.2647898771564442, 0.32850925347139665, 0.33178028313992064, 0.10418649942407135, 0.3189077708629601, 0.2886279147222985, 0.2959042815313009, 0.14831394094862532, 0.29156236101711075, 0.24855151493813593, 0.12595367832306878, 0.21809423708024167, 0.2530846855566781, 0.15478055545465977, 0.33279860011161766, 0.22151454077144977, 0.1682525659315347, 0.23403129427096486, 0.21410436220819573, 0.23951437465688288, 0.22261857111874458, 0.22909309875286638, 0.2901242739794614, 0.2742729459135903, 0.3221185455535361, 0.3607265887488639, 0.2636899371179632, 0.2837398877761765, 0.16150678542583422, 0.2453636556020943, 0.6401324601102675, 0.25331854184218505, 0.24305513678292864, 0.2664348128093442, 0.2834733904564471, 0.3403150242720773, 0.26824662404342514, 0.2078646441824326, 0.13525205264838278, 0.2823626885106532, 0.25653584290191445, 0.13560032289165427, 0.14443172098749796, 0.33121576970933353, 0.15598111260562825, 0.13792962341189413, 0.2151943968647723, 0.26361964027147217, 0.28439031352030114, 0.1276276376094604, 0.299270090707876, 0.30759459707104925, 0.19715412048785932, 0.19671776760358503, 0.16362125896731533, 0.28892794123909143, 0.26213893481186606, 0.25207845555585057, 0.2668145121413566, 0.23597760635883186, 0.2778239411946105, 0.1804770689085515, 0.25152954356819013, 0.12804513518835348, 0.32532569492391755, 0.22869204017748881, 0.2216009772479179, 0.20299469128015923, 0.3666717327039466, 0.24959935932902014, 0.269438888204866, 0.2134505156447954, 0.35517052488833256, 0.2454280629159681, 0.2664034528619383, 0.3043998245572811, 0.18142525204029236, 0.27466868247708653, 0.28800699376199385, 0.20598250333544102, 0.16431810432371682, 0.2833095937735942, 0.17666710997688848, 0.2098768224581435, 0.24364449600382543, 0.2953337236553643, 0.2760384995548985, 0.14332815057874232, 0.3308667301868325, 0.21060567706089164, 0.1942141184959521, 0.16787617081668127, 0.18244490549644662, 0.12355926025939137, 0.20557757276240235, 0.3150927788371466, 0.1927470917652138, 0.23543270932706603, 0.3110469584902156, 0.3583778939016455, 0.26218287089526077, 0.2345731679718559, 0.3007051329320913, 0.1957161329601514, 0.20141532338063936, 0.21267375152493395, 0.23146608993887385, 0.10968885965904263, 0.1776257733673276, 0.2284342916130308, 0.3022739003305235, 0.3463277411147434, 0.1503774592910738, 0.16515640201888082, 0.22428128488429155, 0.20006621915317938, 0.29756416355345267, 0.2609544011168423, 0.2889053489050143, 0.14578595047630263, 0.2928012612538534, 0.2817077281189114, 0.15785338737276122, 0.24393140335456123, 0.27069987485647296, 0.39126887266097443, 0.34677050653908725, 0.3351206227931817, 0.1647166935771588, 0.2681735907429253]\n"
     ]
    }
   ],
   "source": [
    "print(similarity_list)"
   ]
  },
  {
   "cell_type": "code",
   "execution_count": 115,
   "metadata": {},
   "outputs": [
    {
     "name": "stdout",
     "output_type": "stream",
     "text": [
      "0.6401324601102675\n"
     ]
    }
   ],
   "source": [
    "print(max(similarity_list))"
   ]
  },
  {
   "cell_type": "code",
   "execution_count": 116,
   "metadata": {},
   "outputs": [],
   "source": [
    "for key,val in sim_dict.items():\n",
    "#     if val == max(similarity_list):\n",
    "    if val[1] ==0.30491261733837616:\n",
    "        exec_job_id = key\n",
    "        print(key,val)"
   ]
  },
  {
   "cell_type": "code",
   "execution_count": 118,
   "metadata": {},
   "outputs": [
    {
     "ename": "NameError",
     "evalue": "name 'exec_job_id' is not defined",
     "output_type": "error",
     "traceback": [
      "\u001b[1;31m---------------------------------------------------------------------------\u001b[0m",
      "\u001b[1;31mNameError\u001b[0m                                 Traceback (most recent call last)",
      "\u001b[1;32m<ipython-input-118-8a465b549f74>\u001b[0m in \u001b[0;36m<module>\u001b[1;34m()\u001b[0m\n\u001b[1;32m----> 1\u001b[1;33m \u001b[0msql_1\u001b[0m \u001b[1;33m=\u001b[0m \u001b[1;34m\"SELECT * FROM job_details_l3 WHERE job_id =\"\u001b[0m \u001b[1;33m+\u001b[0m  \u001b[0mexec_job_id\u001b[0m \u001b[1;33m+\u001b[0m \u001b[1;34m\";\"\u001b[0m\u001b[1;33m\u001b[0m\u001b[0m\n\u001b[0m",
      "\u001b[1;31mNameError\u001b[0m: name 'exec_job_id' is not defined"
     ]
    }
   ],
   "source": [
    "sql_1 = \"SELECT * FROM job_details_l3 WHERE job_id =\" +  exec_job_id + \";\""
   ]
  },
  {
   "cell_type": "code",
   "execution_count": 119,
   "metadata": {},
   "outputs": [
    {
     "ename": "NameError",
     "evalue": "name 'sql_1' is not defined",
     "output_type": "error",
     "traceback": [
      "\u001b[1;31m---------------------------------------------------------------------------\u001b[0m",
      "\u001b[1;31mNameError\u001b[0m                                 Traceback (most recent call last)",
      "\u001b[1;32m<ipython-input-119-95c38484ffd7>\u001b[0m in \u001b[0;36m<module>\u001b[1;34m()\u001b[0m\n\u001b[1;32m----> 1\u001b[1;33m \u001b[0mdf_top\u001b[0m \u001b[1;33m=\u001b[0m \u001b[0mread_sql_server\u001b[0m\u001b[1;33m(\u001b[0m\u001b[0msql_1\u001b[0m\u001b[1;33m)\u001b[0m\u001b[1;33m\u001b[0m\u001b[0m\n\u001b[0m",
      "\u001b[1;31mNameError\u001b[0m: name 'sql_1' is not defined"
     ]
    }
   ],
   "source": [
    "df_top = read_sql_server(sql_1)"
   ]
  },
  {
   "cell_type": "code",
   "execution_count": 380,
   "metadata": {},
   "outputs": [
    {
     "data": {
      "text/plain": [
       "0    https://www.linkedin.com/jobs/view/1742759568/\n",
       "Name: apply_link, dtype: object"
      ]
     },
     "execution_count": 380,
     "metadata": {},
     "output_type": "execute_result"
    }
   ],
   "source": [
    "df_top['apply_link']"
   ]
  },
  {
   "cell_type": "code",
   "execution_count": 120,
   "metadata": {},
   "outputs": [],
   "source": [
    "import pandas as pd\n",
    "\n",
    "new_df = pd.DataFrame.from_dict(sim_dict, orient='index')\n"
   ]
  },
  {
   "cell_type": "code",
   "execution_count": 121,
   "metadata": {},
   "outputs": [],
   "source": [
    "path = 'C:/Users/kkari/Desktop/dev/LinkedIn_extractor/Anaconda/similarity_result.csv'"
   ]
  },
  {
   "cell_type": "code",
   "execution_count": 122,
   "metadata": {},
   "outputs": [],
   "source": [
    "new_df.to_csv(path)"
   ]
  },
  {
   "cell_type": "code",
   "execution_count": 123,
   "metadata": {},
   "outputs": [
    {
     "name": "stdout",
     "output_type": "stream",
     "text": [
      "3.8.0\n"
     ]
    }
   ],
   "source": [
    "import gensim\n",
    "# upgrade gensim if you can't import softcossim\n",
    "from gensim.matutils import softcossim \n",
    "from gensim import corpora\n",
    "import gensim.downloader as api\n",
    "from gensim.utils import simple_preprocess\n",
    "print(gensim.__version__)"
   ]
  },
  {
   "cell_type": "code",
   "execution_count": 131,
   "metadata": {},
   "outputs": [],
   "source": [
    "fasttext_model300 = api.load('fasttext-wiki-news-subwords-300')"
   ]
  },
  {
   "cell_type": "code",
   "execution_count": 388,
   "metadata": {},
   "outputs": [],
   "source": [
    "# dictionary = corpora.Dictionary([simple_preprocess(doc) for doc in documents])"
   ]
  },
  {
   "cell_type": "code",
   "execution_count": 124,
   "metadata": {},
   "outputs": [],
   "source": [
    "doc_1 = df_100['description'][0].lower()\n",
    "# doc_1_dict = corpora.Dictionary(simple_preprocesses(doc_1))\n",
    "doc_1_texts = [[text for text in doc_1.split()] for doc in doc_1]\n",
    "# doc_1_texts\n",
    "doc_1_dict = corpora.Dictionary(doc_1_texts)\n"
   ]
  },
  {
   "cell_type": "code",
   "execution_count": 125,
   "metadata": {},
   "outputs": [],
   "source": [
    "# print(doc_1_dict.token2id)\n",
    "text_1 = \"\"\"'krish kari 8450 cambridge st, houston, tx - 77054 | 7134976768 | krishkari50@gmail.com | website summary •\\texpertise in leveraging metrics, statistical analysis and visualization tools to dive deep into complex issues while deriving actionable results from operational and enterprise data. •\\texperience in extracting raw data from structured and unstructured data sources, transforming it using python, sql, regular expressions, and loading into an enterprise data warehouse (extract-transform-load).  •\\twide array of experiences in interpreting and analyzing data using statistical techniques and systems.  •\\thands-on experience in data design and analysis using powerbi, solving complex business problems.  •\\tstrong understanding of crm databases/systems, to query and analyze customer data.  •\\texperience with powerbi, tableau, ms excel, ms access and sql server reporting services (ssrs).  •\\textensive experience in in-depth data analysis on different databases and structures.  •\\tstrong knowledge in writing advanced sql queries, sub-queries, and joins.  •\\texperience in designing stunning visualizations using powerbi, tableau, microstrategy, spotfire, d3.js and publishing and presenting dashboards on web and desktop platforms.  education masters in industrial engineering | may 2017 | university of houston | gpa- 3.3 •\\trelevant course work: probability & statistics, statistical process control, enterprise operations and business intelligence, management in information systems, advanced linear optimization. bachelor of technology in mechanical engineering | may 2015 | jntuk | gpa- 3.5 skills & abilities reporting tools\\tpowerbi, tableau, microstrategy, spotfire, ssrs bi tools\\tpowerbi, micro strategy, tableau, sap-pa, spotfire, qlik business modeling\\tmicrosoft visio data modeling\\tmicrosoft sql server analysis services programming languages\\tpython, r databases\\tmysql, sql server, oracle sql, postgresql applications/ide\\tpycharm, eclipse, minitab, msoffice suite, ms visio, document management\\tvisual source safe 6.0, share point, ultra edit operating systems\\twindows, unix, linux  experience senior business intelligence analyst | bluesprig pediatrics | jul 2019 – present •\\towns all dashboards for the business, and work with all stakeholders and partners to ensure all the dashboards are accurate. •\\tresponsible for all the technical implementations and documentations associated with the operations dashboards and strive for 100% accuracy. •\\tprovided insight on the strategy and operating performance of the businesses for executive reviews and strategy summits. •\\tperform ad hoc analyses to identify opportunities and pain points for the business and find creative solutions. •\\twork cross-functionally with other departments to provide visibility and insight into how their kpis affect the company operations. •\\tdesign new metrics and enhance existing metrics to support the future state of business processes and ensure sustainability. •\\tcollaborate cross-functionally with business function owners to drive strategic initiatives forward. •\\tconduct sophisticated analysis and modeling using powerbi that translates data into actionable insights and supports business development. •\\tpartnered with internal stakeholders on several projects to identify and articulate opportunities, see beyond the data to identify solutions that raised the bar for decision making.  •\\trecommended and driven process changes based on robust analysis of operational data and user behavior to improve overall business performance.  python developer | at&t | feb 2018 – april 2018 •\\tevaluated data for distribution, classification and correlation.  •\\tdeveloped a python tool that automates the manual conversion of specification file to cloudify blueprint. •\\tdesigned and developed interactive dashboards from real-time data using tableau. •\\tperformed statistical data validation using python to ensure accuracy of findings.  •\\tconducted sales and business analysis using multiple tools: excel, python and tableau. •\\tdeveloped reports with complex formulas/equations using excel, access and tableau. •\\tclearly and effectively presented information to internal stakeholders.  •\\tworked with reporting team and created the required data visualization dash boards on tableau with all the required filters.  •\\tworking closely with internal clients in accumulating the metric definitions, data visualization requirements to design a dynamic process. workforce analyst | sodexo | jun 2017 – jan 2018 •\\tthe project consisted of three stages: •\\t1) initial workforce analysis and providing recommendations to improve productivity, •\\t2) conducting data analytics on labor metrics, and identifying critical issues like excessive overtime, absenteeism, ineffective scheduling, and improving efficient temp labor utilization,  •\\t3) developing an on-demand business intelligence dashboard for visibility into cost and performance metrics, monitoring kpis in microstrategy and tableau.  responsibilities:  •\\tanalyzed workforce data for 10,000 cost-centers and developed predictive linear regression model in python with scikit-learn to estimate labor utilization and expected annual labor costs per cost-center. •\\tdeveloped extract-transform-load program in python to extract employee data from different data sources (ms sql server, kronos, ms access), completed denormalization and aggregation of data for subsequent statistical analysis. •\\tdeveloped bi dashboard in microstrategy for real-time kpi monitoring: overtime hours, scheduling effectiveness, clock punch %, absenteeism and accidental overtime. •\\tapplied linear regression in python to understand the relationship between different attributes of dataset and causal relationship between them, applied ridge, lasso regressions with l1 regularization and identified statistically significant factors influencing overtime.  •\\tdesigned custom reports, charts, tables and data visualization dashboards using tableau for business development teams to support decision-making process.  •\\tinvolved in translating the business requirements into data requirements mainly focusing on reducing temp labor costs by detail analysis on labor scheduling. •\\tcreated customized ad-hoc reports and processes for analysis purpose.  projects | university of houston | jan 2016 – may 2017 advanced linear optimization     developed a model to maximize revenue for 36 product varieties that are manufactured at three different locations. laid out a production and transportation plan that minimizes production costs and transportation costs using advanced linear optimization techniques (microsoft excel and python) ` illium inc. transactional data analysis •\\tconducted investigative analysis on the mass transaction data of ilium inc. used tibco-spotfire & python to identify root-causes for key problems. •\\tperformed regression analysis to find the correlation between several kpi’s (factory efficiencies, lot sizes, etc.) and product costs. •\\tdesigned an interactive dashboard in spotfire, that tracks products with most delivery issues, and calculate overall csi (customer satisfaction index) for selected region of focus.   statistical process control •\\thistorical output power data of solar cells is analyzed to improve the process capability of the manufacturing plant. •\\tdata collection – responsible for establishing the correct data exchange system by manual tables (microsoft excel, access, minitab).  •\\tresponsible to review analysis in the forms of, but not limited to, histograms, pareto charts, time series trend line, statistical process control charts, anova, six sigma score and rates and means. •\\tcreated access database and built a dashboard in tableau, as a temporary solution, to continuously monitor the control charts and the quality scores when new data is appended to database tables. •\\timproved process capability by 35% for a solar cell manufacturing plant by identifying and recommending corrective actions for the possible reasons for out of control outputs from the solar module.  sap-erp simulation •\\thands on experience on sap predictive analytics; created regression models and conducted hypothesis testing on forecasting the sales and production requirements for a cereal company with 12 product varieties. •\\tco-ordinated with cross-functional team to plan, execute and strategically implement the decisions by observing key performance indicators from historical analysis. •\\tteam was awarded 1st place for methodology and 2nd based on final revenue score.  junior data analyst | vikas technologies | jan 2015 – dec 2015 •\\tresponsible for various daily reporting assignments summarizing sales activity for several business  units.  •\\tresponsible for data aggregation, data pre-processing, missing value imputation and descriptive and inferential analysis.  •\\tused sql, minitab, ms access and excel for creating summaries, running summary statistics and result tables. •\\tcreated and presented impactful tableau dashboards and excel visualizations to team members and clients to improve system efficiencies and reduce total expenses. •\\tparticipated in team projects and brainstorming sessions to assess various methodologies for study designs. •\\tcommunicated with technical and non-technical end users, providing clear explanation of procedures used and results obtained from data analysis tasks.\"\"\"\n",
    "text_2 = \"\"\"'bridge partners is an agile and innovative consulting firm primarily serving large technology enterprises in marketing, sales and operations. bridge partners is growing rapidly, expanding nationally and wants to create a working and career development environment where our employees can be their genuine selves and allow their own natural talents and interests to contribute to the firm’s success, as well as their own.position description the analytics consultant will serve the primary function of delivering strategy, products, or services that improve the ability of a client or set of clients to make data-driven decisions for our analytics practice. this role is focused on listening to requirements from clients or internal audiences and aligning an analytical process to answer a question or describe a behavior leveraging data and tools available. the ideal candidate needs to be very familiar with various analytics tools and databases; have an area of expertise within analytics, and ideally will be able to think creatively across approaches and apply a method that aligns to the business question. you will need to have hands-on experience either building advanced analytical models (regression, machine learning, etc.) and/or direct involvement in applying the outcomes of advanced analytics models to improve or optimize a business process.essential duties and responsibilitieswork directly with bridge partners consulting customers as well as internal teams to construct, deliver, and optimize advanced analytics solutions. primary responsibilities include: gathering requirements from clients, asking clarifying questions to identify the business objective and constraints that may apply to the analytical process.create architecture, process flow, and roadmap documentation to illustrate how clients can achieve analytics outcomes and objectives.work with senior cross-functional roles across an enterprise to identify key dependencies and roles/responsibilities in achieving outcomes.assist clients in prioritizing initiatives based on level of effort and expected benefit.distill raw data elements and assess importance in explaining key business outcomes, sometimes via direct data access and statistical testing/modeling.describe benefits of various advanced analytics methodologies and assist clients in deciding on the relevant approach.leverage knowledge of open source and 3rd party products and solutions to drive development and deployment of analytical solutions and architecturestrack multiple assigned projects to completion, including technical development of modeling methods.required knowledge, skills and experience ·      6-8+ years full time experience in an analytically based function (e.g. quantitative marketing, analytics)·      strategic mindset with the ability to think broadly, refine questions and develop analytical frameworks that drive to key insights and business recommendations·      strong sense of pragmatism and business judgment to ensure insights and recommendations lead to execution, action and impact·      experience with sql and business intelligence tools (tableau, powerbi, qliksense, microstrategy, looker, cognos, domo etc.) is required·      experience with data storage, tools and technologies is preferred.·      strong data presentation, visualization and communication skills·      familiarity with statistical programming languages and packages (sas, spss, r, python)·      effective at communicating insights and creating a story from data analysis in order to influence change·      strong attention to detail, along with organization and time management skills·      ability to build and foster productive working relationships with cross-functional teams·      self-starter who desires to discover trends and find actionable information·      bachelor’s degree in a relevant field (computer science, economics, statistics, applied math, etc.)due to the high volume of applications, we are not able to respond to every resume we receive. local seattle area candidates only, please. thank you for your understanding. bridge partners llc is an eeo employer'\"\"\"\n",
    "text_nikhil = \"\"\"Certified Tableau Professional/ Power BI Developer\n",
    "\n",
    "Nikhil Tiyyagura\n",
    "(937)-705-9183 | nikhilreddy745@gmail.com\n",
    "PROFESSIONAL SUMMARY\n",
    " Dedicated and highly accomplished Business Intelligence professional with 3+ years of experience.\n",
    " Excelled in critical and analytical skills, negotiating &amp; completing projects accurately, on time &amp; within budget.\n",
    " Expertise in creating Dashboards, Scorecards, drill down reports, Standard reports, Views, Pivot tables, Charts for\n",
    "Data analysis using Power BI and Tableau.\n",
    " Served as Power BI admin and performed key operations like scheduled refresh, creating Power Apps, workspace\n",
    "management, maintaining Azure security groups, and user role assignment.\n",
    " Worked extensively on Tableau desktop and server to design, create, and maintain reports and dashboards that\n",
    "monitor performance measurement, scorecards, and KPIs.\n",
    " Established reports and visualizations by connecting to various data sources (SAP HANA, MS SQL Server, MS\n",
    "Access, Share Point, Excel, CSV).\n",
    " Insight statistical knowledge with p-value, A/B testing, UAT, hypothesis testing, linear regression and logistic\n",
    "regression.\n",
    " Experience in extracting data from data sources and transforming it using SQL and R.\n",
    " Good knowledge in creating SQL objects like tables, indexes, triggers, user defined data types and functions.\n",
    " Strong knowledge in writing SQL queries, joins, and Nested queries.\n",
    " Outstanding communication, presentation, problem-solving &amp; relationship-management skills.\n",
    " Team player with good logical reasoning ability, coordination and able to complete projects independently.\n",
    " Prowess in generating actionable insights, comprehensive professional skills on solving complex challenges.\n",
    ".\n",
    "TECHNICAL EXPERTISE\n",
    "Power BI, Tableau, Excel, SAP HANA, Snowflake, MS SQL Server, MS Access, SQL, DAX, RDBMS, OLAP,\n",
    "Regression Modeling, Linear Optimization, Python, R, JMP, Minitab, Forecasting, Design of Experiments,\n",
    "Microsoft Visio.\n",
    "CERTIFICATION\n",
    " Tableau Desktop Specialist (Candidate ID: 1011579)\n",
    "WORK EXPERIENCE\n",
    "Programmer Analyst/ IT Technical Lead May 2019 – Present\n",
    "ABARTA Coca – Cola Beverages, Pittsburgh, PA\n",
    " Designed and developed whole end to end reporting process based on CONA requirements.\n",
    " Developed scripts to load data into Power BI and worked with multiple data connections including Access, SQL\n",
    "Server, and SAP HANA.\n",
    " Organized and led meetings with business stakeholders to clarify and document reporting requirements.\n",
    " Created calculation views using HANA SQL and GUI from SAP tables and existing views as per reporting needs.\n",
    " Used custom SQL to import the data into Power BI from SAP HANA views and live connection in Power BI.\n",
    " Performed data transformation operations in the query editor for data cleansing and other transformations.\n",
    " Developed reports using the data imported in the local Power BI environment for Finance, Sales, Warehouse,\n",
    "Supply chain, Delivery Execution, Production, and Fleet departments.\n",
    " Published reports into Power BI premium on CONA tenant and made them available to local business users.\n",
    " Created and maintained Azure active directory groups for maintaining developed workspaces for each department\n",
    "users and admins.\n",
    " Scheduled reports to refresh on daily, weekly and monthly basis to meet business requirements.\n",
    " Involved and represented my company in weekly shared bottler BI production support, BI bottler and team\n",
    "meetings along with the other bottlers.\n",
    "\n",
    " Created new Power BI reports based on existing Analysis for Office reports and performed Ad-HOC reporting on\n",
    "daily basis to meet the business user demands.\n",
    " Documented the dashboard needs, critical success factors of the business, related KPIs and the designs.\n",
    " Participated in the COSMOS DB and Azure Data Warehouse Proof of Concept processes.\n",
    " Completed several huge data extracts and performed ETL operations for an internal project.\n",
    "Business Analyst/ Tableau Developer Jun 2018 – Apr 2019\n",
    "MeritOne Inc, Detroit, MI\n",
    " Interact with Business users and Product Managers in gathering data requirements, analyzing the data, translating\n",
    "data into actionable insights and delivered well-designed reports and dashboards.\n",
    " Excelled in developing data modeling and Business Intelligence reports in Tableau.\n",
    " Involved in gathering requirements from the client and identify metrics using Excel, Tableau and questionnaires.\n",
    " Created a single data source that stores information from different marketing channels and developed dashboards\n",
    "in Tableau to continuously monitor revenue streams.\n",
    " Developed end to end reporting pipeline by establishing standard practices for clean and accurate data collection.\n",
    " Ensured stable data flow from multiple marketing platforms, which led to easy monitoring of KPI’s.\n",
    " Identified critical data collection points and made sure that the data is accurate and created SOP(Standard\n",
    "Operating Procedures for data collection).\n",
    " Drive weekly Operations meeting and provide insights from analyzed data, to drive several KPI’s for business.\n",
    " Reviewed trends in data sets, used SQL query operations to filter the data to understand the opportunities for\n",
    "clients.\n",
    " Building, publishing customized interactive reports and dashboards, report scheduling using Tableau server.\n",
    "Data Analyst Jul 2017 – Apr 2018\n",
    "Dayton- Phoenix Group, Dayton, OH\n",
    " Provided in-depth analysis that involves compiling and analyzing large data sets using statistical methods and\n",
    "optimization modeling tools and presenting the results in a detailed format using Power BI, that drives\n",
    "management decision making.\n",
    " Support the manufacturing leadership team in prioritizing &amp; resolving current manufacturing issues.\n",
    " Implemented advanced statistic methods such as analysis of variance (ANOVA), regression, linear models,\n",
    "variance concepts, and statistical process control (SPC) using JMP and Minitab.\n",
    " Imported and exported data from text files, saved queries, or databases; used automatic outlining, inserted\n",
    "subtotals, created advanced filters, and used database functions.\n",
    " Created pivot tables and charts using worksheet data and external resources, modified pivot tables, sorted items\n",
    "and group data, and refreshed and formatted pivot tables.\n",
    " Created new forecasting model that consolidated different markets leading to quicker, more dynamic forecasts and\n",
    "greater efficiencies; Dealt with time series data (decomposition, forecasting).\n",
    " From analyzing sales and inventory data, decreased warehouse costs by 35% by eliminating dead inventory.\n",
    " Performed statistical analysis and hypothesis testing.\n",
    " Created KPI by item to assist in reducing inventory and cutting warehouse costs.\n",
    "Jr. Data Analyst Dec 2014 – Dec 2015\n",
    "Sri Ram Techno Solutions, Hyderabad, India\n",
    " Created/ Updated database objects like tables, views, stored procedures, functions and packages.\n",
    " Tested and debugged the stored procedures and used triggers to test the validity of the data after the insert,\n",
    "update or delete.\n",
    " Imported SQL server data from multiple data sources into PowerPivot for Excel.\n",
    " Implemented Drill through and hyperlinks in Tableau dashboards.\n",
    " Created and presented impactful Tableau Dashboards and Excel visualizations to team members and clients to\n",
    "improve system efficiencies and reduce total expenses.\n",
    " Participated in team projects and brainstorming sessions to assess various methodologies for study designs.\n",
    " Communicated with technical and non-technical end users, providing clear explanation of procedures used and\n",
    "results obtained from data analysis tasks.\n",
    " Oversee all analytics operations to correct discrepancies and ensure data quality.\"\"\"\n"
   ]
  },
  {
   "cell_type": "code",
   "execution_count": 129,
   "metadata": {},
   "outputs": [],
   "source": [
    "\n",
    "doc_1 = df_100['description'][0].lower()\n",
    "\n",
    "doc_1_texts = [[text for text in doc_1.split()] for doc in doc_1]\n",
    "# doc_1_texts\n",
    "# documents = [doc_1,text_nikhil]\n",
    "\n",
    "dictionary = corpora.Dictionary(doc_1_texts)\n",
    "# -----------------------------------------------------------------------------------\n",
    "doc_nikhil_texts = [[text for text in text_nikhil.split()] for doc in text_nikhil]\n",
    "\n",
    "dictionary.add_documents(doc_nikhil_texts)"
   ]
  },
  {
   "cell_type": "code",
   "execution_count": 133,
   "metadata": {},
   "outputs": [
    {
     "name": "stderr",
     "output_type": "stream",
     "text": [
      "C:\\Program Files (x86)\\Microsoft Visual Studio\\Shared\\Anaconda3_64\\lib\\site-packages\\ipykernel_launcher.py:1: DeprecationWarning: Call to deprecated `similarity_matrix` (Method will be removed in 4.0.0, use gensim.models.keyedvectors.WordEmbeddingSimilarityIndex instead).\n",
      "  \"\"\"Entry point for launching an IPython kernel.\n"
     ]
    }
   ],
   "source": [
    "similarity_matrix = fasttext_model300.similarity_matrix(doc_1_dict, tfidf=None, threshold=0.0, exponent=2.0, nonzero_limit=100)\n",
    "\n",
    "# sent_2 = \n",
    "# sent_jd = dictionary.doc2bow(simple_preprocess(text_2))\n",
    "# sent_nikhil = dictionary.doc2bow(simple_preprocess(text_nikhil))\n",
    "# sent_krish = dictionary.doc2bow(simple_preprocess(text_1))\n",
    "\n",
    "# print(softcossim(sent_jd, sent_nikhil, similarity_matrix))\n",
    "# print(softcossim(sent_jd, sent_krish, similarity_matrix))"
   ]
  },
  {
   "cell_type": "code",
   "execution_count": 135,
   "metadata": {},
   "outputs": [
    {
     "name": "stderr",
     "output_type": "stream",
     "text": [
      "C:\\Program Files (x86)\\Microsoft Visual Studio\\Shared\\Anaconda3_64\\lib\\site-packages\\ipykernel_launcher.py:6: DeprecationWarning: Call to deprecated `softcossim` (Function will be removed in 4.0.0, use gensim.similarities.termsim.SparseTermSimilarityMatrix.inner_product instead).\n",
      "  \n"
     ]
    },
    {
     "ename": "IndexError",
     "evalue": "index (849) out of range",
     "output_type": "error",
     "traceback": [
      "\u001b[1;31m---------------------------------------------------------------------------\u001b[0m",
      "\u001b[1;31mIndexError\u001b[0m                                Traceback (most recent call last)",
      "\u001b[1;32m<ipython-input-135-353d7e41afb2>\u001b[0m in \u001b[0;36m<module>\u001b[1;34m()\u001b[0m\n\u001b[0;32m      4\u001b[0m \u001b[0msent_nikhil\u001b[0m \u001b[1;33m=\u001b[0m \u001b[0mdictionary\u001b[0m\u001b[1;33m.\u001b[0m\u001b[0mdoc2bow\u001b[0m\u001b[1;33m(\u001b[0m\u001b[0msimple_preprocess\u001b[0m\u001b[1;33m(\u001b[0m\u001b[0mtext_nikhil\u001b[0m\u001b[1;33m)\u001b[0m\u001b[1;33m)\u001b[0m\u001b[1;33m\u001b[0m\u001b[0m\n\u001b[0;32m      5\u001b[0m \u001b[0msent_krish\u001b[0m \u001b[1;33m=\u001b[0m \u001b[0mdictionary\u001b[0m\u001b[1;33m.\u001b[0m\u001b[0mdoc2bow\u001b[0m\u001b[1;33m(\u001b[0m\u001b[0msimple_preprocess\u001b[0m\u001b[1;33m(\u001b[0m\u001b[0mtext_1\u001b[0m\u001b[1;33m)\u001b[0m\u001b[1;33m)\u001b[0m\u001b[1;33m\u001b[0m\u001b[0m\n\u001b[1;32m----> 6\u001b[1;33m \u001b[0mprint\u001b[0m\u001b[1;33m(\u001b[0m\u001b[0msoftcossim\u001b[0m\u001b[1;33m(\u001b[0m\u001b[0msent_jd\u001b[0m\u001b[1;33m,\u001b[0m \u001b[0msent_nikhil\u001b[0m\u001b[1;33m,\u001b[0m \u001b[0msimilarity_matrix\u001b[0m\u001b[1;33m)\u001b[0m\u001b[1;33m)\u001b[0m\u001b[1;33m\u001b[0m\u001b[0m\n\u001b[0m\u001b[0;32m      7\u001b[0m \u001b[0mprint\u001b[0m\u001b[1;33m(\u001b[0m\u001b[0msoftcossim\u001b[0m\u001b[1;33m(\u001b[0m\u001b[0msent_jd\u001b[0m\u001b[1;33m,\u001b[0m \u001b[0msent_krish\u001b[0m\u001b[1;33m,\u001b[0m \u001b[0msimilarity_matrix\u001b[0m\u001b[1;33m)\u001b[0m\u001b[1;33m)\u001b[0m\u001b[1;33m\u001b[0m\u001b[0m\n",
      "\u001b[1;32mC:\\Program Files (x86)\\Microsoft Visual Studio\\Shared\\Anaconda3_64\\lib\\site-packages\\gensim\\utils.py\u001b[0m in \u001b[0;36mnew_func1\u001b[1;34m(*args, **kwargs)\u001b[0m\n\u001b[0;32m   1445\u001b[0m                     \u001b[0mstacklevel\u001b[0m\u001b[1;33m=\u001b[0m\u001b[1;36m2\u001b[0m\u001b[1;33m\u001b[0m\u001b[0m\n\u001b[0;32m   1446\u001b[0m                 )\n\u001b[1;32m-> 1447\u001b[1;33m                 \u001b[1;32mreturn\u001b[0m \u001b[0mfunc\u001b[0m\u001b[1;33m(\u001b[0m\u001b[1;33m*\u001b[0m\u001b[0margs\u001b[0m\u001b[1;33m,\u001b[0m \u001b[1;33m**\u001b[0m\u001b[0mkwargs\u001b[0m\u001b[1;33m)\u001b[0m\u001b[1;33m\u001b[0m\u001b[0m\n\u001b[0m\u001b[0;32m   1448\u001b[0m \u001b[1;33m\u001b[0m\u001b[0m\n\u001b[0;32m   1449\u001b[0m             \u001b[1;32mreturn\u001b[0m \u001b[0mnew_func1\u001b[0m\u001b[1;33m\u001b[0m\u001b[0m\n",
      "\u001b[1;32mC:\\Program Files (x86)\\Microsoft Visual Studio\\Shared\\Anaconda3_64\\lib\\site-packages\\gensim\\matutils.py\u001b[0m in \u001b[0;36msoftcossim\u001b[1;34m(vec1, vec2, similarity_matrix)\u001b[0m\n\u001b[0;32m    881\u001b[0m     \u001b[0mvec1\u001b[0m \u001b[1;33m=\u001b[0m \u001b[0mnp\u001b[0m\u001b[1;33m.\u001b[0m\u001b[0mfromiter\u001b[0m\u001b[1;33m(\u001b[0m\u001b[1;33m(\u001b[0m\u001b[0mvec1\u001b[0m\u001b[1;33m[\u001b[0m\u001b[0mi\u001b[0m\u001b[1;33m]\u001b[0m \u001b[1;32mif\u001b[0m \u001b[0mi\u001b[0m \u001b[1;32min\u001b[0m \u001b[0mvec1\u001b[0m \u001b[1;32melse\u001b[0m \u001b[1;36m0\u001b[0m \u001b[1;32mfor\u001b[0m \u001b[0mi\u001b[0m \u001b[1;32min\u001b[0m \u001b[0mword_indices\u001b[0m\u001b[1;33m)\u001b[0m\u001b[1;33m,\u001b[0m \u001b[0mdtype\u001b[0m\u001b[1;33m=\u001b[0m\u001b[0mdtype\u001b[0m\u001b[1;33m,\u001b[0m \u001b[0mcount\u001b[0m\u001b[1;33m=\u001b[0m\u001b[0mlen\u001b[0m\u001b[1;33m(\u001b[0m\u001b[0mword_indices\u001b[0m\u001b[1;33m)\u001b[0m\u001b[1;33m)\u001b[0m\u001b[1;33m\u001b[0m\u001b[0m\n\u001b[0;32m    882\u001b[0m     \u001b[0mvec2\u001b[0m \u001b[1;33m=\u001b[0m \u001b[0mnp\u001b[0m\u001b[1;33m.\u001b[0m\u001b[0mfromiter\u001b[0m\u001b[1;33m(\u001b[0m\u001b[1;33m(\u001b[0m\u001b[0mvec2\u001b[0m\u001b[1;33m[\u001b[0m\u001b[0mi\u001b[0m\u001b[1;33m]\u001b[0m \u001b[1;32mif\u001b[0m \u001b[0mi\u001b[0m \u001b[1;32min\u001b[0m \u001b[0mvec2\u001b[0m \u001b[1;32melse\u001b[0m \u001b[1;36m0\u001b[0m \u001b[1;32mfor\u001b[0m \u001b[0mi\u001b[0m \u001b[1;32min\u001b[0m \u001b[0mword_indices\u001b[0m\u001b[1;33m)\u001b[0m\u001b[1;33m,\u001b[0m \u001b[0mdtype\u001b[0m\u001b[1;33m=\u001b[0m\u001b[0mdtype\u001b[0m\u001b[1;33m,\u001b[0m \u001b[0mcount\u001b[0m\u001b[1;33m=\u001b[0m\u001b[0mlen\u001b[0m\u001b[1;33m(\u001b[0m\u001b[0mword_indices\u001b[0m\u001b[1;33m)\u001b[0m\u001b[1;33m)\u001b[0m\u001b[1;33m\u001b[0m\u001b[0m\n\u001b[1;32m--> 883\u001b[1;33m     \u001b[0mdense_matrix\u001b[0m \u001b[1;33m=\u001b[0m \u001b[0msimilarity_matrix\u001b[0m\u001b[1;33m[\u001b[0m\u001b[1;33m[\u001b[0m\u001b[1;33m[\u001b[0m\u001b[0mi\u001b[0m\u001b[1;33m]\u001b[0m \u001b[1;32mfor\u001b[0m \u001b[0mi\u001b[0m \u001b[1;32min\u001b[0m \u001b[0mword_indices\u001b[0m\u001b[1;33m]\u001b[0m\u001b[1;33m,\u001b[0m \u001b[0mword_indices\u001b[0m\u001b[1;33m]\u001b[0m\u001b[1;33m.\u001b[0m\u001b[0mtodense\u001b[0m\u001b[1;33m(\u001b[0m\u001b[1;33m)\u001b[0m\u001b[1;33m\u001b[0m\u001b[0m\n\u001b[0m\u001b[0;32m    884\u001b[0m     \u001b[0mvec1len\u001b[0m \u001b[1;33m=\u001b[0m \u001b[0mvec1\u001b[0m\u001b[1;33m.\u001b[0m\u001b[0mT\u001b[0m\u001b[1;33m.\u001b[0m\u001b[0mdot\u001b[0m\u001b[1;33m(\u001b[0m\u001b[0mdense_matrix\u001b[0m\u001b[1;33m)\u001b[0m\u001b[1;33m.\u001b[0m\u001b[0mdot\u001b[0m\u001b[1;33m(\u001b[0m\u001b[0mvec1\u001b[0m\u001b[1;33m)\u001b[0m\u001b[1;33m[\u001b[0m\u001b[1;36m0\u001b[0m\u001b[1;33m,\u001b[0m \u001b[1;36m0\u001b[0m\u001b[1;33m]\u001b[0m\u001b[1;33m\u001b[0m\u001b[0m\n\u001b[0;32m    885\u001b[0m     \u001b[0mvec2len\u001b[0m \u001b[1;33m=\u001b[0m \u001b[0mvec2\u001b[0m\u001b[1;33m.\u001b[0m\u001b[0mT\u001b[0m\u001b[1;33m.\u001b[0m\u001b[0mdot\u001b[0m\u001b[1;33m(\u001b[0m\u001b[0mdense_matrix\u001b[0m\u001b[1;33m)\u001b[0m\u001b[1;33m.\u001b[0m\u001b[0mdot\u001b[0m\u001b[1;33m(\u001b[0m\u001b[0mvec2\u001b[0m\u001b[1;33m)\u001b[0m\u001b[1;33m[\u001b[0m\u001b[1;36m0\u001b[0m\u001b[1;33m,\u001b[0m \u001b[1;36m0\u001b[0m\u001b[1;33m]\u001b[0m\u001b[1;33m\u001b[0m\u001b[0m\n",
      "\u001b[1;32mC:\\Program Files (x86)\\Microsoft Visual Studio\\Shared\\Anaconda3_64\\lib\\site-packages\\scipy\\sparse\\csc.py\u001b[0m in \u001b[0;36m__getitem__\u001b[1;34m(self, key)\u001b[0m\n\u001b[0;32m    168\u001b[0m         \u001b[1;31m# Things that return a sequence of values.\u001b[0m\u001b[1;33m\u001b[0m\u001b[1;33m\u001b[0m\u001b[0m\n\u001b[0;32m    169\u001b[0m         \u001b[1;32melse\u001b[0m\u001b[1;33m:\u001b[0m\u001b[1;33m\u001b[0m\u001b[0m\n\u001b[1;32m--> 170\u001b[1;33m             \u001b[1;32mreturn\u001b[0m \u001b[0mself\u001b[0m\u001b[1;33m.\u001b[0m\u001b[0mT\u001b[0m\u001b[1;33m[\u001b[0m\u001b[0mcol\u001b[0m\u001b[1;33m,\u001b[0m \u001b[0mrow\u001b[0m\u001b[1;33m]\u001b[0m\u001b[1;33m\u001b[0m\u001b[0m\n\u001b[0m\u001b[0;32m    171\u001b[0m \u001b[1;33m\u001b[0m\u001b[0m\n\u001b[0;32m    172\u001b[0m     \u001b[1;32mdef\u001b[0m \u001b[0mnonzero\u001b[0m\u001b[1;33m(\u001b[0m\u001b[0mself\u001b[0m\u001b[1;33m)\u001b[0m\u001b[1;33m:\u001b[0m\u001b[1;33m\u001b[0m\u001b[0m\n",
      "\u001b[1;32mC:\\Program Files (x86)\\Microsoft Visual Studio\\Shared\\Anaconda3_64\\lib\\site-packages\\scipy\\sparse\\csr.py\u001b[0m in \u001b[0;36m__getitem__\u001b[1;34m(self, key)\u001b[0m\n\u001b[0;32m    342\u001b[0m         \u001b[1;32mif\u001b[0m \u001b[0mnum_samples\u001b[0m \u001b[1;33m==\u001b[0m \u001b[1;36m0\u001b[0m\u001b[1;33m:\u001b[0m\u001b[1;33m\u001b[0m\u001b[0m\n\u001b[0;32m    343\u001b[0m             \u001b[1;32mreturn\u001b[0m \u001b[0mcsr_matrix\u001b[0m\u001b[1;33m(\u001b[0m\u001b[0mnp\u001b[0m\u001b[1;33m.\u001b[0m\u001b[0matleast_2d\u001b[0m\u001b[1;33m(\u001b[0m\u001b[0mrow\u001b[0m\u001b[1;33m)\u001b[0m\u001b[1;33m.\u001b[0m\u001b[0mshape\u001b[0m\u001b[1;33m,\u001b[0m \u001b[0mdtype\u001b[0m\u001b[1;33m=\u001b[0m\u001b[0mself\u001b[0m\u001b[1;33m.\u001b[0m\u001b[0mdtype\u001b[0m\u001b[1;33m)\u001b[0m\u001b[1;33m\u001b[0m\u001b[0m\n\u001b[1;32m--> 344\u001b[1;33m         \u001b[0mcheck_bounds\u001b[0m\u001b[1;33m(\u001b[0m\u001b[0mrow\u001b[0m\u001b[1;33m,\u001b[0m \u001b[0mself\u001b[0m\u001b[1;33m.\u001b[0m\u001b[0mshape\u001b[0m\u001b[1;33m[\u001b[0m\u001b[1;36m0\u001b[0m\u001b[1;33m]\u001b[0m\u001b[1;33m)\u001b[0m\u001b[1;33m\u001b[0m\u001b[0m\n\u001b[0m\u001b[0;32m    345\u001b[0m         \u001b[0mcheck_bounds\u001b[0m\u001b[1;33m(\u001b[0m\u001b[0mcol\u001b[0m\u001b[1;33m,\u001b[0m \u001b[0mself\u001b[0m\u001b[1;33m.\u001b[0m\u001b[0mshape\u001b[0m\u001b[1;33m[\u001b[0m\u001b[1;36m1\u001b[0m\u001b[1;33m]\u001b[0m\u001b[1;33m)\u001b[0m\u001b[1;33m\u001b[0m\u001b[0m\n\u001b[0;32m    346\u001b[0m \u001b[1;33m\u001b[0m\u001b[0m\n",
      "\u001b[1;32mC:\\Program Files (x86)\\Microsoft Visual Studio\\Shared\\Anaconda3_64\\lib\\site-packages\\scipy\\sparse\\csr.py\u001b[0m in \u001b[0;36mcheck_bounds\u001b[1;34m(indices, N)\u001b[0m\n\u001b[0;32m    254\u001b[0m             \u001b[0mmax_indx\u001b[0m \u001b[1;33m=\u001b[0m \u001b[0mindices\u001b[0m\u001b[1;33m.\u001b[0m\u001b[0mmax\u001b[0m\u001b[1;33m(\u001b[0m\u001b[1;33m)\u001b[0m\u001b[1;33m\u001b[0m\u001b[0m\n\u001b[0;32m    255\u001b[0m             \u001b[1;32mif\u001b[0m \u001b[0mmax_indx\u001b[0m \u001b[1;33m>=\u001b[0m \u001b[0mN\u001b[0m\u001b[1;33m:\u001b[0m\u001b[1;33m\u001b[0m\u001b[0m\n\u001b[1;32m--> 256\u001b[1;33m                 \u001b[1;32mraise\u001b[0m \u001b[0mIndexError\u001b[0m\u001b[1;33m(\u001b[0m\u001b[1;34m'index (%d) out of range'\u001b[0m \u001b[1;33m%\u001b[0m \u001b[0mmax_indx\u001b[0m\u001b[1;33m)\u001b[0m\u001b[1;33m\u001b[0m\u001b[0m\n\u001b[0m\u001b[0;32m    257\u001b[0m \u001b[1;33m\u001b[0m\u001b[0m\n\u001b[0;32m    258\u001b[0m             \u001b[0mmin_indx\u001b[0m \u001b[1;33m=\u001b[0m \u001b[0mindices\u001b[0m\u001b[1;33m.\u001b[0m\u001b[0mmin\u001b[0m\u001b[1;33m(\u001b[0m\u001b[1;33m)\u001b[0m\u001b[1;33m\u001b[0m\u001b[0m\n",
      "\u001b[1;31mIndexError\u001b[0m: index (849) out of range"
     ]
    }
   ],
   "source": [
    "from gensim.utils import simple_preprocess\n",
    "\n",
    "sent_jd = dictionary.doc2bow(simple_preprocess(text_2))\n",
    "sent_nikhil = dictionary.doc2bow(simple_preprocess(text_nikhil))\n",
    "sent_krish = dictionary.doc2bow(simple_preprocess(text_1))\n",
    "print(softcossim(sent_jd, sent_nikhil, similarity_matrix))\n",
    "print(softcossim(sent_jd, sent_krish, similarity_matrix))"
   ]
  },
  {
   "cell_type": "code",
   "execution_count": null,
   "metadata": {},
   "outputs": [],
   "source": [
    "similarity_matrix = fasttext_model300.similarity_matrix(doc_1_dict, tfidf=None, threshold=0.0, exponent=2.0, nonzero_limit=100)\n",
    "print(softcossim(sent_1, sent_2, similarity_matrix))"
   ]
  },
  {
   "cell_type": "code",
   "execution_count": null,
   "metadata": {},
   "outputs": [],
   "source": [
    "#soft_cosine_similarity\n",
    "similarity_list=[]\n",
    "sim_dict = {}\n",
    "for index,row in df_100.iterrows():\n",
    "    try:\n",
    "        job_id = row['job_id']\n",
    "        description = row['description']\n",
    "        apply_link = row['apply_link']\n",
    "        similarity_list.append(cosine_sim(text_1, description))\n",
    "        job_items_list=[]\n",
    "        if job_id not in sim_dict:\n",
    "            job_items_list=[apply_link,cosine_sim(text_1, description)]\n",
    "            sim_dict[job_id] = job_items_list\n",
    "            print()\n",
    "    except:\n",
    "        continue"
   ]
  }
 ],
 "metadata": {
  "kernelspec": {
   "display_name": "Python 3",
   "language": "python",
   "name": "python3"
  },
  "language_info": {
   "codemirror_mode": {
    "name": "ipython",
    "version": 3
   },
   "file_extension": ".py",
   "mimetype": "text/x-python",
   "name": "python",
   "nbconvert_exporter": "python",
   "pygments_lexer": "ipython3",
   "version": "3.6.5"
  }
 },
 "nbformat": 4,
 "nbformat_minor": 2
}
